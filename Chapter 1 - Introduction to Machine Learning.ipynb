{
 "cells": [
  {
   "cell_type": "markdown",
   "id": "bceb77fe-95eb-40fd-9066-39b40aefe248",
   "metadata": {},
   "source": [
    "### Basic math operations"
   ]
  },
  {
   "cell_type": "code",
   "execution_count": 1,
   "id": "12ceaed1-2231-478b-ab5a-485f3a01de60",
   "metadata": {},
   "outputs": [
    {
     "data": {
      "text/plain": [
       "16"
      ]
     },
     "execution_count": 1,
     "metadata": {},
     "output_type": "execute_result"
    }
   ],
   "source": [
    "4*4"
   ]
  },
  {
   "cell_type": "code",
   "execution_count": 2,
   "id": "0e5ff72b-5385-452f-86a2-32f3995e03c6",
   "metadata": {},
   "outputs": [
    {
     "data": {
      "text/plain": [
       "42"
      ]
     },
     "execution_count": 2,
     "metadata": {},
     "output_type": "execute_result"
    }
   ],
   "source": [
    "4*4+2*4+9*2"
   ]
  },
  {
   "cell_type": "code",
   "execution_count": 3,
   "id": "bf50dd3e-2f2c-4a15-8984-1d16d591f6d0",
   "metadata": {},
   "outputs": [
    {
     "data": {
      "text/plain": [
       "1"
      ]
     },
     "execution_count": 3,
     "metadata": {},
     "output_type": "execute_result"
    }
   ],
   "source": [
    "13%2"
   ]
  },
  {
   "cell_type": "markdown",
   "id": "998eec67-bd6a-4c35-b8f7-18bb607c4c4f",
   "metadata": {},
   "source": [
    "### Assigning a variable name"
   ]
  },
  {
   "cell_type": "code",
   "execution_count": 4,
   "id": "8439734a-f80a-4e76-9dba-db5d39560cc4",
   "metadata": {},
   "outputs": [
    {
     "data": {
      "text/plain": [
       "600"
      ]
     },
     "execution_count": 4,
     "metadata": {},
     "output_type": "execute_result"
    }
   ],
   "source": [
    "x=100\n",
    "y=200\n",
    "z=300\n",
    "d=x+y+z\n",
    "d"
   ]
  },
  {
   "cell_type": "markdown",
   "id": "76feff2d-d2c4-4a75-acf4-c1bdb9ebefba",
   "metadata": {},
   "source": [
    "### Creating a string"
   ]
  },
  {
   "cell_type": "code",
   "execution_count": 5,
   "id": "618df865-fb3a-486f-8b23-2084f2f71ff8",
   "metadata": {},
   "outputs": [
    {
     "data": {
      "text/plain": [
       "'I love Python'"
      ]
     },
     "execution_count": 5,
     "metadata": {},
     "output_type": "execute_result"
    }
   ],
   "source": [
    "x = 'I love Python'\n",
    "x"
   ]
  },
  {
   "cell_type": "code",
   "execution_count": 6,
   "id": "bd95fe96-9854-4d8d-aab5-14c8db08cff4",
   "metadata": {},
   "outputs": [
    {
     "data": {
      "text/plain": [
       "'O'"
      ]
     },
     "execution_count": 6,
     "metadata": {},
     "output_type": "execute_result"
    }
   ],
   "source": [
    "# Indexing a string\n",
    "y=\"Oil_Gas\"\n",
    "y[0]"
   ]
  },
  {
   "cell_type": "code",
   "execution_count": 7,
   "id": "e8b97146-1dca-44e0-bd61-7d29ca133e4c",
   "metadata": {},
   "outputs": [
    {
     "data": {
      "text/plain": [
       "'a'"
      ]
     },
     "execution_count": 7,
     "metadata": {},
     "output_type": "execute_result"
    }
   ],
   "source": [
    "y[5]"
   ]
  },
  {
   "cell_type": "code",
   "execution_count": 8,
   "id": "0e0f2b52-d78a-49ac-a5cc-1dc2cb85ebe4",
   "metadata": {},
   "outputs": [
    {
     "data": {
      "text/plain": [
       "'Oil_'"
      ]
     },
     "execution_count": 8,
     "metadata": {},
     "output_type": "execute_result"
    }
   ],
   "source": [
    "y[0:4]"
   ]
  },
  {
   "cell_type": "code",
   "execution_count": 9,
   "id": "98f177a1-61fe-4edc-b96d-e88c871bc390",
   "metadata": {},
   "outputs": [
    {
     "data": {
      "text/plain": [
       "'Oil_Gas'"
      ]
     },
     "execution_count": 9,
     "metadata": {},
     "output_type": "execute_result"
    }
   ],
   "source": [
    "y[:]"
   ]
  },
  {
   "cell_type": "code",
   "execution_count": 10,
   "id": "743a5fd0-1e8d-4553-aa3c-693b1a54bc71",
   "metadata": {},
   "outputs": [
    {
     "data": {
      "text/plain": [
       "'Oil_Ga'"
      ]
     },
     "execution_count": 10,
     "metadata": {},
     "output_type": "execute_result"
    }
   ],
   "source": [
    "y[:6]"
   ]
  },
  {
   "cell_type": "code",
   "execution_count": 11,
   "id": "efb4d8dc-e692-430b-9915-d13fdbaa3646",
   "metadata": {},
   "outputs": [
    {
     "data": {
      "text/plain": [
       "'l_Gas'"
      ]
     },
     "execution_count": 11,
     "metadata": {},
     "output_type": "execute_result"
    }
   ],
   "source": [
    "y[2:]"
   ]
  },
  {
   "cell_type": "code",
   "execution_count": 12,
   "id": "24e192df-b199-42c9-aada-ad08c4005b1f",
   "metadata": {},
   "outputs": [
    {
     "data": {
      "text/plain": [
       "'as'"
      ]
     },
     "execution_count": 12,
     "metadata": {},
     "output_type": "execute_result"
    }
   ],
   "source": [
    "y[-2:]"
   ]
  },
  {
   "cell_type": "code",
   "execution_count": 13,
   "id": "314ec693-09f0-4a48-8e3e-986be6fa4534",
   "metadata": {},
   "outputs": [
    {
     "data": {
      "text/plain": [
       "'l_G'"
      ]
     },
     "execution_count": 13,
     "metadata": {},
     "output_type": "execute_result"
    }
   ],
   "source": [
    "y[2:-2]"
   ]
  },
  {
   "cell_type": "code",
   "execution_count": 14,
   "id": "6f4de43b-2d30-4f15-b5dd-5af62bd171da",
   "metadata": {},
   "outputs": [
    {
     "data": {
      "text/plain": [
       "'Oil_G'"
      ]
     },
     "execution_count": 14,
     "metadata": {},
     "output_type": "execute_result"
    }
   ],
   "source": [
    "y[:-2]"
   ]
  },
  {
   "cell_type": "markdown",
   "id": "7972f734-062d-4c3e-99f2-f4b7292f197b",
   "metadata": {},
   "source": [
    "### Defining a list"
   ]
  },
  {
   "cell_type": "code",
   "execution_count": 15,
   "id": "e39681c2-1362-4e15-810e-af6191cf1c5e",
   "metadata": {},
   "outputs": [
    {
     "data": {
      "text/plain": [
       "['Land', 'Geology', 'Drilling']"
      ]
     },
     "execution_count": 15,
     "metadata": {},
     "output_type": "execute_result"
    }
   ],
   "source": [
    "list = ['Land','Geology','Drilling']\n",
    "list"
   ]
  },
  {
   "cell_type": "code",
   "execution_count": 17,
   "id": "18f9ddf6-50e1-42f4-aed2-efe9f1731fe5",
   "metadata": {},
   "outputs": [
    {
     "data": {
      "text/plain": [
       "['Land', 'Geology', 'Drilling', 'Frac']"
      ]
     },
     "execution_count": 17,
     "metadata": {},
     "output_type": "execute_result"
    }
   ],
   "source": [
    "# Appending a list\n",
    "list.append('Frac')\n",
    "list"
   ]
  },
  {
   "cell_type": "code",
   "execution_count": 18,
   "id": "88c7748d-b3d6-4bad-821a-ee574e84b6cc",
   "metadata": {},
   "outputs": [
    {
     "data": {
      "text/plain": [
       "['Land', 'Geology', 'Drilling', 'Frac', 100]"
      ]
     },
     "execution_count": 18,
     "metadata": {},
     "output_type": "execute_result"
    }
   ],
   "source": [
    "list.append(100)\n",
    "list"
   ]
  },
  {
   "cell_type": "code",
   "execution_count": 19,
   "id": "a11c159c-b923-42a3-b0a8-b859fa179643",
   "metadata": {},
   "outputs": [
    {
     "data": {
      "text/plain": [
       "['Land', 'Geology', 'Drilling', 'Frac']"
      ]
     },
     "execution_count": 19,
     "metadata": {},
     "output_type": "execute_result"
    }
   ],
   "source": [
    "# List Indexing\n",
    "list[0:4]"
   ]
  },
  {
   "cell_type": "code",
   "execution_count": 20,
   "id": "a8b5d244-04e2-4e34-a7c9-f0c56a46e238",
   "metadata": {},
   "outputs": [
    {
     "data": {
      "text/plain": [
       "['Title_Search', 'Geology', 'Drilling', 'Frac', 100]"
      ]
     },
     "execution_count": 20,
     "metadata": {},
     "output_type": "execute_result"
    }
   ],
   "source": [
    "list[0] = 'Title_Search'\n",
    "list"
   ]
  },
  {
   "cell_type": "code",
   "execution_count": 21,
   "id": "2a17f7bb-2174-4e6a-bb0f-fa95e27d6a3f",
   "metadata": {},
   "outputs": [
    {
     "data": {
      "text/plain": [
       "['Reservoir_Engineer',\n",
       " 'Data_Engineer',\n",
       " 'Data_Scientist',\n",
       " 'Data Enthusiast',\n",
       " 100]"
      ]
     },
     "execution_count": 21,
     "metadata": {},
     "output_type": "execute_result"
    }
   ],
   "source": [
    "list[0] = 'Reservoir_Engineer'\n",
    "list[1] = 'Data_Engineer'\n",
    "list[2] = 'Data_Scientist'\n",
    "list[3] = 'Data Enthusiast'\n",
    "list"
   ]
  },
  {
   "cell_type": "code",
   "execution_count": 22,
   "id": "db36acdc-641b-448e-a95b-35d3cac5d4ef",
   "metadata": {},
   "outputs": [
    {
     "data": {
      "text/plain": [
       "[10, 20, [30, 40, 50, 60]]"
      ]
     },
     "execution_count": 22,
     "metadata": {},
     "output_type": "execute_result"
    }
   ],
   "source": [
    "# Creating a nested list\n",
    "nested_list = [10,20, [30,40,50,60]]\n",
    "nested_list"
   ]
  },
  {
   "cell_type": "markdown",
   "id": "5128f27d-c987-42cf-9205-251a0e1a76cb",
   "metadata": {},
   "source": [
    "### Creating a dictionary"
   ]
  },
  {
   "cell_type": "code",
   "execution_count": 24,
   "id": "9fa113e9-3cbb-4ee3-ab85-1c26ae93d91e",
   "metadata": {},
   "outputs": [
    {
     "data": {
      "text/plain": [
       "{'ML_Models': ['ANN', 'SVM', 'RF', 'GB', 'XGB'],\n",
       " 'Score': [90, 85, 95, 90, 100]}"
      ]
     },
     "execution_count": 24,
     "metadata": {},
     "output_type": "execute_result"
    }
   ],
   "source": [
    "a={'ML_Models':['ANN','SVM','RF','GB','XGB'],'Score':[90,85,95,90,100]}\n",
    "a"
   ]
  },
  {
   "cell_type": "code",
   "execution_count": 25,
   "id": "c27611a9-6180-4a2e-bf4f-2241911cb108",
   "metadata": {},
   "outputs": [
    {
     "data": {
      "text/plain": [
       "['ANN', 'SVM', 'RF']"
      ]
     },
     "execution_count": 25,
     "metadata": {},
     "output_type": "execute_result"
    }
   ],
   "source": [
    "# Dictionary indexing\n",
    "a['ML_Models'][0:3]"
   ]
  },
  {
   "cell_type": "code",
   "execution_count": 26,
   "id": "951dc15e-4a70-471d-9be6-3da7b035af40",
   "metadata": {},
   "outputs": [
    {
     "data": {
      "text/plain": [
       "{'a': {'inner_a': [1, 2, 3]}}"
      ]
     },
     "execution_count": 26,
     "metadata": {},
     "output_type": "execute_result"
    }
   ],
   "source": [
    "# Nested dictionary\n",
    "d = {'a':{'inner_a':[1,2,3]}}\n",
    "d"
   ]
  },
  {
   "cell_type": "code",
   "execution_count": 27,
   "id": "f319c610-28ce-4626-aac8-c40a19d509e1",
   "metadata": {},
   "outputs": [
    {
     "data": {
      "text/plain": [
       "2"
      ]
     },
     "execution_count": 27,
     "metadata": {},
     "output_type": "execute_result"
    }
   ],
   "source": [
    "# Accessing index of a nested dictionary\n",
    "d['a']['inner_a'][1]"
   ]
  },
  {
   "cell_type": "markdown",
   "id": "1be2c3e8-cda4-41ec-b884-3b1ac4b43619",
   "metadata": {},
   "source": [
    "### Creating a tuple"
   ]
  },
  {
   "cell_type": "code",
   "execution_count": 28,
   "id": "58717c18-3fb2-4259-8e7e-ec6126c0e936",
   "metadata": {},
   "outputs": [
    {
     "data": {
      "text/plain": [
       "(100, 200, 300, 400)"
      ]
     },
     "execution_count": 28,
     "metadata": {},
     "output_type": "execute_result"
    }
   ],
   "source": [
    "t = (100,200,300,400)\n",
    "t"
   ]
  },
  {
   "cell_type": "code",
   "execution_count": 29,
   "id": "3345cad4-e1c5-47b4-a25b-6506fa4a0e25",
   "metadata": {},
   "outputs": [
    {
     "ename": "TypeError",
     "evalue": "'tuple' object does not support item assignment",
     "output_type": "error",
     "traceback": [
      "\u001b[1;31m---------------------------------------------------------------------------\u001b[0m",
      "\u001b[1;31mTypeError\u001b[0m                                 Traceback (most recent call last)",
      "Cell \u001b[1;32mIn[29], line 1\u001b[0m\n\u001b[1;32m----> 1\u001b[0m t[\u001b[38;5;241m0\u001b[39m]\u001b[38;5;241m=\u001b[39m\u001b[38;5;124m'\u001b[39m\u001b[38;5;124mNew\u001b[39m\u001b[38;5;124m'\u001b[39m\n\u001b[0;32m      2\u001b[0m t\n",
      "\u001b[1;31mTypeError\u001b[0m: 'tuple' object does not support item assignment"
     ]
    }
   ],
   "source": [
    "t[0]='New'\n",
    "t"
   ]
  },
  {
   "cell_type": "code",
   "execution_count": 30,
   "id": "8e058e02-3d68-4d1b-8ad8-0e716594418e",
   "metadata": {},
   "outputs": [
    {
     "data": {
      "text/plain": [
       "{100, 200, 300}"
      ]
     },
     "execution_count": 30,
     "metadata": {},
     "output_type": "execute_result"
    }
   ],
   "source": [
    "set = {100,200,300,100,200,300}\n",
    "set"
   ]
  },
  {
   "cell_type": "code",
   "execution_count": 31,
   "id": "26cf9579-c86e-4f71-b8e7-cc57376a768f",
   "metadata": {},
   "outputs": [
    {
     "data": {
      "text/plain": [
       "{100, 200, 300, 400}"
      ]
     },
     "execution_count": 31,
     "metadata": {},
     "output_type": "execute_result"
    }
   ],
   "source": [
    "set.add(400)\n",
    "set"
   ]
  },
  {
   "cell_type": "markdown",
   "id": "8a68d363-b4dc-4add-9d36-fbc39d83600f",
   "metadata": {},
   "source": [
    "### If statements"
   ]
  },
  {
   "cell_type": "code",
   "execution_count": 32,
   "id": "6f796261-5c54-43c0-9df5-1aedc163a458",
   "metadata": {},
   "outputs": [
    {
     "name": "stdout",
     "output_type": "stream",
     "text": [
      "Not Good!\n"
     ]
    }
   ],
   "source": [
    "if 100==200:\n",
    "    print('Good Job!')\n",
    "else:\n",
    "    print('Not Good!')"
   ]
  },
  {
   "cell_type": "markdown",
   "id": "ab9de501-c026-4665-a5dc-cc7afcc75237",
   "metadata": {},
   "source": [
    "### For loop"
   ]
  },
  {
   "cell_type": "code",
   "execution_count": 33,
   "id": "6706a74e-ec34-467d-9085-e068c96990dd",
   "metadata": {},
   "outputs": [
    {
     "name": "stdout",
     "output_type": "stream",
     "text": [
      "0\n",
      "1\n",
      "2\n",
      "3\n",
      "4\n"
     ]
    }
   ],
   "source": [
    "i = range(0,5)\n",
    "for x in i:\n",
    "    print(x)\n"
   ]
  },
  {
   "cell_type": "code",
   "execution_count": 36,
   "id": "fc6affea-ee05-4c4b-a3e7-0c56d4bd2a53",
   "metadata": {},
   "outputs": [
    {
     "name": "stdout",
     "output_type": "stream",
     "text": [
      "Frac_Crew_1\n",
      "Frac_Crew_2\n"
     ]
    }
   ],
   "source": [
    "# The \"break\" function\n",
    "Frac_Crews = ['Frac_Crew_1', 'Frac_Crew_2', 'Frac_Crew_3','Frac_Crew_4']\n",
    "for x in Frac_Crews:\n",
    "    print(x)\n",
    "    if x == 'Frac_Crew_2':\n",
    "        break"
   ]
  },
  {
   "cell_type": "code",
   "execution_count": 39,
   "id": "95608eb9-3855-42a8-ba67-c00e1d1c5e75",
   "metadata": {},
   "outputs": [
    {
     "name": "stdout",
     "output_type": "stream",
     "text": [
      "Frac_Crew_1\n",
      "Frac_Crew_3\n",
      "Frac_Crew_4\n"
     ]
    }
   ],
   "source": [
    "# The \"continue\" statement\n",
    "Frac_Crews = ['Frac_Crew_1', 'Frac_Crew_2', 'Frac_Crew_3','Frac_Crew_4']\n",
    "for x in Frac_Crews:\n",
    "    if x == 'Frac_Crew_2':\n",
    "        continue\n",
    "    print(x)"
   ]
  },
  {
   "cell_type": "code",
   "execution_count": 40,
   "id": "221ac2d5-12ac-4dff-a2f6-c20a5de3785a",
   "metadata": {},
   "outputs": [
    {
     "name": "stdout",
     "output_type": "stream",
     "text": [
      "10\n",
      "14\n",
      "18\n"
     ]
    }
   ],
   "source": [
    "# The \"range\" function\n",
    "for x in range(10, 19, 4):\n",
    "    print(x)"
   ]
  },
  {
   "cell_type": "markdown",
   "id": "960697d1-5eb0-4edd-97af-2034ef7ba718",
   "metadata": {},
   "source": [
    "### Nested loops"
   ]
  },
  {
   "cell_type": "code",
   "execution_count": 42,
   "id": "2f3f3bba-19b2-4d74-a3c5-d0546fcfc47c",
   "metadata": {},
   "outputs": [
    {
     "name": "stdout",
     "output_type": "stream",
     "text": [
      "\n",
      " Low_Performing Drilling_Crew_1\n",
      "\n",
      " Low_Performing Drilling_Crew_2\n",
      "\n",
      " Low_Performing Drilling_Crew_3\n",
      "\n",
      " Medium_Performing Drilling_Crew_1\n",
      "\n",
      " Medium_Performing Drilling_Crew_2\n",
      "\n",
      " Medium_Performing Drilling_Crew_3\n",
      "\n",
      " High_Performing Drilling_Crew_1\n",
      "\n",
      " High_Performing Drilling_Crew_2\n",
      "\n",
      " High_Performing Drilling_Crew_3\n"
     ]
    }
   ],
   "source": [
    "Performance = [\"Low_Performing\", \"Medium_Performing\",'High_Performing']\n",
    "Drilling_Crews = [\"Drilling_Crew_1\", \"Drilling_Crew_2\",\"Drilling_Crew_3\"]\n",
    "\n",
    "for x in Performance:\n",
    "    for y in Drilling_Crews:\n",
    "        print('\\n', x, y)"
   ]
  },
  {
   "cell_type": "code",
   "execution_count": 43,
   "id": "43c78f1c-613f-4a6c-970a-f307f5bc1e16",
   "metadata": {},
   "outputs": [
    {
     "name": "stdout",
     "output_type": "stream",
     "text": [
      "[300, 600, 1100, 1800]\n"
     ]
    }
   ],
   "source": [
    "i = [10,20,30,40]\n",
    "out = []\n",
    "for x in i:\n",
    "    out.append(x**2 + 200)\n",
    "print(out)"
   ]
  },
  {
   "cell_type": "markdown",
   "id": "5d4b4a38-c3c7-49ba-9db8-c14e1e9062c2",
   "metadata": {},
   "source": [
    "### List comprehension"
   ]
  },
  {
   "cell_type": "code",
   "execution_count": 44,
   "id": "379726df-ea9e-420e-b9f3-a1c34c9a0d4c",
   "metadata": {},
   "outputs": [
    {
     "data": {
      "text/plain": [
       "[300, 600, 1100, 1800]"
      ]
     },
     "execution_count": 44,
     "metadata": {},
     "output_type": "execute_result"
    }
   ],
   "source": [
    "[x**2+200 for x in i]"
   ]
  },
  {
   "cell_type": "code",
   "execution_count": 46,
   "id": "ebc00301-a7d8-4bfb-a23d-3860bf54ce3e",
   "metadata": {},
   "outputs": [
    {
     "data": {
      "text/plain": [
       "[409, 423, 439, 457, 477, 499]"
      ]
     },
     "execution_count": 46,
     "metadata": {},
     "output_type": "execute_result"
    }
   ],
   "source": [
    "y = [5,6,7,8,9,10]\n",
    "[x**2 + 3*x + 369 for x in y]"
   ]
  },
  {
   "cell_type": "markdown",
   "id": "570c27f0-14e8-4b8e-be71-631b896573e3",
   "metadata": {},
   "source": [
    "### Defining a function"
   ]
  },
  {
   "cell_type": "code",
   "execution_count": 47,
   "id": "3345f75c-c1a9-4111-8db9-184ba2140af9",
   "metadata": {},
   "outputs": [
    {
     "data": {
      "text/plain": [
       "60"
      ]
     },
     "execution_count": 47,
     "metadata": {},
     "output_type": "execute_result"
    }
   ],
   "source": [
    "def linear_function(n):\n",
    "    return 2*n+20\n",
    "linear_function(20)"
   ]
  },
  {
   "cell_type": "markdown",
   "id": "0e0c3804-c003-4258-bd45-ed18cc06e6a3",
   "metadata": {},
   "source": [
    "# Introduction to pandas\n",
    "* Pandas is one of the most famous libraries in Python, and it is essentially\r\n",
    "designed to replicate the excel sheet formats in Python\n",
    "* The primary role of pandas is data manipulation and analysis, and it is heavily used for data prerocessing before implementing ML models.ls."
   ]
  },
  {
   "cell_type": "code",
   "execution_count": 48,
   "id": "1cc95e2b-6c2a-4e8a-a068-63c1d899cf32",
   "metadata": {},
   "outputs": [
    {
     "data": {
      "text/plain": [
       "{'Column_1': [10, 20, 30], 'Columns_2': [40, 50, 60], 'Column_3': [70, 80, 90]}"
      ]
     },
     "execution_count": 48,
     "metadata": {},
     "output_type": "execute_result"
    }
   ],
   "source": [
    "dictionary = {'Column_1':[10,20,30],'Columns_2':[40,50,60],'Column_3':[70,80,90]}\n",
    "dictionary"
   ]
  },
  {
   "cell_type": "code",
   "execution_count": 49,
   "id": "78e3e00a-76e9-4ea1-8199-ea78f5f9636f",
   "metadata": {},
   "outputs": [
    {
     "data": {
      "text/html": [
       "<div>\n",
       "<style scoped>\n",
       "    .dataframe tbody tr th:only-of-type {\n",
       "        vertical-align: middle;\n",
       "    }\n",
       "\n",
       "    .dataframe tbody tr th {\n",
       "        vertical-align: top;\n",
       "    }\n",
       "\n",
       "    .dataframe thead th {\n",
       "        text-align: right;\n",
       "    }\n",
       "</style>\n",
       "<table border=\"1\" class=\"dataframe\">\n",
       "  <thead>\n",
       "    <tr style=\"text-align: right;\">\n",
       "      <th></th>\n",
       "      <th>Column_1</th>\n",
       "      <th>Columns_2</th>\n",
       "      <th>Column_3</th>\n",
       "    </tr>\n",
       "  </thead>\n",
       "  <tbody>\n",
       "    <tr>\n",
       "      <th>0</th>\n",
       "      <td>10</td>\n",
       "      <td>40</td>\n",
       "      <td>70</td>\n",
       "    </tr>\n",
       "    <tr>\n",
       "      <th>1</th>\n",
       "      <td>20</td>\n",
       "      <td>50</td>\n",
       "      <td>80</td>\n",
       "    </tr>\n",
       "    <tr>\n",
       "      <th>2</th>\n",
       "      <td>30</td>\n",
       "      <td>60</td>\n",
       "      <td>90</td>\n",
       "    </tr>\n",
       "  </tbody>\n",
       "</table>\n",
       "</div>"
      ],
      "text/plain": [
       "   Column_1  Columns_2  Column_3\n",
       "0        10         40        70\n",
       "1        20         50        80\n",
       "2        30         60        90"
      ]
     },
     "execution_count": 49,
     "metadata": {},
     "output_type": "execute_result"
    }
   ],
   "source": [
    "# To convert this dictionary into a data frame, the pd.DataFrame command line can be used.\n",
    "import pandas as pd\n",
    "dictionary = pd.DataFrame(dictionary)\n",
    "dictionary"
   ]
  },
  {
   "cell_type": "code",
   "execution_count": 50,
   "id": "a76a9018-6b2b-4a9f-baed-9bcbf3263d1d",
   "metadata": {},
   "outputs": [
    {
     "data": {
      "text/html": [
       "<div>\n",
       "<style scoped>\n",
       "    .dataframe tbody tr th:only-of-type {\n",
       "        vertical-align: middle;\n",
       "    }\n",
       "\n",
       "    .dataframe tbody tr th {\n",
       "        vertical-align: top;\n",
       "    }\n",
       "\n",
       "    .dataframe thead th {\n",
       "        text-align: right;\n",
       "    }\n",
       "</style>\n",
       "<table border=\"1\" class=\"dataframe\">\n",
       "  <thead>\n",
       "    <tr style=\"text-align: right;\">\n",
       "      <th></th>\n",
       "      <th>Column_1</th>\n",
       "      <th>Columns_2</th>\n",
       "      <th>Column_3</th>\n",
       "    </tr>\n",
       "  </thead>\n",
       "  <tbody>\n",
       "    <tr>\n",
       "      <th>0</th>\n",
       "      <td>10</td>\n",
       "      <td>40</td>\n",
       "      <td>70</td>\n",
       "    </tr>\n",
       "    <tr>\n",
       "      <th>1</th>\n",
       "      <td>20</td>\n",
       "      <td>50</td>\n",
       "      <td>80</td>\n",
       "    </tr>\n",
       "    <tr>\n",
       "      <th>2</th>\n",
       "      <td>30</td>\n",
       "      <td>60</td>\n",
       "      <td>90</td>\n",
       "    </tr>\n",
       "  </tbody>\n",
       "</table>\n",
       "</div>"
      ],
      "text/plain": [
       "   Column_1  Columns_2  Column_3\n",
       "0        10         40        70\n",
       "1        20         50        80\n",
       "2        30         60        90"
      ]
     },
     "execution_count": 50,
     "metadata": {},
     "output_type": "execute_result"
    }
   ],
   "source": [
    "import pandas as pd\n",
    "dictionary = pd.DataFrame({'Column_1':[10,20,30],'Columns_2':[40,50,60],'Column_3':[70,80,90]})\n",
    "dictionary"
   ]
  },
  {
   "cell_type": "code",
   "execution_count": 53,
   "id": "8a9cdb9d-777a-4117-94c4-4852879094bf",
   "metadata": {},
   "outputs": [
    {
     "data": {
      "text/html": [
       "<div>\n",
       "<style scoped>\n",
       "    .dataframe tbody tr th:only-of-type {\n",
       "        vertical-align: middle;\n",
       "    }\n",
       "\n",
       "    .dataframe tbody tr th {\n",
       "        vertical-align: top;\n",
       "    }\n",
       "\n",
       "    .dataframe thead th {\n",
       "        text-align: right;\n",
       "    }\n",
       "</style>\n",
       "<table border=\"1\" class=\"dataframe\">\n",
       "  <thead>\n",
       "    <tr style=\"text-align: right;\">\n",
       "      <th></th>\n",
       "      <th>Drilling_CAPEX</th>\n",
       "      <th>Completions_CAPEX</th>\n",
       "      <th>Production_CAPEX</th>\n",
       "    </tr>\n",
       "  </thead>\n",
       "  <tbody>\n",
       "    <tr>\n",
       "      <th>Well_1</th>\n",
       "      <td>2000000</td>\n",
       "      <td>5000000</td>\n",
       "      <td>500000</td>\n",
       "    </tr>\n",
       "    <tr>\n",
       "      <th>Well_2</th>\n",
       "      <td>2200000</td>\n",
       "      <td>5200000</td>\n",
       "      <td>550000</td>\n",
       "    </tr>\n",
       "    <tr>\n",
       "      <th>Well_3</th>\n",
       "      <td>2100000</td>\n",
       "      <td>5150000</td>\n",
       "      <td>450000</td>\n",
       "    </tr>\n",
       "  </tbody>\n",
       "</table>\n",
       "</div>"
      ],
      "text/plain": [
       "        Drilling_CAPEX  Completions_CAPEX  Production_CAPEX\n",
       "Well_1         2000000            5000000            500000\n",
       "Well_2         2200000            5200000            550000\n",
       "Well_3         2100000            5150000            450000"
      ]
     },
     "execution_count": 53,
     "metadata": {},
     "output_type": "execute_result"
    }
   ],
   "source": [
    "CAPEX = pd.DataFrame({'Drilling_CAPEX':[2000000,2200000,2100000],\n",
    "'Completions_CAPEX':[5000000,5200000,5150000],\n",
    "'Production_CAPEX':[500000,550000,450000]},\n",
    "index=['Well_1','Well_2','Well_3'])\n",
    "CAPEX"
   ]
  },
  {
   "cell_type": "code",
   "execution_count": 54,
   "id": "3c637b47-649e-496a-8923-2661abae8d23",
   "metadata": {},
   "outputs": [
    {
     "data": {
      "text/html": [
       "<div>\n",
       "<style scoped>\n",
       "    .dataframe tbody tr th:only-of-type {\n",
       "        vertical-align: middle;\n",
       "    }\n",
       "\n",
       "    .dataframe tbody tr th {\n",
       "        vertical-align: top;\n",
       "    }\n",
       "\n",
       "    .dataframe thead th {\n",
       "        text-align: right;\n",
       "    }\n",
       "</style>\n",
       "<table border=\"1\" class=\"dataframe\">\n",
       "  <thead>\n",
       "    <tr style=\"text-align: right;\">\n",
       "      <th></th>\n",
       "      <th>Drilling_CAPEX</th>\n",
       "      <th>Completions_CAPEX</th>\n",
       "      <th>Production_CAPEX</th>\n",
       "    </tr>\n",
       "  </thead>\n",
       "  <tbody>\n",
       "    <tr>\n",
       "      <th>Well_1</th>\n",
       "      <td>2000000</td>\n",
       "      <td>5000000</td>\n",
       "      <td>500000</td>\n",
       "    </tr>\n",
       "    <tr>\n",
       "      <th>Well_2</th>\n",
       "      <td>2200000</td>\n",
       "      <td>5200000</td>\n",
       "      <td>550000</td>\n",
       "    </tr>\n",
       "    <tr>\n",
       "      <th>Well_3</th>\n",
       "      <td>2100000</td>\n",
       "      <td>5150000</td>\n",
       "      <td>450000</td>\n",
       "    </tr>\n",
       "  </tbody>\n",
       "</table>\n",
       "</div>"
      ],
      "text/plain": [
       "        Drilling_CAPEX  Completions_CAPEX  Production_CAPEX\n",
       "Well_1         2000000            5000000            500000\n",
       "Well_2         2200000            5200000            550000\n",
       "Well_3         2100000            5150000            450000"
      ]
     },
     "execution_count": 54,
     "metadata": {},
     "output_type": "execute_result"
    }
   ],
   "source": [
    "CAPEX = pd.DataFrame({'Drilling_CAPEX':[2000000,2200000,2100000],\n",
    "'Completions_CAPEX':[5000000,5200000,5150000], 'Production_\\\n",
    "CAPEX':\\\n",
    "                    [500000,550000,450000]},\n",
    "index=['Well_1','Well_2','Well_3'])\n",
    "CAPEX"
   ]
  },
  {
   "cell_type": "code",
   "execution_count": 58,
   "id": "8c4e0c33-cbb8-4265-860a-91a973b5ed87",
   "metadata": {},
   "outputs": [
    {
     "data": {
      "text/html": [
       "<div>\n",
       "<style scoped>\n",
       "    .dataframe tbody tr th:only-of-type {\n",
       "        vertical-align: middle;\n",
       "    }\n",
       "\n",
       "    .dataframe tbody tr th {\n",
       "        vertical-align: top;\n",
       "    }\n",
       "\n",
       "    .dataframe thead th {\n",
       "        text-align: right;\n",
       "    }\n",
       "</style>\n",
       "<table border=\"1\" class=\"dataframe\">\n",
       "  <thead>\n",
       "    <tr style=\"text-align: right;\">\n",
       "      <th></th>\n",
       "      <th>Cycle_1</th>\n",
       "      <th>Cycle_2</th>\n",
       "      <th>Cycle_3</th>\n",
       "      <th>Cycle_4</th>\n",
       "      <th>Cycle_5</th>\n",
       "    </tr>\n",
       "  </thead>\n",
       "  <tbody>\n",
       "    <tr>\n",
       "      <th>Land</th>\n",
       "      <td>-1.749765</td>\n",
       "      <td>0.342680</td>\n",
       "      <td>1.153036</td>\n",
       "      <td>-0.252436</td>\n",
       "      <td>0.981321</td>\n",
       "    </tr>\n",
       "    <tr>\n",
       "      <th>Seismic</th>\n",
       "      <td>0.514219</td>\n",
       "      <td>0.221180</td>\n",
       "      <td>-1.070043</td>\n",
       "      <td>-0.189496</td>\n",
       "      <td>0.255001</td>\n",
       "    </tr>\n",
       "    <tr>\n",
       "      <th>Geology</th>\n",
       "      <td>-0.458027</td>\n",
       "      <td>0.435163</td>\n",
       "      <td>-0.583595</td>\n",
       "      <td>0.816847</td>\n",
       "      <td>0.672721</td>\n",
       "    </tr>\n",
       "    <tr>\n",
       "      <th>Drilling</th>\n",
       "      <td>-0.104411</td>\n",
       "      <td>-0.531280</td>\n",
       "      <td>1.029733</td>\n",
       "      <td>-0.438136</td>\n",
       "      <td>-1.118318</td>\n",
       "    </tr>\n",
       "    <tr>\n",
       "      <th>Completions</th>\n",
       "      <td>1.618982</td>\n",
       "      <td>1.541605</td>\n",
       "      <td>-0.251879</td>\n",
       "      <td>-0.842436</td>\n",
       "      <td>0.184519</td>\n",
       "    </tr>\n",
       "    <tr>\n",
       "      <th>Production</th>\n",
       "      <td>0.937082</td>\n",
       "      <td>0.731000</td>\n",
       "      <td>1.361556</td>\n",
       "      <td>-0.326238</td>\n",
       "      <td>0.055676</td>\n",
       "    </tr>\n",
       "    <tr>\n",
       "      <th>Facilities</th>\n",
       "      <td>0.222400</td>\n",
       "      <td>-1.443217</td>\n",
       "      <td>-0.756352</td>\n",
       "      <td>0.816454</td>\n",
       "      <td>0.750445</td>\n",
       "    </tr>\n",
       "    <tr>\n",
       "      <th>Midstream</th>\n",
       "      <td>-0.455947</td>\n",
       "      <td>1.189622</td>\n",
       "      <td>-1.690617</td>\n",
       "      <td>-1.356399</td>\n",
       "      <td>-1.232435</td>\n",
       "    </tr>\n",
       "  </tbody>\n",
       "</table>\n",
       "</div>"
      ],
      "text/plain": [
       "              Cycle_1   Cycle_2   Cycle_3   Cycle_4   Cycle_5\n",
       "Land        -1.749765  0.342680  1.153036 -0.252436  0.981321\n",
       "Seismic      0.514219  0.221180 -1.070043 -0.189496  0.255001\n",
       "Geology     -0.458027  0.435163 -0.583595  0.816847  0.672721\n",
       "Drilling    -0.104411 -0.531280  1.029733 -0.438136 -1.118318\n",
       "Completions  1.618982  1.541605 -0.251879 -0.842436  0.184519\n",
       "Production   0.937082  0.731000  1.361556 -0.326238  0.055676\n",
       "Facilities   0.222400 -1.443217 -0.756352  0.816454  0.750445\n",
       "Midstream   -0.455947  1.189622 -1.690617 -1.356399 -1.232435"
      ]
     },
     "execution_count": 58,
     "metadata": {},
     "output_type": "execute_result"
    }
   ],
   "source": [
    "# Next, let’s create an 8 by 5 matrix using \"np.random.seed\" (with a seed\n",
    "# number of 100) and transfer this matrix array to a data frame named\n",
    "# \"life_cycle\" as shown below\n",
    "\n",
    "from numpy.random import randn\n",
    "import numpy as np\n",
    "seed = 100\n",
    "np.random.seed(seed)\n",
    "\n",
    "life_cycle = pd.DataFrame(randn(8,5), index = 'Land Seismic Geology\\\n",
    "    Drilling Completions Production Facilities Midstream'.split(),\n",
    "    columns = 'Cycle_1 Cycle_2 Cycle_3 Cycle_4 Cycle_5'.split())\n",
    "\n",
    "life_cycle"
   ]
  },
  {
   "cell_type": "markdown",
   "id": "75ee9cdf-3cff-4522-b6e6-3599625ba4bd",
   "metadata": {},
   "source": [
    "# Breaking the above code down:\n",
    "\n",
    "### Imports:\n",
    "```python\n",
    "from numpy.random import randn\n",
    "import numpy as np\n",
    "import pandas as pd\n",
    "```\n",
    "- `from numpy.random import randn`: This imports the `randn` function from the `numpy.random` module, which generates samples from a standard normal distribution (mean 0, variance 1).\n",
    "- `import numpy as np`: Imports the entire `numpy` library, a powerful library for numerical computations.\n",
    "- `import pandas as pd`: Imports the `pandas` library, which is widely used for data manipulation and analysis.\n",
    "\n",
    "### Setting the Seed:\n",
    "```python\n",
    "seed = 100\n",
    "np.random.seed(seed)\n",
    "```\n",
    "- `seed = 100`: This defines a variable called `seed` and assigns it a value of 100.\n",
    "- `np.random.seed(seed)`: This sets the seed for NumPy's random number generator. A seed ensures reproducibility, meaning every time you run the code, you'll get the same random values.\n",
    "\n",
    "### Generating the Random Matrix:\n",
    "```python\n",
    "randn(8, 5)\n",
    "```\n",
    "- `randn(8, 5)`: This generates an 8x5 matrix of random numbers sampled from a standard normal distribution. The result will be a NumPy array with 8 rows and 5 columns.\n",
    "\n",
    "### Creating a DataFrame:\n",
    "```python\n",
    "life_cycle = pd.DataFrame(randn(8,5), index = 'Land Seismic Geology\\\n",
    "    Drilling Completions Production Facilities Midstream'.split(),\n",
    "    columns = 'Cycle_1 Cycle_2 Cycle_3 Cycle_4 Cycle_5'.split())\n",
    "```\n",
    "- `pd.DataFrame(randn(8,5), ...)`: This converts the random matrix into a Pandas DataFrame. DataFrames are similar to Excel tables, with labeled rows and columns.\n",
    "- `index = 'Land Seismic Geology Drilling Completions Production Facilities Midstream'.split()`: This sets the row labels (index) of the DataFrame to specific lifecycle stages. The `split()` method turns the space-separated string into a list.\n",
    "- `columns = 'Cycle_1 Cycle_2 Cycle_3 Cycle_4 Cycle_5'.split()`: This sets the column names of the DataFrame, representing five different cycles.\n",
    "\n",
    "### Final Result:\n",
    "The DataFrame `life_cycle` will have 8 rows and 5 columns, where the rows represent different stages of a process, and the columns represent different cycles of that process. The values inside the DataFrame will be random numbers generated by the `randn` function.\n",
    "\n",
    "Let me know if you want me to clarify further!"
   ]
  },
  {
   "cell_type": "markdown",
   "id": "779f9e58-0150-4ce2-9fc7-f56c283c3c2c",
   "metadata": {},
   "source": [
    " ### visualizing the first and last two rows of data by using \".head\" and \".tail\" pandas functions\n"
   ]
  },
  {
   "cell_type": "code",
   "execution_count": 6,
   "id": "098fd4c3-f652-4ffa-bcbc-287c45526c78",
   "metadata": {},
   "outputs": [
    {
     "data": {
      "text/html": [
       "<div>\n",
       "<style scoped>\n",
       "    .dataframe tbody tr th:only-of-type {\n",
       "        vertical-align: middle;\n",
       "    }\n",
       "\n",
       "    .dataframe tbody tr th {\n",
       "        vertical-align: top;\n",
       "    }\n",
       "\n",
       "    .dataframe thead th {\n",
       "        text-align: right;\n",
       "    }\n",
       "</style>\n",
       "<table border=\"1\" class=\"dataframe\">\n",
       "  <thead>\n",
       "    <tr style=\"text-align: right;\">\n",
       "      <th></th>\n",
       "      <th>Cycle_1</th>\n",
       "      <th>Cycle_2</th>\n",
       "      <th>Cycle_3</th>\n",
       "      <th>Cycle_4</th>\n",
       "      <th>Cycle_5</th>\n",
       "    </tr>\n",
       "  </thead>\n",
       "  <tbody>\n",
       "    <tr>\n",
       "      <th>Land</th>\n",
       "      <td>-1.749765</td>\n",
       "      <td>0.34268</td>\n",
       "      <td>1.153036</td>\n",
       "      <td>-0.252436</td>\n",
       "      <td>0.981321</td>\n",
       "    </tr>\n",
       "    <tr>\n",
       "      <th>Seismic</th>\n",
       "      <td>0.514219</td>\n",
       "      <td>0.22118</td>\n",
       "      <td>-1.070043</td>\n",
       "      <td>-0.189496</td>\n",
       "      <td>0.255001</td>\n",
       "    </tr>\n",
       "  </tbody>\n",
       "</table>\n",
       "</div>"
      ],
      "text/plain": [
       "          Cycle_1  Cycle_2   Cycle_3   Cycle_4   Cycle_5\n",
       "Land    -1.749765  0.34268  1.153036 -0.252436  0.981321\n",
       "Seismic  0.514219  0.22118 -1.070043 -0.189496  0.255001"
      ]
     },
     "execution_count": 6,
     "metadata": {},
     "output_type": "execute_result"
    }
   ],
   "source": [
    "# First two rows... head()\n",
    "import pandas as pd\n",
    "from numpy.random import randn\n",
    "import numpy as np\n",
    "seed = 100\n",
    "np.random.seed(seed)\n",
    "\n",
    "life_cycle = pd.DataFrame(randn(8,5), index = 'Land Seismic Geology\\\n",
    "    Drilling Completions Production Facilities Midstream'.split(),\n",
    "    columns = 'Cycle_1 Cycle_2 Cycle_3 Cycle_4 Cycle_5'.split())\n",
    "life_cycle.head(2)"
   ]
  },
  {
   "cell_type": "code",
   "execution_count": 7,
   "id": "e29354cb-f321-44da-91ff-6798addc15ae",
   "metadata": {},
   "outputs": [
    {
     "data": {
      "text/html": [
       "<div>\n",
       "<style scoped>\n",
       "    .dataframe tbody tr th:only-of-type {\n",
       "        vertical-align: middle;\n",
       "    }\n",
       "\n",
       "    .dataframe tbody tr th {\n",
       "        vertical-align: top;\n",
       "    }\n",
       "\n",
       "    .dataframe thead th {\n",
       "        text-align: right;\n",
       "    }\n",
       "</style>\n",
       "<table border=\"1\" class=\"dataframe\">\n",
       "  <thead>\n",
       "    <tr style=\"text-align: right;\">\n",
       "      <th></th>\n",
       "      <th>Cycle_1</th>\n",
       "      <th>Cycle_2</th>\n",
       "      <th>Cycle_3</th>\n",
       "      <th>Cycle_4</th>\n",
       "      <th>Cycle_5</th>\n",
       "    </tr>\n",
       "  </thead>\n",
       "  <tbody>\n",
       "    <tr>\n",
       "      <th>Facilities</th>\n",
       "      <td>0.222400</td>\n",
       "      <td>-1.443217</td>\n",
       "      <td>-0.756352</td>\n",
       "      <td>0.816454</td>\n",
       "      <td>0.750445</td>\n",
       "    </tr>\n",
       "    <tr>\n",
       "      <th>Midstream</th>\n",
       "      <td>-0.455947</td>\n",
       "      <td>1.189622</td>\n",
       "      <td>-1.690617</td>\n",
       "      <td>-1.356399</td>\n",
       "      <td>-1.232435</td>\n",
       "    </tr>\n",
       "  </tbody>\n",
       "</table>\n",
       "</div>"
      ],
      "text/plain": [
       "             Cycle_1   Cycle_2   Cycle_3   Cycle_4   Cycle_5\n",
       "Facilities  0.222400 -1.443217 -0.756352  0.816454  0.750445\n",
       "Midstream  -0.455947  1.189622 -1.690617 -1.356399 -1.232435"
      ]
     },
     "execution_count": 7,
     "metadata": {},
     "output_type": "execute_result"
    }
   ],
   "source": [
    "# Last two rows... tail()\n",
    "\n",
    "life_cycle.tail(2)"
   ]
  },
  {
   "cell_type": "code",
   "execution_count": 8,
   "id": "3d2caba3-9859-4194-9fc9-30dc770c3d2b",
   "metadata": {},
   "outputs": [
    {
     "data": {
      "text/html": [
       "<div>\n",
       "<style scoped>\n",
       "    .dataframe tbody tr th:only-of-type {\n",
       "        vertical-align: middle;\n",
       "    }\n",
       "\n",
       "    .dataframe tbody tr th {\n",
       "        vertical-align: top;\n",
       "    }\n",
       "\n",
       "    .dataframe thead th {\n",
       "        text-align: right;\n",
       "    }\n",
       "</style>\n",
       "<table border=\"1\" class=\"dataframe\">\n",
       "  <thead>\n",
       "    <tr style=\"text-align: right;\">\n",
       "      <th></th>\n",
       "      <th>Cycle_1</th>\n",
       "      <th>Cycle_2</th>\n",
       "      <th>Cycle_3</th>\n",
       "      <th>Cycle_4</th>\n",
       "      <th>Cycle_5</th>\n",
       "    </tr>\n",
       "  </thead>\n",
       "  <tbody>\n",
       "    <tr>\n",
       "      <th>count</th>\n",
       "      <td>8.000000</td>\n",
       "      <td>8.000000</td>\n",
       "      <td>8.000000</td>\n",
       "      <td>8.000000</td>\n",
       "      <td>8.000000</td>\n",
       "    </tr>\n",
       "    <tr>\n",
       "      <th>mean</th>\n",
       "      <td>0.065566</td>\n",
       "      <td>0.310844</td>\n",
       "      <td>-0.101020</td>\n",
       "      <td>-0.221480</td>\n",
       "      <td>0.068616</td>\n",
       "    </tr>\n",
       "    <tr>\n",
       "      <th>std</th>\n",
       "      <td>1.019031</td>\n",
       "      <td>0.946721</td>\n",
       "      <td>1.142760</td>\n",
       "      <td>0.745362</td>\n",
       "      <td>0.829178</td>\n",
       "    </tr>\n",
       "    <tr>\n",
       "      <th>min</th>\n",
       "      <td>-1.749765</td>\n",
       "      <td>-1.443217</td>\n",
       "      <td>-1.690617</td>\n",
       "      <td>-1.356399</td>\n",
       "      <td>-1.232435</td>\n",
       "    </tr>\n",
       "    <tr>\n",
       "      <th>25%</th>\n",
       "      <td>-0.456467</td>\n",
       "      <td>0.033065</td>\n",
       "      <td>-0.834775</td>\n",
       "      <td>-0.539211</td>\n",
       "      <td>-0.237823</td>\n",
       "    </tr>\n",
       "    <tr>\n",
       "      <th>50%</th>\n",
       "      <td>0.058994</td>\n",
       "      <td>0.388922</td>\n",
       "      <td>-0.417737</td>\n",
       "      <td>-0.289337</td>\n",
       "      <td>0.219760</td>\n",
       "    </tr>\n",
       "    <tr>\n",
       "      <th>75%</th>\n",
       "      <td>0.619935</td>\n",
       "      <td>0.845656</td>\n",
       "      <td>1.060558</td>\n",
       "      <td>0.061992</td>\n",
       "      <td>0.692152</td>\n",
       "    </tr>\n",
       "    <tr>\n",
       "      <th>max</th>\n",
       "      <td>1.618982</td>\n",
       "      <td>1.541605</td>\n",
       "      <td>1.361556</td>\n",
       "      <td>0.816847</td>\n",
       "      <td>0.981321</td>\n",
       "    </tr>\n",
       "  </tbody>\n",
       "</table>\n",
       "</div>"
      ],
      "text/plain": [
       "        Cycle_1   Cycle_2   Cycle_3   Cycle_4   Cycle_5\n",
       "count  8.000000  8.000000  8.000000  8.000000  8.000000\n",
       "mean   0.065566  0.310844 -0.101020 -0.221480  0.068616\n",
       "std    1.019031  0.946721  1.142760  0.745362  0.829178\n",
       "min   -1.749765 -1.443217 -1.690617 -1.356399 -1.232435\n",
       "25%   -0.456467  0.033065 -0.834775 -0.539211 -0.237823\n",
       "50%    0.058994  0.388922 -0.417737 -0.289337  0.219760\n",
       "75%    0.619935  0.845656  1.060558  0.061992  0.692152\n",
       "max    1.618982  1.541605  1.361556  0.816847  0.981321"
      ]
     },
     "execution_count": 8,
     "metadata": {},
     "output_type": "execute_result"
    }
   ],
   "source": [
    "# \".describe\" function can also be used to provide basic statistics (count, mean, standard deviation, min, 25%, 50%, 75%, and max)\n",
    "life_cycle.describe()"
   ]
  },
  {
   "cell_type": "markdown",
   "id": "b5ce2056-5f7e-47d8-b3d0-beb791ab5cde",
   "metadata": {},
   "source": [
    "# Another very useful function is the \".cumsum()\" function\n",
    "* Which would result in the CUM values in each column. This is specifically useful when\n",
    "trying to add a column for cumulative production volumes over time having daily or monthly production rates."
   ]
  },
  {
   "cell_type": "code",
   "execution_count": 9,
   "id": "adb0e7e5-4100-4a17-a2e7-dc47e78a5187",
   "metadata": {},
   "outputs": [
    {
     "data": {
      "text/html": [
       "<div>\n",
       "<style scoped>\n",
       "    .dataframe tbody tr th:only-of-type {\n",
       "        vertical-align: middle;\n",
       "    }\n",
       "\n",
       "    .dataframe tbody tr th {\n",
       "        vertical-align: top;\n",
       "    }\n",
       "\n",
       "    .dataframe thead th {\n",
       "        text-align: right;\n",
       "    }\n",
       "</style>\n",
       "<table border=\"1\" class=\"dataframe\">\n",
       "  <thead>\n",
       "    <tr style=\"text-align: right;\">\n",
       "      <th></th>\n",
       "      <th>Cycle_1</th>\n",
       "      <th>Cycle_2</th>\n",
       "      <th>Cycle_3</th>\n",
       "      <th>Cycle_4</th>\n",
       "      <th>Cycle_5</th>\n",
       "    </tr>\n",
       "  </thead>\n",
       "  <tbody>\n",
       "    <tr>\n",
       "      <th>Land</th>\n",
       "      <td>-1.749765</td>\n",
       "      <td>0.342680</td>\n",
       "      <td>1.153036</td>\n",
       "      <td>-0.252436</td>\n",
       "      <td>0.981321</td>\n",
       "    </tr>\n",
       "    <tr>\n",
       "      <th>Seismic</th>\n",
       "      <td>-1.235547</td>\n",
       "      <td>0.563860</td>\n",
       "      <td>0.082992</td>\n",
       "      <td>-0.441932</td>\n",
       "      <td>1.236322</td>\n",
       "    </tr>\n",
       "    <tr>\n",
       "      <th>Geology</th>\n",
       "      <td>-1.693574</td>\n",
       "      <td>0.999024</td>\n",
       "      <td>-0.500603</td>\n",
       "      <td>0.374915</td>\n",
       "      <td>1.909043</td>\n",
       "    </tr>\n",
       "    <tr>\n",
       "      <th>Drilling</th>\n",
       "      <td>-1.797985</td>\n",
       "      <td>0.467743</td>\n",
       "      <td>0.529130</td>\n",
       "      <td>-0.063220</td>\n",
       "      <td>0.790725</td>\n",
       "    </tr>\n",
       "    <tr>\n",
       "      <th>Completions</th>\n",
       "      <td>-0.179003</td>\n",
       "      <td>2.009348</td>\n",
       "      <td>0.277251</td>\n",
       "      <td>-0.905656</td>\n",
       "      <td>0.975243</td>\n",
       "    </tr>\n",
       "    <tr>\n",
       "      <th>Production</th>\n",
       "      <td>0.758079</td>\n",
       "      <td>2.740349</td>\n",
       "      <td>1.638807</td>\n",
       "      <td>-1.231894</td>\n",
       "      <td>1.030919</td>\n",
       "    </tr>\n",
       "    <tr>\n",
       "      <th>Facilities</th>\n",
       "      <td>0.980479</td>\n",
       "      <td>1.297132</td>\n",
       "      <td>0.882455</td>\n",
       "      <td>-0.415440</td>\n",
       "      <td>1.781364</td>\n",
       "    </tr>\n",
       "    <tr>\n",
       "      <th>Midstream</th>\n",
       "      <td>0.524532</td>\n",
       "      <td>2.486754</td>\n",
       "      <td>-0.808162</td>\n",
       "      <td>-1.771839</td>\n",
       "      <td>0.548930</td>\n",
       "    </tr>\n",
       "  </tbody>\n",
       "</table>\n",
       "</div>"
      ],
      "text/plain": [
       "              Cycle_1   Cycle_2   Cycle_3   Cycle_4   Cycle_5\n",
       "Land        -1.749765  0.342680  1.153036 -0.252436  0.981321\n",
       "Seismic     -1.235547  0.563860  0.082992 -0.441932  1.236322\n",
       "Geology     -1.693574  0.999024 -0.500603  0.374915  1.909043\n",
       "Drilling    -1.797985  0.467743  0.529130 -0.063220  0.790725\n",
       "Completions -0.179003  2.009348  0.277251 -0.905656  0.975243\n",
       "Production   0.758079  2.740349  1.638807 -1.231894  1.030919\n",
       "Facilities   0.980479  1.297132  0.882455 -0.415440  1.781364\n",
       "Midstream    0.524532  2.486754 -0.808162 -1.771839  0.548930"
      ]
     },
     "execution_count": 9,
     "metadata": {},
     "output_type": "execute_result"
    }
   ],
   "source": [
    "life_cycle.cumsum()"
   ]
  },
  {
   "cell_type": "code",
   "execution_count": 10,
   "id": "840e66fb-faf5-4a5c-bc92-8116815bf690",
   "metadata": {},
   "outputs": [
    {
     "data": {
      "text/plain": [
       "Land           0.342680\n",
       "Seismic        0.221180\n",
       "Geology        0.435163\n",
       "Drilling      -0.531280\n",
       "Completions    1.541605\n",
       "Production     0.731000\n",
       "Facilities    -1.443217\n",
       "Midstream      1.189622\n",
       "Name: Cycle_2, dtype: float64"
      ]
     },
     "execution_count": 10,
     "metadata": {},
     "output_type": "execute_result"
    }
   ],
   "source": [
    "# To only select a column from the created \"life_cycle\" data frame,\n",
    "# it suffices to pass in the column name inside a bracket as follows:\n",
    "\n",
    "life_cycle['Cycle_2']"
   ]
  },
  {
   "cell_type": "code",
   "execution_count": 11,
   "id": "cfa61a36-7fb9-47f3-8793-e591c6dded0a",
   "metadata": {},
   "outputs": [
    {
     "data": {
      "text/plain": [
       "Land           0.342680\n",
       "Seismic        0.221180\n",
       "Geology        0.435163\n",
       "Drilling      -0.531280\n",
       "Completions    1.541605\n",
       "Production     0.731000\n",
       "Facilities    -1.443217\n",
       "Midstream      1.189622\n",
       "Name: Cycle_2, dtype: float64"
      ]
     },
     "execution_count": 11,
     "metadata": {},
     "output_type": "execute_result"
    }
   ],
   "source": [
    "# The recommended method of obtaining a column is to pass in the column\n",
    "# name inside a bracket. However, another methodology is to use \".column\n",
    "# name\" as shown below to obtain the same information:\n",
    "\n",
    "life_cycle.Cycle_2"
   ]
  },
  {
   "cell_type": "code",
   "execution_count": 12,
   "id": "0317aec8-b6d1-43fa-95de-80e00a1ed6ba",
   "metadata": {},
   "outputs": [],
   "source": [
    "# if the name of the \"Cycle_2\" column was defined as \"Cycle 2\"\n",
    "# instead, and \"life_cycle.Cycle 2\" is called to obtain this column, Python will\n",
    "# yield an invalid syntax error. Therefore, it is strongly recommended to pass\n",
    "# in the column names inside a bracket."
   ]
  },
  {
   "cell_type": "markdown",
   "id": "df2640b8-ebb2-4122-b663-ea5d83372721",
   "metadata": {},
   "source": [
    "### To select multiple columns, use double bracket notation as follows:"
   ]
  },
  {
   "cell_type": "code",
   "execution_count": 13,
   "id": "3c2c3c89-70bd-4d73-83a7-6908bde7b25c",
   "metadata": {},
   "outputs": [
    {
     "data": {
      "text/html": [
       "<div>\n",
       "<style scoped>\n",
       "    .dataframe tbody tr th:only-of-type {\n",
       "        vertical-align: middle;\n",
       "    }\n",
       "\n",
       "    .dataframe tbody tr th {\n",
       "        vertical-align: top;\n",
       "    }\n",
       "\n",
       "    .dataframe thead th {\n",
       "        text-align: right;\n",
       "    }\n",
       "</style>\n",
       "<table border=\"1\" class=\"dataframe\">\n",
       "  <thead>\n",
       "    <tr style=\"text-align: right;\">\n",
       "      <th></th>\n",
       "      <th>Cycle_2</th>\n",
       "      <th>Cycle_3</th>\n",
       "      <th>Cycle_4</th>\n",
       "    </tr>\n",
       "  </thead>\n",
       "  <tbody>\n",
       "    <tr>\n",
       "      <th>Land</th>\n",
       "      <td>0.342680</td>\n",
       "      <td>1.153036</td>\n",
       "      <td>-0.252436</td>\n",
       "    </tr>\n",
       "    <tr>\n",
       "      <th>Seismic</th>\n",
       "      <td>0.221180</td>\n",
       "      <td>-1.070043</td>\n",
       "      <td>-0.189496</td>\n",
       "    </tr>\n",
       "    <tr>\n",
       "      <th>Geology</th>\n",
       "      <td>0.435163</td>\n",
       "      <td>-0.583595</td>\n",
       "      <td>0.816847</td>\n",
       "    </tr>\n",
       "    <tr>\n",
       "      <th>Drilling</th>\n",
       "      <td>-0.531280</td>\n",
       "      <td>1.029733</td>\n",
       "      <td>-0.438136</td>\n",
       "    </tr>\n",
       "    <tr>\n",
       "      <th>Completions</th>\n",
       "      <td>1.541605</td>\n",
       "      <td>-0.251879</td>\n",
       "      <td>-0.842436</td>\n",
       "    </tr>\n",
       "    <tr>\n",
       "      <th>Production</th>\n",
       "      <td>0.731000</td>\n",
       "      <td>1.361556</td>\n",
       "      <td>-0.326238</td>\n",
       "    </tr>\n",
       "    <tr>\n",
       "      <th>Facilities</th>\n",
       "      <td>-1.443217</td>\n",
       "      <td>-0.756352</td>\n",
       "      <td>0.816454</td>\n",
       "    </tr>\n",
       "    <tr>\n",
       "      <th>Midstream</th>\n",
       "      <td>1.189622</td>\n",
       "      <td>-1.690617</td>\n",
       "      <td>-1.356399</td>\n",
       "    </tr>\n",
       "  </tbody>\n",
       "</table>\n",
       "</div>"
      ],
      "text/plain": [
       "              Cycle_2   Cycle_3   Cycle_4\n",
       "Land         0.342680  1.153036 -0.252436\n",
       "Seismic      0.221180 -1.070043 -0.189496\n",
       "Geology      0.435163 -0.583595  0.816847\n",
       "Drilling    -0.531280  1.029733 -0.438136\n",
       "Completions  1.541605 -0.251879 -0.842436\n",
       "Production   0.731000  1.361556 -0.326238\n",
       "Facilities  -1.443217 -0.756352  0.816454\n",
       "Midstream    1.189622 -1.690617 -1.356399"
      ]
     },
     "execution_count": 13,
     "metadata": {},
     "output_type": "execute_result"
    }
   ],
   "source": [
    "life_cycle[['Cycle_2','Cycle_3','Cycle_4']]"
   ]
  },
  {
   "cell_type": "code",
   "execution_count": 14,
   "id": "b9efbed8-d17c-42f0-b190-f25c8be444aa",
   "metadata": {},
   "outputs": [
    {
     "data": {
      "text/plain": [
       "Land           0.474835\n",
       "Seismic       -0.269139\n",
       "Geology        0.883109\n",
       "Drilling      -1.162413\n",
       "Completions    2.250791\n",
       "Production     2.759077\n",
       "Facilities    -0.410271\n",
       "Midstream     -3.545775\n",
       "Name: Cycle_Total, dtype: float64"
      ]
     },
     "execution_count": 14,
     "metadata": {},
     "output_type": "execute_result"
    }
   ],
   "source": [
    "# It is also easy to perform quick calculations using pandas. For example, if\n",
    "# all the cycles in the life_cycle data frame must be added to create a new\n",
    "# life_cycle data frame called \"life_cycle['Cycle_Total']\", the following lines\n",
    "# can be used:\n",
    "\n",
    "life_cycle['Cycle_Total'] = life_cycle['Cycle_1'] + life_cycle['Cycle_2']\\\n",
    "+ life_cycle['Cycle_3'] + life_cycle['Cycle_4'] + life_cycle['Cycle_5']\n",
    "\n",
    "life_cycle['Cycle_Total']"
   ]
  },
  {
   "cell_type": "code",
   "execution_count": 15,
   "id": "f0180278-80c6-40aa-8fb4-7a06c2489064",
   "metadata": {},
   "outputs": [],
   "source": [
    "# Please note to always use backslash (\\) when coding in Jupyter Note\u0002book when going to a new line in the middle of performing calculations;\n",
    "# otherwise, Python will not recognize that the calculation is being\n",
    "# continued in the next line."
   ]
  },
  {
   "cell_type": "code",
   "execution_count": 16,
   "id": "4dfe0bd9-7bc0-498a-b9e4-6563af378540",
   "metadata": {},
   "outputs": [
    {
     "data": {
      "text/html": [
       "<div>\n",
       "<style scoped>\n",
       "    .dataframe tbody tr th:only-of-type {\n",
       "        vertical-align: middle;\n",
       "    }\n",
       "\n",
       "    .dataframe tbody tr th {\n",
       "        vertical-align: top;\n",
       "    }\n",
       "\n",
       "    .dataframe thead th {\n",
       "        text-align: right;\n",
       "    }\n",
       "</style>\n",
       "<table border=\"1\" class=\"dataframe\">\n",
       "  <thead>\n",
       "    <tr style=\"text-align: right;\">\n",
       "      <th></th>\n",
       "      <th>Cycle_1</th>\n",
       "      <th>Cycle_2</th>\n",
       "      <th>Cycle_3</th>\n",
       "      <th>Cycle_4</th>\n",
       "      <th>Cycle_5</th>\n",
       "      <th>Cycle_Total</th>\n",
       "    </tr>\n",
       "  </thead>\n",
       "  <tbody>\n",
       "    <tr>\n",
       "      <th>Land</th>\n",
       "      <td>-1.749765</td>\n",
       "      <td>0.342680</td>\n",
       "      <td>1.153036</td>\n",
       "      <td>-0.252436</td>\n",
       "      <td>0.981321</td>\n",
       "      <td>0.474835</td>\n",
       "    </tr>\n",
       "    <tr>\n",
       "      <th>Seismic</th>\n",
       "      <td>0.514219</td>\n",
       "      <td>0.221180</td>\n",
       "      <td>-1.070043</td>\n",
       "      <td>-0.189496</td>\n",
       "      <td>0.255001</td>\n",
       "      <td>-0.269139</td>\n",
       "    </tr>\n",
       "    <tr>\n",
       "      <th>Geology</th>\n",
       "      <td>-0.458027</td>\n",
       "      <td>0.435163</td>\n",
       "      <td>-0.583595</td>\n",
       "      <td>0.816847</td>\n",
       "      <td>0.672721</td>\n",
       "      <td>0.883109</td>\n",
       "    </tr>\n",
       "    <tr>\n",
       "      <th>Drilling</th>\n",
       "      <td>-0.104411</td>\n",
       "      <td>-0.531280</td>\n",
       "      <td>1.029733</td>\n",
       "      <td>-0.438136</td>\n",
       "      <td>-1.118318</td>\n",
       "      <td>-1.162413</td>\n",
       "    </tr>\n",
       "    <tr>\n",
       "      <th>Completions</th>\n",
       "      <td>1.618982</td>\n",
       "      <td>1.541605</td>\n",
       "      <td>-0.251879</td>\n",
       "      <td>-0.842436</td>\n",
       "      <td>0.184519</td>\n",
       "      <td>2.250791</td>\n",
       "    </tr>\n",
       "    <tr>\n",
       "      <th>Production</th>\n",
       "      <td>0.937082</td>\n",
       "      <td>0.731000</td>\n",
       "      <td>1.361556</td>\n",
       "      <td>-0.326238</td>\n",
       "      <td>0.055676</td>\n",
       "      <td>2.759077</td>\n",
       "    </tr>\n",
       "    <tr>\n",
       "      <th>Facilities</th>\n",
       "      <td>0.222400</td>\n",
       "      <td>-1.443217</td>\n",
       "      <td>-0.756352</td>\n",
       "      <td>0.816454</td>\n",
       "      <td>0.750445</td>\n",
       "      <td>-0.410271</td>\n",
       "    </tr>\n",
       "    <tr>\n",
       "      <th>Midstream</th>\n",
       "      <td>-0.455947</td>\n",
       "      <td>1.189622</td>\n",
       "      <td>-1.690617</td>\n",
       "      <td>-1.356399</td>\n",
       "      <td>-1.232435</td>\n",
       "      <td>-3.545775</td>\n",
       "    </tr>\n",
       "  </tbody>\n",
       "</table>\n",
       "</div>"
      ],
      "text/plain": [
       "              Cycle_1   Cycle_2   Cycle_3   Cycle_4   Cycle_5  Cycle_Total\n",
       "Land        -1.749765  0.342680  1.153036 -0.252436  0.981321     0.474835\n",
       "Seismic      0.514219  0.221180 -1.070043 -0.189496  0.255001    -0.269139\n",
       "Geology     -0.458027  0.435163 -0.583595  0.816847  0.672721     0.883109\n",
       "Drilling    -0.104411 -0.531280  1.029733 -0.438136 -1.118318    -1.162413\n",
       "Completions  1.618982  1.541605 -0.251879 -0.842436  0.184519     2.250791\n",
       "Production   0.937082  0.731000  1.361556 -0.326238  0.055676     2.759077\n",
       "Facilities   0.222400 -1.443217 -0.756352  0.816454  0.750445    -0.410271\n",
       "Midstream   -0.455947  1.189622 -1.690617 -1.356399 -1.232435    -3.545775"
      ]
     },
     "execution_count": 16,
     "metadata": {},
     "output_type": "execute_result"
    }
   ],
   "source": [
    "life_cycle"
   ]
  },
  {
   "cell_type": "markdown",
   "id": "b6c94504-20a3-429e-8b68-69cf5f2e1090",
   "metadata": {},
   "source": [
    "## Dropping rows or columns in a data frame\n",
    "* If this drop \n",
    "is going to be permanent, please make sure to include \"inplace=  True\" becaus \r\n",
    "the default inplace is False in Python’s panda\n",
    "* . To drop rows, use axi= ¼ 0 (whi h\r\n",
    "is the default in Python’s pand\n",
    "* Td to drop columns, use ax=s ¼ 1 as sh wn\r\n",
    "below."
   ]
  },
  {
   "cell_type": "code",
   "execution_count": 17,
   "id": "159c0985-5bbe-4fab-aa8c-9436e306ab49",
   "metadata": {},
   "outputs": [
    {
     "data": {
      "text/html": [
       "<div>\n",
       "<style scoped>\n",
       "    .dataframe tbody tr th:only-of-type {\n",
       "        vertical-align: middle;\n",
       "    }\n",
       "\n",
       "    .dataframe tbody tr th {\n",
       "        vertical-align: top;\n",
       "    }\n",
       "\n",
       "    .dataframe thead th {\n",
       "        text-align: right;\n",
       "    }\n",
       "</style>\n",
       "<table border=\"1\" class=\"dataframe\">\n",
       "  <thead>\n",
       "    <tr style=\"text-align: right;\">\n",
       "      <th></th>\n",
       "      <th>Cycle_1</th>\n",
       "      <th>Cycle_2</th>\n",
       "      <th>Cycle_3</th>\n",
       "      <th>Cycle_4</th>\n",
       "      <th>Cycle_5</th>\n",
       "    </tr>\n",
       "  </thead>\n",
       "  <tbody>\n",
       "    <tr>\n",
       "      <th>Land</th>\n",
       "      <td>-1.749765</td>\n",
       "      <td>0.342680</td>\n",
       "      <td>1.153036</td>\n",
       "      <td>-0.252436</td>\n",
       "      <td>0.981321</td>\n",
       "    </tr>\n",
       "    <tr>\n",
       "      <th>Seismic</th>\n",
       "      <td>0.514219</td>\n",
       "      <td>0.221180</td>\n",
       "      <td>-1.070043</td>\n",
       "      <td>-0.189496</td>\n",
       "      <td>0.255001</td>\n",
       "    </tr>\n",
       "    <tr>\n",
       "      <th>Geology</th>\n",
       "      <td>-0.458027</td>\n",
       "      <td>0.435163</td>\n",
       "      <td>-0.583595</td>\n",
       "      <td>0.816847</td>\n",
       "      <td>0.672721</td>\n",
       "    </tr>\n",
       "    <tr>\n",
       "      <th>Drilling</th>\n",
       "      <td>-0.104411</td>\n",
       "      <td>-0.531280</td>\n",
       "      <td>1.029733</td>\n",
       "      <td>-0.438136</td>\n",
       "      <td>-1.118318</td>\n",
       "    </tr>\n",
       "    <tr>\n",
       "      <th>Completions</th>\n",
       "      <td>1.618982</td>\n",
       "      <td>1.541605</td>\n",
       "      <td>-0.251879</td>\n",
       "      <td>-0.842436</td>\n",
       "      <td>0.184519</td>\n",
       "    </tr>\n",
       "    <tr>\n",
       "      <th>Production</th>\n",
       "      <td>0.937082</td>\n",
       "      <td>0.731000</td>\n",
       "      <td>1.361556</td>\n",
       "      <td>-0.326238</td>\n",
       "      <td>0.055676</td>\n",
       "    </tr>\n",
       "    <tr>\n",
       "      <th>Facilities</th>\n",
       "      <td>0.222400</td>\n",
       "      <td>-1.443217</td>\n",
       "      <td>-0.756352</td>\n",
       "      <td>0.816454</td>\n",
       "      <td>0.750445</td>\n",
       "    </tr>\n",
       "    <tr>\n",
       "      <th>Midstream</th>\n",
       "      <td>-0.455947</td>\n",
       "      <td>1.189622</td>\n",
       "      <td>-1.690617</td>\n",
       "      <td>-1.356399</td>\n",
       "      <td>-1.232435</td>\n",
       "    </tr>\n",
       "  </tbody>\n",
       "</table>\n",
       "</div>"
      ],
      "text/plain": [
       "              Cycle_1   Cycle_2   Cycle_3   Cycle_4   Cycle_5\n",
       "Land        -1.749765  0.342680  1.153036 -0.252436  0.981321\n",
       "Seismic      0.514219  0.221180 -1.070043 -0.189496  0.255001\n",
       "Geology     -0.458027  0.435163 -0.583595  0.816847  0.672721\n",
       "Drilling    -0.104411 -0.531280  1.029733 -0.438136 -1.118318\n",
       "Completions  1.618982  1.541605 -0.251879 -0.842436  0.184519\n",
       "Production   0.937082  0.731000  1.361556 -0.326238  0.055676\n",
       "Facilities   0.222400 -1.443217 -0.756352  0.816454  0.750445\n",
       "Midstream   -0.455947  1.189622 -1.690617 -1.356399 -1.232435"
      ]
     },
     "execution_count": 17,
     "metadata": {},
     "output_type": "execute_result"
    }
   ],
   "source": [
    "# Dropping a column...\n",
    "\n",
    "life_cycle.drop(labels = ['Cycle_Total'], axis = 1, inplace = True)\n",
    "life_cycle"
   ]
  },
  {
   "cell_type": "code",
   "execution_count": 18,
   "id": "999e4323-4948-4d4c-9a6f-906a9d2eb807",
   "metadata": {},
   "outputs": [
    {
     "data": {
      "text/html": [
       "<div>\n",
       "<style scoped>\n",
       "    .dataframe tbody tr th:only-of-type {\n",
       "        vertical-align: middle;\n",
       "    }\n",
       "\n",
       "    .dataframe tbody tr th {\n",
       "        vertical-align: top;\n",
       "    }\n",
       "\n",
       "    .dataframe thead th {\n",
       "        text-align: right;\n",
       "    }\n",
       "</style>\n",
       "<table border=\"1\" class=\"dataframe\">\n",
       "  <thead>\n",
       "    <tr style=\"text-align: right;\">\n",
       "      <th></th>\n",
       "      <th>Cycle_1</th>\n",
       "      <th>Cycle_2</th>\n",
       "      <th>Cycle_3</th>\n",
       "      <th>Cycle_4</th>\n",
       "      <th>Cycle_5</th>\n",
       "    </tr>\n",
       "  </thead>\n",
       "  <tbody>\n",
       "    <tr>\n",
       "      <th>Land</th>\n",
       "      <td>-1.749765</td>\n",
       "      <td>0.342680</td>\n",
       "      <td>1.153036</td>\n",
       "      <td>-0.252436</td>\n",
       "      <td>0.981321</td>\n",
       "    </tr>\n",
       "    <tr>\n",
       "      <th>Seismic</th>\n",
       "      <td>0.514219</td>\n",
       "      <td>0.221180</td>\n",
       "      <td>-1.070043</td>\n",
       "      <td>-0.189496</td>\n",
       "      <td>0.255001</td>\n",
       "    </tr>\n",
       "    <tr>\n",
       "      <th>Geology</th>\n",
       "      <td>-0.458027</td>\n",
       "      <td>0.435163</td>\n",
       "      <td>-0.583595</td>\n",
       "      <td>0.816847</td>\n",
       "      <td>0.672721</td>\n",
       "    </tr>\n",
       "    <tr>\n",
       "      <th>Drilling</th>\n",
       "      <td>-0.104411</td>\n",
       "      <td>-0.531280</td>\n",
       "      <td>1.029733</td>\n",
       "      <td>-0.438136</td>\n",
       "      <td>-1.118318</td>\n",
       "    </tr>\n",
       "    <tr>\n",
       "      <th>Completions</th>\n",
       "      <td>1.618982</td>\n",
       "      <td>1.541605</td>\n",
       "      <td>-0.251879</td>\n",
       "      <td>-0.842436</td>\n",
       "      <td>0.184519</td>\n",
       "    </tr>\n",
       "    <tr>\n",
       "      <th>Production</th>\n",
       "      <td>0.937082</td>\n",
       "      <td>0.731000</td>\n",
       "      <td>1.361556</td>\n",
       "      <td>-0.326238</td>\n",
       "      <td>0.055676</td>\n",
       "    </tr>\n",
       "    <tr>\n",
       "      <th>Facilities</th>\n",
       "      <td>0.222400</td>\n",
       "      <td>-1.443217</td>\n",
       "      <td>-0.756352</td>\n",
       "      <td>0.816454</td>\n",
       "      <td>0.750445</td>\n",
       "    </tr>\n",
       "    <tr>\n",
       "      <th>Midstream</th>\n",
       "      <td>-0.455947</td>\n",
       "      <td>1.189622</td>\n",
       "      <td>-1.690617</td>\n",
       "      <td>-1.356399</td>\n",
       "      <td>-1.232435</td>\n",
       "    </tr>\n",
       "  </tbody>\n",
       "</table>\n",
       "</div>"
      ],
      "text/plain": [
       "              Cycle_1   Cycle_2   Cycle_3   Cycle_4   Cycle_5\n",
       "Land        -1.749765  0.342680  1.153036 -0.252436  0.981321\n",
       "Seismic      0.514219  0.221180 -1.070043 -0.189496  0.255001\n",
       "Geology     -0.458027  0.435163 -0.583595  0.816847  0.672721\n",
       "Drilling    -0.104411 -0.531280  1.029733 -0.438136 -1.118318\n",
       "Completions  1.618982  1.541605 -0.251879 -0.842436  0.184519\n",
       "Production   0.937082  0.731000  1.361556 -0.326238  0.055676\n",
       "Facilities   0.222400 -1.443217 -0.756352  0.816454  0.750445\n",
       "Midstream   -0.455947  1.189622 -1.690617 -1.356399 -1.232435"
      ]
     },
     "execution_count": 18,
     "metadata": {},
     "output_type": "execute_result"
    }
   ],
   "source": [
    "# Dropping a row...\n",
    "\n",
    "life_cycle.drop(labels = ['Land', 'Seismic'], axis = 0, inplace = False)\n",
    "life_cycle"
   ]
  },
  {
   "cell_type": "code",
   "execution_count": 19,
   "id": "119c4b95-c6a5-4cd9-8366-a5fa0f8054a0",
   "metadata": {},
   "outputs": [
    {
     "data": {
      "text/html": [
       "<div>\n",
       "<style scoped>\n",
       "    .dataframe tbody tr th:only-of-type {\n",
       "        vertical-align: middle;\n",
       "    }\n",
       "\n",
       "    .dataframe tbody tr th {\n",
       "        vertical-align: top;\n",
       "    }\n",
       "\n",
       "    .dataframe thead th {\n",
       "        text-align: right;\n",
       "    }\n",
       "</style>\n",
       "<table border=\"1\" class=\"dataframe\">\n",
       "  <thead>\n",
       "    <tr style=\"text-align: right;\">\n",
       "      <th></th>\n",
       "      <th>Cycle_1</th>\n",
       "      <th>Cycle_2</th>\n",
       "      <th>Cycle_3</th>\n",
       "      <th>Cycle_4</th>\n",
       "      <th>Cycle_5</th>\n",
       "    </tr>\n",
       "  </thead>\n",
       "  <tbody>\n",
       "    <tr>\n",
       "      <th>Geology</th>\n",
       "      <td>-0.458027</td>\n",
       "      <td>0.435163</td>\n",
       "      <td>-0.583595</td>\n",
       "      <td>0.816847</td>\n",
       "      <td>0.672721</td>\n",
       "    </tr>\n",
       "    <tr>\n",
       "      <th>Drilling</th>\n",
       "      <td>-0.104411</td>\n",
       "      <td>-0.531280</td>\n",
       "      <td>1.029733</td>\n",
       "      <td>-0.438136</td>\n",
       "      <td>-1.118318</td>\n",
       "    </tr>\n",
       "    <tr>\n",
       "      <th>Completions</th>\n",
       "      <td>1.618982</td>\n",
       "      <td>1.541605</td>\n",
       "      <td>-0.251879</td>\n",
       "      <td>-0.842436</td>\n",
       "      <td>0.184519</td>\n",
       "    </tr>\n",
       "    <tr>\n",
       "      <th>Production</th>\n",
       "      <td>0.937082</td>\n",
       "      <td>0.731000</td>\n",
       "      <td>1.361556</td>\n",
       "      <td>-0.326238</td>\n",
       "      <td>0.055676</td>\n",
       "    </tr>\n",
       "    <tr>\n",
       "      <th>Facilities</th>\n",
       "      <td>0.222400</td>\n",
       "      <td>-1.443217</td>\n",
       "      <td>-0.756352</td>\n",
       "      <td>0.816454</td>\n",
       "      <td>0.750445</td>\n",
       "    </tr>\n",
       "    <tr>\n",
       "      <th>Midstream</th>\n",
       "      <td>-0.455947</td>\n",
       "      <td>1.189622</td>\n",
       "      <td>-1.690617</td>\n",
       "      <td>-1.356399</td>\n",
       "      <td>-1.232435</td>\n",
       "    </tr>\n",
       "  </tbody>\n",
       "</table>\n",
       "</div>"
      ],
      "text/plain": [
       "              Cycle_1   Cycle_2   Cycle_3   Cycle_4   Cycle_5\n",
       "Geology     -0.458027  0.435163 -0.583595  0.816847  0.672721\n",
       "Drilling    -0.104411 -0.531280  1.029733 -0.438136 -1.118318\n",
       "Completions  1.618982  1.541605 -0.251879 -0.842436  0.184519\n",
       "Production   0.937082  0.731000  1.361556 -0.326238  0.055676\n",
       "Facilities   0.222400 -1.443217 -0.756352  0.816454  0.750445\n",
       "Midstream   -0.455947  1.189622 -1.690617 -1.356399 -1.232435"
      ]
     },
     "execution_count": 19,
     "metadata": {},
     "output_type": "execute_result"
    }
   ],
   "source": [
    "life_cycle.drop(labels = ['Land', 'Seismic'], axis = 0, inplace = True)\n",
    "life_cycle"
   ]
  },
  {
   "cell_type": "markdown",
   "id": "5c5cd8df-c563-47bc-9dba-b1ccc54a3243",
   "metadata": {},
   "source": [
    "# loc\n",
    "* loc is for selecting rows and columns by label. The format for loc is the rows\r\n",
    "of interest followed by columns of interest. Let’s create a 5\u00025 random number\r\n",
    "matrix as follow"
   ]
  },
  {
   "cell_type": "code",
   "execution_count": 21,
   "id": "27e760af-ddaa-41de-84b6-2e976d6d0204",
   "metadata": {},
   "outputs": [
    {
     "data": {
      "text/html": [
       "<div>\n",
       "<style scoped>\n",
       "    .dataframe tbody tr th:only-of-type {\n",
       "        vertical-align: middle;\n",
       "    }\n",
       "\n",
       "    .dataframe tbody tr th {\n",
       "        vertical-align: top;\n",
       "    }\n",
       "\n",
       "    .dataframe thead th {\n",
       "        text-align: right;\n",
       "    }\n",
       "</style>\n",
       "<table border=\"1\" class=\"dataframe\">\n",
       "  <thead>\n",
       "    <tr style=\"text-align: right;\">\n",
       "      <th></th>\n",
       "      <th>Cycle_1</th>\n",
       "      <th>Cycle_2</th>\n",
       "      <th>Cycle_3</th>\n",
       "      <th>Cycle_4</th>\n",
       "      <th>Cycle_5</th>\n",
       "    </tr>\n",
       "  </thead>\n",
       "  <tbody>\n",
       "    <tr>\n",
       "      <th>0</th>\n",
       "      <td>-1.450948</td>\n",
       "      <td>1.910953</td>\n",
       "      <td>0.711879</td>\n",
       "      <td>-0.247738</td>\n",
       "      <td>0.361466</td>\n",
       "    </tr>\n",
       "    <tr>\n",
       "      <th>1</th>\n",
       "      <td>-0.032950</td>\n",
       "      <td>-0.221347</td>\n",
       "      <td>0.477257</td>\n",
       "      <td>-0.691939</td>\n",
       "      <td>0.792006</td>\n",
       "    </tr>\n",
       "    <tr>\n",
       "      <th>2</th>\n",
       "      <td>0.073249</td>\n",
       "      <td>1.303286</td>\n",
       "      <td>0.213481</td>\n",
       "      <td>1.017349</td>\n",
       "      <td>1.911712</td>\n",
       "    </tr>\n",
       "    <tr>\n",
       "      <th>3</th>\n",
       "      <td>-0.529672</td>\n",
       "      <td>1.842135</td>\n",
       "      <td>-1.057235</td>\n",
       "      <td>-0.862916</td>\n",
       "      <td>0.237631</td>\n",
       "    </tr>\n",
       "    <tr>\n",
       "      <th>4</th>\n",
       "      <td>-1.154182</td>\n",
       "      <td>1.214984</td>\n",
       "      <td>-1.293759</td>\n",
       "      <td>0.822723</td>\n",
       "      <td>-0.332151</td>\n",
       "    </tr>\n",
       "  </tbody>\n",
       "</table>\n",
       "</div>"
      ],
      "text/plain": [
       "    Cycle_1   Cycle_2   Cycle_3   Cycle_4   Cycle_5\n",
       "0 -1.450948  1.910953  0.711879 -0.247738  0.361466\n",
       "1 -0.032950 -0.221347  0.477257 -0.691939  0.792006\n",
       "2  0.073249  1.303286  0.213481  1.017349  1.911712\n",
       "3 -0.529672  1.842135 -1.057235 -0.862916  0.237631\n",
       "4 -1.154182  1.214984 -1.293759  0.822723 -0.332151"
      ]
     },
     "execution_count": 21,
     "metadata": {},
     "output_type": "execute_result"
    }
   ],
   "source": [
    "from numpy.random import randn\n",
    "seed = 200\n",
    "np.random.seed(seed)\n",
    "\n",
    "matrix = pd.DataFrame(randn(5,5), columns = 'Cycle_1 Cycle_2 Cycle_3 Cycle_4\\\n",
    "    Cycle_5'.split())\n",
    "\n",
    "matrix"
   ]
  },
  {
   "cell_type": "code",
   "execution_count": 22,
   "id": "2ff2ab47-0973-4017-9e23-6616c1d05f65",
   "metadata": {},
   "outputs": [
    {
     "data": {
      "text/html": [
       "<div>\n",
       "<style scoped>\n",
       "    .dataframe tbody tr th:only-of-type {\n",
       "        vertical-align: middle;\n",
       "    }\n",
       "\n",
       "    .dataframe tbody tr th {\n",
       "        vertical-align: top;\n",
       "    }\n",
       "\n",
       "    .dataframe thead th {\n",
       "        text-align: right;\n",
       "    }\n",
       "</style>\n",
       "<table border=\"1\" class=\"dataframe\">\n",
       "  <thead>\n",
       "    <tr style=\"text-align: right;\">\n",
       "      <th></th>\n",
       "      <th>Cycle_1</th>\n",
       "      <th>Cycle_2</th>\n",
       "      <th>Cycle_3</th>\n",
       "      <th>Cycle_4</th>\n",
       "      <th>Cycle_5</th>\n",
       "    </tr>\n",
       "  </thead>\n",
       "  <tbody>\n",
       "    <tr>\n",
       "      <th>0</th>\n",
       "      <td>-1.450948</td>\n",
       "      <td>1.910953</td>\n",
       "      <td>0.711879</td>\n",
       "      <td>-0.247738</td>\n",
       "      <td>0.361466</td>\n",
       "    </tr>\n",
       "    <tr>\n",
       "      <th>1</th>\n",
       "      <td>-0.032950</td>\n",
       "      <td>-0.221347</td>\n",
       "      <td>0.477257</td>\n",
       "      <td>-0.691939</td>\n",
       "      <td>0.792006</td>\n",
       "    </tr>\n",
       "    <tr>\n",
       "      <th>2</th>\n",
       "      <td>0.073249</td>\n",
       "      <td>1.303286</td>\n",
       "      <td>0.213481</td>\n",
       "      <td>1.017349</td>\n",
       "      <td>1.911712</td>\n",
       "    </tr>\n",
       "  </tbody>\n",
       "</table>\n",
       "</div>"
      ],
      "text/plain": [
       "    Cycle_1   Cycle_2   Cycle_3   Cycle_4   Cycle_5\n",
       "0 -1.450948  1.910953  0.711879 -0.247738  0.361466\n",
       "1 -0.032950 -0.221347  0.477257 -0.691939  0.792006\n",
       "2  0.073249  1.303286  0.213481  1.017349  1.911712"
      ]
     },
     "execution_count": 22,
     "metadata": {},
     "output_type": "execute_result"
    }
   ],
   "source": [
    "# From the 5x5 matrix above, let’s select rows 0 through 2 and all columns\n",
    "# as follows:\n",
    "\n",
    "matrix.loc[0:2,:]"
   ]
  },
  {
   "cell_type": "code",
   "execution_count": 23,
   "id": "b5d7cf6b-b62f-4e26-9753-e3e190463e7b",
   "metadata": {},
   "outputs": [
    {
     "data": {
      "text/html": [
       "<div>\n",
       "<style scoped>\n",
       "    .dataframe tbody tr th:only-of-type {\n",
       "        vertical-align: middle;\n",
       "    }\n",
       "\n",
       "    .dataframe tbody tr th {\n",
       "        vertical-align: top;\n",
       "    }\n",
       "\n",
       "    .dataframe thead th {\n",
       "        text-align: right;\n",
       "    }\n",
       "</style>\n",
       "<table border=\"1\" class=\"dataframe\">\n",
       "  <thead>\n",
       "    <tr style=\"text-align: right;\">\n",
       "      <th></th>\n",
       "      <th>Cycle_1</th>\n",
       "      <th>Cycle_2</th>\n",
       "      <th>Cycle_3</th>\n",
       "      <th>Cycle_4</th>\n",
       "      <th>Cycle_5</th>\n",
       "    </tr>\n",
       "  </thead>\n",
       "  <tbody>\n",
       "    <tr>\n",
       "      <th>0</th>\n",
       "      <td>-1.450948</td>\n",
       "      <td>1.910953</td>\n",
       "      <td>0.711879</td>\n",
       "      <td>-0.247738</td>\n",
       "      <td>0.361466</td>\n",
       "    </tr>\n",
       "    <tr>\n",
       "      <th>1</th>\n",
       "      <td>-0.032950</td>\n",
       "      <td>-0.221347</td>\n",
       "      <td>0.477257</td>\n",
       "      <td>-0.691939</td>\n",
       "      <td>0.792006</td>\n",
       "    </tr>\n",
       "    <tr>\n",
       "      <th>2</th>\n",
       "      <td>0.073249</td>\n",
       "      <td>1.303286</td>\n",
       "      <td>0.213481</td>\n",
       "      <td>1.017349</td>\n",
       "      <td>1.911712</td>\n",
       "    </tr>\n",
       "  </tbody>\n",
       "</table>\n",
       "</div>"
      ],
      "text/plain": [
       "    Cycle_1   Cycle_2   Cycle_3   Cycle_4   Cycle_5\n",
       "0 -1.450948  1.910953  0.711879 -0.247738  0.361466\n",
       "1 -0.032950 -0.221347  0.477257 -0.691939  0.792006\n",
       "2  0.073249  1.303286  0.213481  1.017349  1.911712"
      ]
     },
     "execution_count": 23,
     "metadata": {},
     "output_type": "execute_result"
    }
   ],
   "source": [
    "# The code above can also be rewritten as follows with the same outcome:\n",
    "matrix.loc[[0,1,2],:]"
   ]
  },
  {
   "cell_type": "markdown",
   "id": "200d09e0-039b-4fdd-8238-5a45522a3b99",
   "metadata": {},
   "source": [
    "* Please note instead of specifying rows of 0, 1, and 2, it is recommended to use [0:2] if the rows of interest are continuous.\n",
    "* If the rows of interests are not continuous, the above command can be used instead."
   ]
  },
  {
   "cell_type": "code",
   "execution_count": 24,
   "id": "2f505316-631d-43c1-a90d-2f2932bd1645",
   "metadata": {},
   "outputs": [
    {
     "data": {
      "text/html": [
       "<div>\n",
       "<style scoped>\n",
       "    .dataframe tbody tr th:only-of-type {\n",
       "        vertical-align: middle;\n",
       "    }\n",
       "\n",
       "    .dataframe tbody tr th {\n",
       "        vertical-align: top;\n",
       "    }\n",
       "\n",
       "    .dataframe thead th {\n",
       "        text-align: right;\n",
       "    }\n",
       "</style>\n",
       "<table border=\"1\" class=\"dataframe\">\n",
       "  <thead>\n",
       "    <tr style=\"text-align: right;\">\n",
       "      <th></th>\n",
       "      <th>Cycle_1</th>\n",
       "      <th>Cycle_2</th>\n",
       "    </tr>\n",
       "  </thead>\n",
       "  <tbody>\n",
       "    <tr>\n",
       "      <th>0</th>\n",
       "      <td>-1.450948</td>\n",
       "      <td>1.910953</td>\n",
       "    </tr>\n",
       "    <tr>\n",
       "      <th>1</th>\n",
       "      <td>-0.032950</td>\n",
       "      <td>-0.221347</td>\n",
       "    </tr>\n",
       "    <tr>\n",
       "      <th>2</th>\n",
       "      <td>0.073249</td>\n",
       "      <td>1.303286</td>\n",
       "    </tr>\n",
       "    <tr>\n",
       "      <th>3</th>\n",
       "      <td>-0.529672</td>\n",
       "      <td>1.842135</td>\n",
       "    </tr>\n",
       "    <tr>\n",
       "      <th>4</th>\n",
       "      <td>-1.154182</td>\n",
       "      <td>1.214984</td>\n",
       "    </tr>\n",
       "  </tbody>\n",
       "</table>\n",
       "</div>"
      ],
      "text/plain": [
       "    Cycle_1   Cycle_2\n",
       "0 -1.450948  1.910953\n",
       "1 -0.032950 -0.221347\n",
       "2  0.073249  1.303286\n",
       "3 -0.529672  1.842135\n",
       "4 -1.154182  1.214984"
      ]
     },
     "execution_count": 24,
     "metadata": {},
     "output_type": "execute_result"
    }
   ],
   "source": [
    "# To select all rows and the first two columns, the code below can be used:\n",
    "# name.loc[row, colum]\n",
    "\n",
    "matrix.loc[:,['Cycle_1','Cycle_2']]"
   ]
  },
  {
   "cell_type": "code",
   "execution_count": 25,
   "id": "d92246da-898b-459a-85a0-b58f8bc04d0b",
   "metadata": {},
   "outputs": [
    {
     "data": {
      "text/html": [
       "<div>\n",
       "<style scoped>\n",
       "    .dataframe tbody tr th:only-of-type {\n",
       "        vertical-align: middle;\n",
       "    }\n",
       "\n",
       "    .dataframe tbody tr th {\n",
       "        vertical-align: top;\n",
       "    }\n",
       "\n",
       "    .dataframe thead th {\n",
       "        text-align: right;\n",
       "    }\n",
       "</style>\n",
       "<table border=\"1\" class=\"dataframe\">\n",
       "  <thead>\n",
       "    <tr style=\"text-align: right;\">\n",
       "      <th></th>\n",
       "      <th>Cycle_3</th>\n",
       "      <th>Cycle_5</th>\n",
       "    </tr>\n",
       "  </thead>\n",
       "  <tbody>\n",
       "    <tr>\n",
       "      <th>0</th>\n",
       "      <td>0.711879</td>\n",
       "      <td>0.361466</td>\n",
       "    </tr>\n",
       "    <tr>\n",
       "      <th>1</th>\n",
       "      <td>0.477257</td>\n",
       "      <td>0.792006</td>\n",
       "    </tr>\n",
       "    <tr>\n",
       "      <th>2</th>\n",
       "      <td>0.213481</td>\n",
       "      <td>1.911712</td>\n",
       "    </tr>\n",
       "    <tr>\n",
       "      <th>3</th>\n",
       "      <td>-1.057235</td>\n",
       "      <td>0.237631</td>\n",
       "    </tr>\n",
       "  </tbody>\n",
       "</table>\n",
       "</div>"
      ],
      "text/plain": [
       "    Cycle_3   Cycle_5\n",
       "0  0.711879  0.361466\n",
       "1  0.477257  0.792006\n",
       "2  0.213481  1.911712\n",
       "3 -1.057235  0.237631"
      ]
     },
     "execution_count": 25,
     "metadata": {},
     "output_type": "execute_result"
    }
   ],
   "source": [
    "# To select the first four rows and cycles 3 and 5, the command can be written as follows:\n",
    "matrix.loc[0:3,['Cycle_3','Cycle_5']]"
   ]
  },
  {
   "cell_type": "markdown",
   "id": "cb09bf0d-ddd4-41e7-b1d4-fdd3ed999f73",
   "metadata": {},
   "source": [
    "# iloc\n",
    "* Please note that loc is inclusive on both sides when selecting a range.\n",
    "* For example, when selecting matrix.loc[0:3,:], it will return rows 0, 1, 2, and 3.\n",
    "* However, when using iloc, it will be inclusive of the first number but exclusive of the second number.\n",
    "* Therefore, when selecting matrix.iloc[0:3,:], it will return rows 0, 1, and 2 only and will exclude row 3. \"iloc\" is used for selecting rows and columns by integer position. That’s why it is referred to as iloc (\"i\" stands for integer and loc stands for location)."
   ]
  },
  {
   "cell_type": "code",
   "execution_count": 26,
   "id": "da3cf6e2-b59e-4406-bb18-6c386e40a032",
   "metadata": {},
   "outputs": [
    {
     "data": {
      "text/html": [
       "<div>\n",
       "<style scoped>\n",
       "    .dataframe tbody tr th:only-of-type {\n",
       "        vertical-align: middle;\n",
       "    }\n",
       "\n",
       "    .dataframe tbody tr th {\n",
       "        vertical-align: top;\n",
       "    }\n",
       "\n",
       "    .dataframe thead th {\n",
       "        text-align: right;\n",
       "    }\n",
       "</style>\n",
       "<table border=\"1\" class=\"dataframe\">\n",
       "  <thead>\n",
       "    <tr style=\"text-align: right;\">\n",
       "      <th></th>\n",
       "      <th>Cycle_1</th>\n",
       "      <th>Cycle_2</th>\n",
       "    </tr>\n",
       "  </thead>\n",
       "  <tbody>\n",
       "    <tr>\n",
       "      <th>0</th>\n",
       "      <td>-1.450948</td>\n",
       "      <td>1.910953</td>\n",
       "    </tr>\n",
       "    <tr>\n",
       "      <th>1</th>\n",
       "      <td>-0.032950</td>\n",
       "      <td>-0.221347</td>\n",
       "    </tr>\n",
       "    <tr>\n",
       "      <th>2</th>\n",
       "      <td>0.073249</td>\n",
       "      <td>1.303286</td>\n",
       "    </tr>\n",
       "    <tr>\n",
       "      <th>3</th>\n",
       "      <td>-0.529672</td>\n",
       "      <td>1.842135</td>\n",
       "    </tr>\n",
       "    <tr>\n",
       "      <th>4</th>\n",
       "      <td>-1.154182</td>\n",
       "      <td>1.214984</td>\n",
       "    </tr>\n",
       "  </tbody>\n",
       "</table>\n",
       "</div>"
      ],
      "text/plain": [
       "    Cycle_1   Cycle_2\n",
       "0 -1.450948  1.910953\n",
       "1 -0.032950 -0.221347\n",
       "2  0.073249  1.303286\n",
       "3 -0.529672  1.842135\n",
       "4 -1.154182  1.214984"
      ]
     },
     "execution_count": 26,
     "metadata": {},
     "output_type": "execute_result"
    }
   ],
   "source": [
    "matrix.iloc[:,0:2]"
   ]
  },
  {
   "cell_type": "code",
   "execution_count": 27,
   "id": "6962ee42-89b2-48ba-b35e-fd7e1ce5ca34",
   "metadata": {},
   "outputs": [
    {
     "data": {
      "text/plain": [
       "1.0173489526279178"
      ]
     },
     "execution_count": 27,
     "metadata": {},
     "output_type": "execute_result"
    }
   ],
   "source": [
    "# If it is desirable to obtain the number 1.017349 from the matrix data frame, iloc can be used as follows:\n",
    "\n",
    "matrix.iloc[2,3]"
   ]
  },
  {
   "cell_type": "code",
   "execution_count": 28,
   "id": "e1b436ae-ab78-4ab7-bfc5-a13cf9ae9cbd",
   "metadata": {},
   "outputs": [
    {
     "data": {
      "text/html": [
       "<div>\n",
       "<style scoped>\n",
       "    .dataframe tbody tr th:only-of-type {\n",
       "        vertical-align: middle;\n",
       "    }\n",
       "\n",
       "    .dataframe tbody tr th {\n",
       "        vertical-align: top;\n",
       "    }\n",
       "\n",
       "    .dataframe thead th {\n",
       "        text-align: right;\n",
       "    }\n",
       "</style>\n",
       "<table border=\"1\" class=\"dataframe\">\n",
       "  <thead>\n",
       "    <tr style=\"text-align: right;\">\n",
       "      <th></th>\n",
       "      <th>Cycle_1</th>\n",
       "      <th>Cycle_3</th>\n",
       "      <th>Cycle_5</th>\n",
       "    </tr>\n",
       "  </thead>\n",
       "  <tbody>\n",
       "    <tr>\n",
       "      <th>0</th>\n",
       "      <td>-1.450948</td>\n",
       "      <td>0.711879</td>\n",
       "      <td>0.361466</td>\n",
       "    </tr>\n",
       "    <tr>\n",
       "      <th>2</th>\n",
       "      <td>0.073249</td>\n",
       "      <td>0.213481</td>\n",
       "      <td>1.911712</td>\n",
       "    </tr>\n",
       "    <tr>\n",
       "      <th>4</th>\n",
       "      <td>-1.154182</td>\n",
       "      <td>-1.293759</td>\n",
       "      <td>-0.332151</td>\n",
       "    </tr>\n",
       "  </tbody>\n",
       "</table>\n",
       "</div>"
      ],
      "text/plain": [
       "    Cycle_1   Cycle_3   Cycle_5\n",
       "0 -1.450948  0.711879  0.361466\n",
       "2  0.073249  0.213481  1.911712\n",
       "4 -1.154182 -1.293759 -0.332151"
      ]
     },
     "execution_count": 28,
     "metadata": {},
     "output_type": "execute_result"
    }
   ],
   "source": [
    "# To select certain rows and columns, the notation below can be used:\n",
    "\n",
    "matrix.iloc[[0,2,4],[0,2,4]]"
   ]
  },
  {
   "cell_type": "markdown",
   "id": "0a48d5e6-4a2d-4f17-b8fb-77fb3537aad0",
   "metadata": {},
   "source": [
    "* Therefore, **loc** is primarily used for **labels** and **iloc** is primarily used for **integer selection**.\n",
    "* **loc** is inclusive on both sides while **iloc** is inclusive on one side and exclusive on another."
   ]
  },
  {
   "cell_type": "code",
   "execution_count": 29,
   "id": "254a1273-b677-4e27-9699-03e0310c50ba",
   "metadata": {},
   "outputs": [
    {
     "data": {
      "text/html": [
       "<div>\n",
       "<style scoped>\n",
       "    .dataframe tbody tr th:only-of-type {\n",
       "        vertical-align: middle;\n",
       "    }\n",
       "\n",
       "    .dataframe tbody tr th {\n",
       "        vertical-align: top;\n",
       "    }\n",
       "\n",
       "    .dataframe thead th {\n",
       "        text-align: right;\n",
       "    }\n",
       "</style>\n",
       "<table border=\"1\" class=\"dataframe\">\n",
       "  <thead>\n",
       "    <tr style=\"text-align: right;\">\n",
       "      <th></th>\n",
       "      <th>Cycle_1</th>\n",
       "      <th>Cycle_2</th>\n",
       "    </tr>\n",
       "  </thead>\n",
       "  <tbody>\n",
       "    <tr>\n",
       "      <th>0</th>\n",
       "      <td>-1.450948</td>\n",
       "      <td>1.910953</td>\n",
       "    </tr>\n",
       "    <tr>\n",
       "      <th>1</th>\n",
       "      <td>-0.032950</td>\n",
       "      <td>-0.221347</td>\n",
       "    </tr>\n",
       "    <tr>\n",
       "      <th>2</th>\n",
       "      <td>0.073249</td>\n",
       "      <td>1.303286</td>\n",
       "    </tr>\n",
       "    <tr>\n",
       "      <th>3</th>\n",
       "      <td>-0.529672</td>\n",
       "      <td>1.842135</td>\n",
       "    </tr>\n",
       "    <tr>\n",
       "      <th>4</th>\n",
       "      <td>-1.154182</td>\n",
       "      <td>1.214984</td>\n",
       "    </tr>\n",
       "  </tbody>\n",
       "</table>\n",
       "</div>"
      ],
      "text/plain": [
       "    Cycle_1   Cycle_2\n",
       "0 -1.450948  1.910953\n",
       "1 -0.032950 -0.221347\n",
       "2  0.073249  1.303286\n",
       "3 -0.529672  1.842135\n",
       "4 -1.154182  1.214984"
      ]
     },
     "execution_count": 29,
     "metadata": {},
     "output_type": "execute_result"
    }
   ],
   "source": [
    "# Please note that if it is desirable to obtain the first two columns from the\n",
    "# matrix data frame, the following two methodologies will yield the same result:\n",
    "\n",
    "matrix[['Cycle_1','Cycle_2']]"
   ]
  },
  {
   "cell_type": "code",
   "execution_count": 30,
   "id": "de0055d2-2da7-4efe-9efd-a827c5a964d0",
   "metadata": {},
   "outputs": [
    {
     "data": {
      "text/html": [
       "<div>\n",
       "<style scoped>\n",
       "    .dataframe tbody tr th:only-of-type {\n",
       "        vertical-align: middle;\n",
       "    }\n",
       "\n",
       "    .dataframe tbody tr th {\n",
       "        vertical-align: top;\n",
       "    }\n",
       "\n",
       "    .dataframe thead th {\n",
       "        text-align: right;\n",
       "    }\n",
       "</style>\n",
       "<table border=\"1\" class=\"dataframe\">\n",
       "  <thead>\n",
       "    <tr style=\"text-align: right;\">\n",
       "      <th></th>\n",
       "      <th>Cycle_1</th>\n",
       "      <th>Cycle_2</th>\n",
       "    </tr>\n",
       "  </thead>\n",
       "  <tbody>\n",
       "    <tr>\n",
       "      <th>0</th>\n",
       "      <td>-1.450948</td>\n",
       "      <td>1.910953</td>\n",
       "    </tr>\n",
       "    <tr>\n",
       "      <th>1</th>\n",
       "      <td>-0.032950</td>\n",
       "      <td>-0.221347</td>\n",
       "    </tr>\n",
       "    <tr>\n",
       "      <th>2</th>\n",
       "      <td>0.073249</td>\n",
       "      <td>1.303286</td>\n",
       "    </tr>\n",
       "    <tr>\n",
       "      <th>3</th>\n",
       "      <td>-0.529672</td>\n",
       "      <td>1.842135</td>\n",
       "    </tr>\n",
       "    <tr>\n",
       "      <th>4</th>\n",
       "      <td>-1.154182</td>\n",
       "      <td>1.214984</td>\n",
       "    </tr>\n",
       "  </tbody>\n",
       "</table>\n",
       "</div>"
      ],
      "text/plain": [
       "    Cycle_1   Cycle_2\n",
       "0 -1.450948  1.910953\n",
       "1 -0.032950 -0.221347\n",
       "2  0.073249  1.303286\n",
       "3 -0.529672  1.842135\n",
       "4 -1.154182  1.214984"
      ]
     },
     "execution_count": 30,
     "metadata": {},
     "output_type": "execute_result"
    }
   ],
   "source": [
    "matrix.loc[:,['Cycle_1','Cycle_2']]"
   ]
  },
  {
   "cell_type": "markdown",
   "id": "400212c4-795a-47e4-984a-56be15282b4d",
   "metadata": {},
   "source": [
    "# Conditional selection\n",
    "* Pandas allows for conditional selection for filtering the desired data. To\n",
    "illustrate an example, let’s create an 8\u00024 matrix data frame as follows:"
   ]
  },
  {
   "cell_type": "code",
   "execution_count": 33,
   "id": "b10b498b-e999-4203-962b-8d8e99d8eef3",
   "metadata": {},
   "outputs": [
    {
     "data": {
      "text/html": [
       "<div>\n",
       "<style scoped>\n",
       "    .dataframe tbody tr th:only-of-type {\n",
       "        vertical-align: middle;\n",
       "    }\n",
       "\n",
       "    .dataframe tbody tr th {\n",
       "        vertical-align: top;\n",
       "    }\n",
       "\n",
       "    .dataframe thead th {\n",
       "        text-align: right;\n",
       "    }\n",
       "</style>\n",
       "<table border=\"1\" class=\"dataframe\">\n",
       "  <thead>\n",
       "    <tr style=\"text-align: right;\">\n",
       "      <th></th>\n",
       "      <th>Drill</th>\n",
       "      <th>No_Drill</th>\n",
       "      <th>Frac</th>\n",
       "      <th>No_Frac</th>\n",
       "    </tr>\n",
       "  </thead>\n",
       "  <tbody>\n",
       "    <tr>\n",
       "      <th>0</th>\n",
       "      <td>-1.130571</td>\n",
       "      <td>0.696200</td>\n",
       "      <td>-0.432293</td>\n",
       "      <td>0.741020</td>\n",
       "    </tr>\n",
       "    <tr>\n",
       "      <th>1</th>\n",
       "      <td>-0.478137</td>\n",
       "      <td>1.386040</td>\n",
       "      <td>0.125180</td>\n",
       "      <td>1.148860</td>\n",
       "    </tr>\n",
       "    <tr>\n",
       "      <th>2</th>\n",
       "      <td>-2.350259</td>\n",
       "      <td>0.183293</td>\n",
       "      <td>-0.311386</td>\n",
       "      <td>-0.294066</td>\n",
       "    </tr>\n",
       "    <tr>\n",
       "      <th>3</th>\n",
       "      <td>0.400061</td>\n",
       "      <td>1.005500</td>\n",
       "      <td>0.501643</td>\n",
       "      <td>-0.000668</td>\n",
       "    </tr>\n",
       "    <tr>\n",
       "      <th>4</th>\n",
       "      <td>1.303972</td>\n",
       "      <td>1.073324</td>\n",
       "      <td>-0.515345</td>\n",
       "      <td>1.662900</td>\n",
       "    </tr>\n",
       "    <tr>\n",
       "      <th>5</th>\n",
       "      <td>0.551817</td>\n",
       "      <td>-0.579494</td>\n",
       "      <td>-0.848800</td>\n",
       "      <td>-0.410862</td>\n",
       "    </tr>\n",
       "    <tr>\n",
       "      <th>6</th>\n",
       "      <td>2.160625</td>\n",
       "      <td>-1.557699</td>\n",
       "      <td>0.134852</td>\n",
       "      <td>0.005454</td>\n",
       "    </tr>\n",
       "    <tr>\n",
       "      <th>7</th>\n",
       "      <td>0.646549</td>\n",
       "      <td>-0.592073</td>\n",
       "      <td>0.551924</td>\n",
       "      <td>1.378349</td>\n",
       "    </tr>\n",
       "  </tbody>\n",
       "</table>\n",
       "</div>"
      ],
      "text/plain": [
       "      Drill  No_Drill      Frac   No_Frac\n",
       "0 -1.130571  0.696200 -0.432293  0.741020\n",
       "1 -0.478137  1.386040  0.125180  1.148860\n",
       "2 -2.350259  0.183293 -0.311386 -0.294066\n",
       "3  0.400061  1.005500  0.501643 -0.000668\n",
       "4  1.303972  1.073324 -0.515345  1.662900\n",
       "5  0.551817 -0.579494 -0.848800 -0.410862\n",
       "6  2.160625 -1.557699  0.134852  0.005454\n",
       "7  0.646549 -0.592073  0.551924  1.378349"
      ]
     },
     "execution_count": 33,
     "metadata": {},
     "output_type": "execute_result"
    }
   ],
   "source": [
    "from numpy.random import randn\n",
    "seed = 400\n",
    "np.random.seed(seed)\n",
    "\n",
    "Decision = pd.DataFrame(randn(8,4), columns = 'Drill No_Drill Frac \\\n",
    "    No_Frac'.split())\n",
    "\n",
    "Decision"
   ]
  },
  {
   "cell_type": "code",
   "execution_count": 34,
   "id": "b16cbef2-c77d-4c45-83be-903f06ce1f93",
   "metadata": {},
   "outputs": [
    {
     "data": {
      "text/html": [
       "<div>\n",
       "<style scoped>\n",
       "    .dataframe tbody tr th:only-of-type {\n",
       "        vertical-align: middle;\n",
       "    }\n",
       "\n",
       "    .dataframe tbody tr th {\n",
       "        vertical-align: top;\n",
       "    }\n",
       "\n",
       "    .dataframe thead th {\n",
       "        text-align: right;\n",
       "    }\n",
       "</style>\n",
       "<table border=\"1\" class=\"dataframe\">\n",
       "  <thead>\n",
       "    <tr style=\"text-align: right;\">\n",
       "      <th></th>\n",
       "      <th>Drill</th>\n",
       "      <th>No_Drill</th>\n",
       "      <th>Frac</th>\n",
       "      <th>No_Frac</th>\n",
       "    </tr>\n",
       "  </thead>\n",
       "  <tbody>\n",
       "    <tr>\n",
       "      <th>0</th>\n",
       "      <td>False</td>\n",
       "      <td>True</td>\n",
       "      <td>False</td>\n",
       "      <td>True</td>\n",
       "    </tr>\n",
       "    <tr>\n",
       "      <th>1</th>\n",
       "      <td>False</td>\n",
       "      <td>True</td>\n",
       "      <td>True</td>\n",
       "      <td>True</td>\n",
       "    </tr>\n",
       "    <tr>\n",
       "      <th>2</th>\n",
       "      <td>False</td>\n",
       "      <td>True</td>\n",
       "      <td>False</td>\n",
       "      <td>False</td>\n",
       "    </tr>\n",
       "    <tr>\n",
       "      <th>3</th>\n",
       "      <td>True</td>\n",
       "      <td>True</td>\n",
       "      <td>True</td>\n",
       "      <td>False</td>\n",
       "    </tr>\n",
       "    <tr>\n",
       "      <th>4</th>\n",
       "      <td>True</td>\n",
       "      <td>True</td>\n",
       "      <td>False</td>\n",
       "      <td>True</td>\n",
       "    </tr>\n",
       "    <tr>\n",
       "      <th>5</th>\n",
       "      <td>True</td>\n",
       "      <td>False</td>\n",
       "      <td>False</td>\n",
       "      <td>False</td>\n",
       "    </tr>\n",
       "    <tr>\n",
       "      <th>6</th>\n",
       "      <td>True</td>\n",
       "      <td>False</td>\n",
       "      <td>True</td>\n",
       "      <td>True</td>\n",
       "    </tr>\n",
       "    <tr>\n",
       "      <th>7</th>\n",
       "      <td>True</td>\n",
       "      <td>False</td>\n",
       "      <td>True</td>\n",
       "      <td>True</td>\n",
       "    </tr>\n",
       "  </tbody>\n",
       "</table>\n",
       "</div>"
      ],
      "text/plain": [
       "   Drill  No_Drill   Frac  No_Frac\n",
       "0  False      True  False     True\n",
       "1  False      True   True     True\n",
       "2  False      True  False    False\n",
       "3   True      True   True    False\n",
       "4   True      True  False     True\n",
       "5   True     False  False    False\n",
       "6   True     False   True     True\n",
       "7   True     False   True     True"
      ]
     },
     "execution_count": 34,
     "metadata": {},
     "output_type": "execute_result"
    }
   ],
   "source": [
    "Decision>0"
   ]
  },
  {
   "cell_type": "code",
   "execution_count": 37,
   "id": "9f5a3f1d-3ace-45e9-b831-de02617f2312",
   "metadata": {},
   "outputs": [
    {
     "data": {
      "text/plain": [
       "0    False\n",
       "1    False\n",
       "2    False\n",
       "3     True\n",
       "4     True\n",
       "5     True\n",
       "6     True\n",
       "7     True\n",
       "Name: Drill, dtype: bool"
      ]
     },
     "execution_count": 37,
     "metadata": {},
     "output_type": "execute_result"
    }
   ],
   "source": [
    "# To return the Boolean value for a column, the following can be done:\n",
    "Decision['Drill']>0"
   ]
  },
  {
   "cell_type": "code",
   "execution_count": 39,
   "id": "b3881d9f-b578-4e92-b90d-f8d67c9dd5fe",
   "metadata": {},
   "outputs": [
    {
     "data": {
      "text/html": [
       "<div>\n",
       "<style scoped>\n",
       "    .dataframe tbody tr th:only-of-type {\n",
       "        vertical-align: middle;\n",
       "    }\n",
       "\n",
       "    .dataframe tbody tr th {\n",
       "        vertical-align: top;\n",
       "    }\n",
       "\n",
       "    .dataframe thead th {\n",
       "        text-align: right;\n",
       "    }\n",
       "</style>\n",
       "<table border=\"1\" class=\"dataframe\">\n",
       "  <thead>\n",
       "    <tr style=\"text-align: right;\">\n",
       "      <th></th>\n",
       "      <th>Drill</th>\n",
       "      <th>No_Drill</th>\n",
       "      <th>Frac</th>\n",
       "      <th>No_Frac</th>\n",
       "    </tr>\n",
       "  </thead>\n",
       "  <tbody>\n",
       "    <tr>\n",
       "      <th>3</th>\n",
       "      <td>0.400061</td>\n",
       "      <td>1.005500</td>\n",
       "      <td>0.501643</td>\n",
       "      <td>-0.000668</td>\n",
       "    </tr>\n",
       "    <tr>\n",
       "      <th>4</th>\n",
       "      <td>1.303972</td>\n",
       "      <td>1.073324</td>\n",
       "      <td>-0.515345</td>\n",
       "      <td>1.662900</td>\n",
       "    </tr>\n",
       "    <tr>\n",
       "      <th>5</th>\n",
       "      <td>0.551817</td>\n",
       "      <td>-0.579494</td>\n",
       "      <td>-0.848800</td>\n",
       "      <td>-0.410862</td>\n",
       "    </tr>\n",
       "    <tr>\n",
       "      <th>6</th>\n",
       "      <td>2.160625</td>\n",
       "      <td>-1.557699</td>\n",
       "      <td>0.134852</td>\n",
       "      <td>0.005454</td>\n",
       "    </tr>\n",
       "    <tr>\n",
       "      <th>7</th>\n",
       "      <td>0.646549</td>\n",
       "      <td>-0.592073</td>\n",
       "      <td>0.551924</td>\n",
       "      <td>1.378349</td>\n",
       "    </tr>\n",
       "  </tbody>\n",
       "</table>\n",
       "</div>"
      ],
      "text/plain": [
       "      Drill  No_Drill      Frac   No_Frac\n",
       "3  0.400061  1.005500  0.501643 -0.000668\n",
       "4  1.303972  1.073324 -0.515345  1.662900\n",
       "5  0.551817 -0.579494 -0.848800 -0.410862\n",
       "6  2.160625 -1.557699  0.134852  0.005454\n",
       "7  0.646549 -0.592073  0.551924  1.378349"
      ]
     },
     "execution_count": 39,
     "metadata": {},
     "output_type": "execute_result"
    }
   ],
   "source": [
    "# To select the rows greater than 0 of the \"Drill\" column, the following can be executed.\n",
    "\n",
    "Decision[Decision['Drill']>0]"
   ]
  },
  {
   "cell_type": "code",
   "execution_count": 40,
   "id": "72bfc671-8400-4b2c-bcf2-1b6e365cbc64",
   "metadata": {},
   "outputs": [
    {
     "data": {
      "text/html": [
       "<div>\n",
       "<style scoped>\n",
       "    .dataframe tbody tr th:only-of-type {\n",
       "        vertical-align: middle;\n",
       "    }\n",
       "\n",
       "    .dataframe tbody tr th {\n",
       "        vertical-align: top;\n",
       "    }\n",
       "\n",
       "    .dataframe thead th {\n",
       "        text-align: right;\n",
       "    }\n",
       "</style>\n",
       "<table border=\"1\" class=\"dataframe\">\n",
       "  <thead>\n",
       "    <tr style=\"text-align: right;\">\n",
       "      <th></th>\n",
       "      <th>Drill</th>\n",
       "      <th>No_Drill</th>\n",
       "      <th>Frac</th>\n",
       "      <th>No_Frac</th>\n",
       "    </tr>\n",
       "  </thead>\n",
       "  <tbody>\n",
       "    <tr>\n",
       "      <th>3</th>\n",
       "      <td>0.400061</td>\n",
       "      <td>1.0055</td>\n",
       "      <td>0.501643</td>\n",
       "      <td>-0.000668</td>\n",
       "    </tr>\n",
       "  </tbody>\n",
       "</table>\n",
       "</div>"
      ],
      "text/plain": [
       "      Drill  No_Drill      Frac   No_Frac\n",
       "3  0.400061    1.0055  0.501643 -0.000668"
      ]
     },
     "execution_count": 40,
     "metadata": {},
     "output_type": "execute_result"
    }
   ],
   "source": [
    "Decision[(Decision['Drill']>0) & (Decision['No_Drill']>0) &\n",
    "    (Decision['Frac']>0) & (Decision['No_Frac']<0)]"
   ]
  },
  {
   "cell_type": "markdown",
   "id": "5012048d-5e45-47cc-8e9a-6c48879465d3",
   "metadata": {},
   "source": [
    "* Conditional filtering is very useful for automating various processes prior to implementing ML models.\n",
    "* As the amount of data increases in the source file, it is much more convenient to perform all the filtering processes in Pythonprior to performing any analysis."
   ]
  },
  {
   "cell_type": "markdown",
   "id": "94a2be60-7ad5-4fee-b653-30129d59cb1c",
   "metadata": {},
   "source": [
    "# Pandas groupby"
   ]
  },
  {
   "cell_type": "code",
   "execution_count": 41,
   "id": "26579bf9-028f-4f23-94c8-154c7225d7cd",
   "metadata": {},
   "outputs": [
    {
     "data": {
      "text/html": [
       "<div>\n",
       "<style scoped>\n",
       "    .dataframe tbody tr th:only-of-type {\n",
       "        vertical-align: middle;\n",
       "    }\n",
       "\n",
       "    .dataframe tbody tr th {\n",
       "        vertical-align: top;\n",
       "    }\n",
       "\n",
       "    .dataframe thead th {\n",
       "        text-align: right;\n",
       "    }\n",
       "</style>\n",
       "<table border=\"1\" class=\"dataframe\">\n",
       "  <thead>\n",
       "    <tr style=\"text-align: right;\">\n",
       "      <th></th>\n",
       "      <th>Corporation_Name</th>\n",
       "      <th>Sales_Person</th>\n",
       "      <th>Sales_Amount</th>\n",
       "    </tr>\n",
       "  </thead>\n",
       "  <tbody>\n",
       "    <tr>\n",
       "      <th>0</th>\n",
       "      <td>CVX</td>\n",
       "      <td>Adam</td>\n",
       "      <td>2000</td>\n",
       "    </tr>\n",
       "    <tr>\n",
       "      <th>1</th>\n",
       "      <td>EXXON</td>\n",
       "      <td>Alex</td>\n",
       "      <td>5000</td>\n",
       "    </tr>\n",
       "    <tr>\n",
       "      <th>2</th>\n",
       "      <td>CVX</td>\n",
       "      <td>Bruce</td>\n",
       "      <td>10000</td>\n",
       "    </tr>\n",
       "    <tr>\n",
       "      <th>3</th>\n",
       "      <td>EXXON</td>\n",
       "      <td>Jessica</td>\n",
       "      <td>45000</td>\n",
       "    </tr>\n",
       "    <tr>\n",
       "      <th>4</th>\n",
       "      <td>GE</td>\n",
       "      <td>Natalie</td>\n",
       "      <td>60000</td>\n",
       "    </tr>\n",
       "    <tr>\n",
       "      <th>5</th>\n",
       "      <td>GE</td>\n",
       "      <td>Rachel</td>\n",
       "      <td>20000</td>\n",
       "    </tr>\n",
       "  </tbody>\n",
       "</table>\n",
       "</div>"
      ],
      "text/plain": [
       "  Corporation_Name Sales_Person  Sales_Amount\n",
       "0              CVX         Adam          2000\n",
       "1            EXXON         Alex          5000\n",
       "2              CVX        Bruce         10000\n",
       "3            EXXON      Jessica         45000\n",
       "4               GE      Natalie         60000\n",
       "5               GE       Rachel         20000"
      ]
     },
     "execution_count": 41,
     "metadata": {},
     "output_type": "execute_result"
    }
   ],
   "source": [
    "df = pd.DataFrame({'Corporation_Name':['CVX','EXXON', 'CVX',\\\n",
    "    'EXXON', 'GE','GE'],'Sales_Person':['Adam','Alex','Bruce',\\\n",
    "    'Jessica', 'Natalie','Rachel'],'Sales_Amount':[2000,5000,\\\n",
    "    10000,45000,60000, 20000]})\n",
    "\n",
    "df"
   ]
  },
  {
   "cell_type": "code",
   "execution_count": 44,
   "id": "e6e7759a-c698-4b24-a16e-4489545baf6a",
   "metadata": {},
   "outputs": [
    {
     "data": {
      "text/html": [
       "<div>\n",
       "<style scoped>\n",
       "    .dataframe tbody tr th:only-of-type {\n",
       "        vertical-align: middle;\n",
       "    }\n",
       "\n",
       "    .dataframe tbody tr th {\n",
       "        vertical-align: top;\n",
       "    }\n",
       "\n",
       "    .dataframe thead th {\n",
       "        text-align: right;\n",
       "    }\n",
       "</style>\n",
       "<table border=\"1\" class=\"dataframe\">\n",
       "  <thead>\n",
       "    <tr style=\"text-align: right;\">\n",
       "      <th></th>\n",
       "      <th>Sales_Amount</th>\n",
       "    </tr>\n",
       "    <tr>\n",
       "      <th>Corporation_Name</th>\n",
       "      <th></th>\n",
       "    </tr>\n",
       "  </thead>\n",
       "  <tbody>\n",
       "    <tr>\n",
       "      <th>CVX</th>\n",
       "      <td>6000.0</td>\n",
       "    </tr>\n",
       "    <tr>\n",
       "      <th>EXXON</th>\n",
       "      <td>25000.0</td>\n",
       "    </tr>\n",
       "    <tr>\n",
       "      <th>GE</th>\n",
       "      <td>40000.0</td>\n",
       "    </tr>\n",
       "  </tbody>\n",
       "</table>\n",
       "</div>"
      ],
      "text/plain": [
       "                  Sales_Amount\n",
       "Corporation_Name              \n",
       "CVX                     6000.0\n",
       "EXXON                  25000.0\n",
       "GE                     40000.0"
      ]
     },
     "execution_count": 44,
     "metadata": {},
     "output_type": "execute_result"
    }
   ],
   "source": [
    "df.groupby('Corporation_Name').mean('Sales_Amount')"
   ]
  },
  {
   "cell_type": "code",
   "execution_count": null,
   "id": "fd84595c-b0fb-4e34-bc35-a59a5ca2c359",
   "metadata": {},
   "outputs": [],
   "source": [
    "We can perform average aggregate function on data frame by this format:\n",
    "\n",
    "df.groubpy(['col_name_1', 'col_name_2']).mean()"
   ]
  },
  {
   "cell_type": "markdown",
   "id": "306bffab-cd16-4e8a-8305-18632685176a",
   "metadata": {},
   "source": [
    "### Other useful built-in pandas aggregation functions are listed below:\n",
    "* count() = total number of items\n",
    "* mean(), median() = mean and median\n",
    "* first(), last() = first and last item\n",
    "* std(), var() = standard deviation and variance\n",
    "* mad() = mean absolute deviation\n",
    "* prod() = product of all items\n",
    "* size() = calculate group sizes\n",
    "* sum() = calculate sum of group values"
   ]
  },
  {
   "cell_type": "code",
   "execution_count": 50,
   "id": "0949f19d-4fdd-4378-92cd-0b9d8417633f",
   "metadata": {},
   "outputs": [
    {
     "name": "stdout",
     "output_type": "stream",
     "text": [
      "  Corporation_Name Sales_Person  Sales_Amount\n",
      "0              CVX         Adam          2000\n",
      "1            EXXON         Alex          5000\n",
      "2              CVX        Bruce         10000\n",
      "3            EXXON      Jessica         45000\n",
      "4               GE      Natalie         60000\n"
     ]
    }
   ],
   "source": [
    "print(df.head())"
   ]
  },
  {
   "cell_type": "code",
   "execution_count": 59,
   "id": "faede322-e737-4d60-93d5-1cec03149f22",
   "metadata": {},
   "outputs": [
    {
     "name": "stdout",
     "output_type": "stream",
     "text": [
      "Corporation_Name    object\n",
      "Sales_Person        object\n",
      "Sales_Amount         int64\n",
      "dtype: object\n"
     ]
    }
   ],
   "source": [
    "print(df.dtypes)"
   ]
  },
  {
   "cell_type": "code",
   "execution_count": 53,
   "id": "caf343aa-a51d-444e-9ef3-ae744df21aa8",
   "metadata": {},
   "outputs": [
    {
     "data": {
      "text/html": [
       "<div>\n",
       "<style scoped>\n",
       "    .dataframe tbody tr th:only-of-type {\n",
       "        vertical-align: middle;\n",
       "    }\n",
       "\n",
       "    .dataframe tbody tr th {\n",
       "        vertical-align: top;\n",
       "    }\n",
       "\n",
       "    .dataframe thead th {\n",
       "        text-align: right;\n",
       "    }\n",
       "</style>\n",
       "<table border=\"1\" class=\"dataframe\">\n",
       "  <thead>\n",
       "    <tr style=\"text-align: right;\">\n",
       "      <th></th>\n",
       "      <th>Sales_Person</th>\n",
       "      <th>Sales_Amount</th>\n",
       "    </tr>\n",
       "    <tr>\n",
       "      <th>Corporation_Name</th>\n",
       "      <th></th>\n",
       "      <th></th>\n",
       "    </tr>\n",
       "  </thead>\n",
       "  <tbody>\n",
       "    <tr>\n",
       "      <th>CVX</th>\n",
       "      <td>2</td>\n",
       "      <td>2</td>\n",
       "    </tr>\n",
       "    <tr>\n",
       "      <th>EXXON</th>\n",
       "      <td>2</td>\n",
       "      <td>2</td>\n",
       "    </tr>\n",
       "    <tr>\n",
       "      <th>GE</th>\n",
       "      <td>2</td>\n",
       "      <td>2</td>\n",
       "    </tr>\n",
       "  </tbody>\n",
       "</table>\n",
       "</div>"
      ],
      "text/plain": [
       "                  Sales_Person  Sales_Amount\n",
       "Corporation_Name                            \n",
       "CVX                          2             2\n",
       "EXXON                        2             2\n",
       "GE                           2             2"
      ]
     },
     "execution_count": 53,
     "metadata": {},
     "output_type": "execute_result"
    }
   ],
   "source": [
    "df.groupby('Corporation_Name').count()"
   ]
  },
  {
   "cell_type": "code",
   "execution_count": 55,
   "id": "578acddb-2800-4343-9451-79c2c0b3d1c0",
   "metadata": {},
   "outputs": [
    {
     "data": {
      "text/html": [
       "<div>\n",
       "<style scoped>\n",
       "    .dataframe tbody tr th:only-of-type {\n",
       "        vertical-align: middle;\n",
       "    }\n",
       "\n",
       "    .dataframe tbody tr th {\n",
       "        vertical-align: top;\n",
       "    }\n",
       "\n",
       "    .dataframe thead th {\n",
       "        text-align: right;\n",
       "    }\n",
       "</style>\n",
       "<table border=\"1\" class=\"dataframe\">\n",
       "  <thead>\n",
       "    <tr style=\"text-align: right;\">\n",
       "      <th></th>\n",
       "      <th>Sales_Person</th>\n",
       "      <th>Sales_Amount</th>\n",
       "    </tr>\n",
       "    <tr>\n",
       "      <th>Corporation_Name</th>\n",
       "      <th></th>\n",
       "      <th></th>\n",
       "    </tr>\n",
       "  </thead>\n",
       "  <tbody>\n",
       "    <tr>\n",
       "      <th>CVX</th>\n",
       "      <td>Adam</td>\n",
       "      <td>2000</td>\n",
       "    </tr>\n",
       "    <tr>\n",
       "      <th>EXXON</th>\n",
       "      <td>Alex</td>\n",
       "      <td>5000</td>\n",
       "    </tr>\n",
       "    <tr>\n",
       "      <th>GE</th>\n",
       "      <td>Natalie</td>\n",
       "      <td>60000</td>\n",
       "    </tr>\n",
       "  </tbody>\n",
       "</table>\n",
       "</div>"
      ],
      "text/plain": [
       "                 Sales_Person  Sales_Amount\n",
       "Corporation_Name                           \n",
       "CVX                      Adam          2000\n",
       "EXXON                    Alex          5000\n",
       "GE                    Natalie         60000"
      ]
     },
     "execution_count": 55,
     "metadata": {},
     "output_type": "execute_result"
    }
   ],
   "source": [
    "df.groupby('Corporation_Name').first()"
   ]
  },
  {
   "cell_type": "code",
   "execution_count": 56,
   "id": "2a977d47-d324-4332-8b16-a37be6f119c4",
   "metadata": {},
   "outputs": [
    {
     "data": {
      "text/html": [
       "<div>\n",
       "<style scoped>\n",
       "    .dataframe tbody tr th:only-of-type {\n",
       "        vertical-align: middle;\n",
       "    }\n",
       "\n",
       "    .dataframe tbody tr th {\n",
       "        vertical-align: top;\n",
       "    }\n",
       "\n",
       "    .dataframe thead th {\n",
       "        text-align: right;\n",
       "    }\n",
       "</style>\n",
       "<table border=\"1\" class=\"dataframe\">\n",
       "  <thead>\n",
       "    <tr style=\"text-align: right;\">\n",
       "      <th></th>\n",
       "      <th>Sales_Person</th>\n",
       "      <th>Sales_Amount</th>\n",
       "    </tr>\n",
       "    <tr>\n",
       "      <th>Corporation_Name</th>\n",
       "      <th></th>\n",
       "      <th></th>\n",
       "    </tr>\n",
       "  </thead>\n",
       "  <tbody>\n",
       "    <tr>\n",
       "      <th>CVX</th>\n",
       "      <td>Bruce</td>\n",
       "      <td>10000</td>\n",
       "    </tr>\n",
       "    <tr>\n",
       "      <th>EXXON</th>\n",
       "      <td>Jessica</td>\n",
       "      <td>45000</td>\n",
       "    </tr>\n",
       "    <tr>\n",
       "      <th>GE</th>\n",
       "      <td>Rachel</td>\n",
       "      <td>20000</td>\n",
       "    </tr>\n",
       "  </tbody>\n",
       "</table>\n",
       "</div>"
      ],
      "text/plain": [
       "                 Sales_Person  Sales_Amount\n",
       "Corporation_Name                           \n",
       "CVX                     Bruce         10000\n",
       "EXXON                 Jessica         45000\n",
       "GE                     Rachel         20000"
      ]
     },
     "execution_count": 56,
     "metadata": {},
     "output_type": "execute_result"
    }
   ],
   "source": [
    "df.groupby('Corporation_Name').last()"
   ]
  },
  {
   "cell_type": "code",
   "execution_count": 63,
   "id": "9007f1b3-7cfc-4101-9141-6b4717698fe6",
   "metadata": {},
   "outputs": [
    {
     "data": {
      "text/html": [
       "<div>\n",
       "<style scoped>\n",
       "    .dataframe tbody tr th:only-of-type {\n",
       "        vertical-align: middle;\n",
       "    }\n",
       "\n",
       "    .dataframe tbody tr th {\n",
       "        vertical-align: top;\n",
       "    }\n",
       "\n",
       "    .dataframe thead th {\n",
       "        text-align: right;\n",
       "    }\n",
       "</style>\n",
       "<table border=\"1\" class=\"dataframe\">\n",
       "  <thead>\n",
       "    <tr style=\"text-align: right;\">\n",
       "      <th></th>\n",
       "      <th>Corporation_Name</th>\n",
       "      <th>Sales_Amount</th>\n",
       "    </tr>\n",
       "  </thead>\n",
       "  <tbody>\n",
       "    <tr>\n",
       "      <th>0</th>\n",
       "      <td>CVX</td>\n",
       "      <td>2000</td>\n",
       "    </tr>\n",
       "    <tr>\n",
       "      <th>1</th>\n",
       "      <td>EXXON</td>\n",
       "      <td>5000</td>\n",
       "    </tr>\n",
       "    <tr>\n",
       "      <th>2</th>\n",
       "      <td>CVX</td>\n",
       "      <td>10000</td>\n",
       "    </tr>\n",
       "    <tr>\n",
       "      <th>3</th>\n",
       "      <td>EXXON</td>\n",
       "      <td>45000</td>\n",
       "    </tr>\n",
       "    <tr>\n",
       "      <th>4</th>\n",
       "      <td>GE</td>\n",
       "      <td>60000</td>\n",
       "    </tr>\n",
       "    <tr>\n",
       "      <th>5</th>\n",
       "      <td>GE</td>\n",
       "      <td>20000</td>\n",
       "    </tr>\n",
       "  </tbody>\n",
       "</table>\n",
       "</div>"
      ],
      "text/plain": [
       "  Corporation_Name  Sales_Amount\n",
       "0              CVX          2000\n",
       "1            EXXON          5000\n",
       "2              CVX         10000\n",
       "3            EXXON         45000\n",
       "4               GE         60000\n",
       "5               GE         20000"
      ]
     },
     "execution_count": 63,
     "metadata": {},
     "output_type": "execute_result"
    }
   ],
   "source": [
    "df = pd.DataFrame({'Corporation_Name':['CVX','EXXON', 'CVX',\\\n",
    "    'EXXON', 'GE','GE'],'Sales_Person':['Adam','Alex','Bruce',\\\n",
    "    'Jessica', 'Natalie','Rachel'],'Sales_Amount':[2000,5000,\\\n",
    "    10000,45000,60000, 20000]})\n",
    "a = df.drop(labels = ['Sales_Person'], axis = 1)\n",
    "\n",
    "a  #.groupby('Corporation_Name').std()"
   ]
  },
  {
   "cell_type": "code",
   "execution_count": 79,
   "id": "6c0602ae-f8d8-4656-ad62-a219d8276dd7",
   "metadata": {},
   "outputs": [
    {
     "data": {
      "text/html": [
       "<div>\n",
       "<style scoped>\n",
       "    .dataframe tbody tr th:only-of-type {\n",
       "        vertical-align: middle;\n",
       "    }\n",
       "\n",
       "    .dataframe tbody tr th {\n",
       "        vertical-align: top;\n",
       "    }\n",
       "\n",
       "    .dataframe thead th {\n",
       "        text-align: right;\n",
       "    }\n",
       "</style>\n",
       "<table border=\"1\" class=\"dataframe\">\n",
       "  <thead>\n",
       "    <tr style=\"text-align: right;\">\n",
       "      <th></th>\n",
       "      <th>Sales_Amount</th>\n",
       "    </tr>\n",
       "    <tr>\n",
       "      <th>Corporation_Name</th>\n",
       "      <th></th>\n",
       "    </tr>\n",
       "  </thead>\n",
       "  <tbody>\n",
       "    <tr>\n",
       "      <th>CVX</th>\n",
       "      <td>5656.854249</td>\n",
       "    </tr>\n",
       "    <tr>\n",
       "      <th>EXXON</th>\n",
       "      <td>28284.271247</td>\n",
       "    </tr>\n",
       "    <tr>\n",
       "      <th>GE</th>\n",
       "      <td>28284.271247</td>\n",
       "    </tr>\n",
       "  </tbody>\n",
       "</table>\n",
       "</div>"
      ],
      "text/plain": [
       "                  Sales_Amount\n",
       "Corporation_Name              \n",
       "CVX                5656.854249\n",
       "EXXON             28284.271247\n",
       "GE                28284.271247"
      ]
     },
     "execution_count": 79,
     "metadata": {},
     "output_type": "execute_result"
    }
   ],
   "source": [
    "a.groupby('Corporation_Name').std()"
   ]
  },
  {
   "cell_type": "code",
   "execution_count": 77,
   "id": "228d62bc-e562-4c1c-8177-893ecb18928e",
   "metadata": {},
   "outputs": [
    {
     "data": {
      "text/plain": [
       "Corporation_Name\n",
       "CVX      2\n",
       "EXXON    2\n",
       "GE       2\n",
       "dtype: int64"
      ]
     },
     "execution_count": 77,
     "metadata": {},
     "output_type": "execute_result"
    }
   ],
   "source": [
    "a.groupby('Corporation_Name').size()"
   ]
  },
  {
   "cell_type": "code",
   "execution_count": 78,
   "id": "a08fc010-b660-4701-b798-ce295eeff294",
   "metadata": {},
   "outputs": [
    {
     "data": {
      "text/html": [
       "<div>\n",
       "<style scoped>\n",
       "    .dataframe tbody tr th:only-of-type {\n",
       "        vertical-align: middle;\n",
       "    }\n",
       "\n",
       "    .dataframe tbody tr th {\n",
       "        vertical-align: top;\n",
       "    }\n",
       "\n",
       "    .dataframe thead th {\n",
       "        text-align: right;\n",
       "    }\n",
       "</style>\n",
       "<table border=\"1\" class=\"dataframe\">\n",
       "  <thead>\n",
       "    <tr style=\"text-align: right;\">\n",
       "      <th></th>\n",
       "      <th>Sales_Amount</th>\n",
       "    </tr>\n",
       "    <tr>\n",
       "      <th>Corporation_Name</th>\n",
       "      <th></th>\n",
       "    </tr>\n",
       "  </thead>\n",
       "  <tbody>\n",
       "    <tr>\n",
       "      <th>CVX</th>\n",
       "      <td>12000</td>\n",
       "    </tr>\n",
       "    <tr>\n",
       "      <th>EXXON</th>\n",
       "      <td>50000</td>\n",
       "    </tr>\n",
       "    <tr>\n",
       "      <th>GE</th>\n",
       "      <td>80000</td>\n",
       "    </tr>\n",
       "  </tbody>\n",
       "</table>\n",
       "</div>"
      ],
      "text/plain": [
       "                  Sales_Amount\n",
       "Corporation_Name              \n",
       "CVX                      12000\n",
       "EXXON                    50000\n",
       "GE                       80000"
      ]
     },
     "execution_count": 78,
     "metadata": {},
     "output_type": "execute_result"
    }
   ],
   "source": [
    "a.groupby('Corporation_Name').sum()"
   ]
  },
  {
   "cell_type": "code",
   "execution_count": 82,
   "id": "408f154b-1eda-4e5d-be29-e100d1c4effb",
   "metadata": {},
   "outputs": [
    {
     "data": {
      "text/html": [
       "<div>\n",
       "<style scoped>\n",
       "    .dataframe tbody tr th:only-of-type {\n",
       "        vertical-align: middle;\n",
       "    }\n",
       "\n",
       "    .dataframe tbody tr th {\n",
       "        vertical-align: top;\n",
       "    }\n",
       "\n",
       "    .dataframe thead th {\n",
       "        text-align: right;\n",
       "    }\n",
       "</style>\n",
       "<table border=\"1\" class=\"dataframe\">\n",
       "  <thead>\n",
       "    <tr style=\"text-align: right;\">\n",
       "      <th></th>\n",
       "      <th>Sales_Amount</th>\n",
       "    </tr>\n",
       "    <tr>\n",
       "      <th>Corporation_Name</th>\n",
       "      <th></th>\n",
       "    </tr>\n",
       "  </thead>\n",
       "  <tbody>\n",
       "    <tr>\n",
       "      <th>CVX</th>\n",
       "      <td>20000000</td>\n",
       "    </tr>\n",
       "    <tr>\n",
       "      <th>EXXON</th>\n",
       "      <td>225000000</td>\n",
       "    </tr>\n",
       "    <tr>\n",
       "      <th>GE</th>\n",
       "      <td>1200000000</td>\n",
       "    </tr>\n",
       "  </tbody>\n",
       "</table>\n",
       "</div>"
      ],
      "text/plain": [
       "                  Sales_Amount\n",
       "Corporation_Name              \n",
       "CVX                   20000000\n",
       "EXXON                225000000\n",
       "GE                  1200000000"
      ]
     },
     "execution_count": 82,
     "metadata": {},
     "output_type": "execute_result"
    }
   ],
   "source": [
    "a.groupby('Corporation_Name').prod()"
   ]
  },
  {
   "cell_type": "code",
   "execution_count": 4,
   "id": "6a3c34b4-4b64-4a3c-868b-0e4f704d9147",
   "metadata": {},
   "outputs": [
    {
     "ename": "AttributeError",
     "evalue": "'DataFrameGroupBy' object has no attribute 'mad'",
     "output_type": "error",
     "traceback": [
      "\u001b[1;31m---------------------------------------------------------------------------\u001b[0m",
      "\u001b[1;31mAttributeError\u001b[0m                            Traceback (most recent call last)",
      "Cell \u001b[1;32mIn[4], line 8\u001b[0m\n\u001b[0;32m      2\u001b[0m df \u001b[38;5;241m=\u001b[39m pd\u001b[38;5;241m.\u001b[39mDataFrame({\u001b[38;5;124m'\u001b[39m\u001b[38;5;124mCorporation_Name\u001b[39m\u001b[38;5;124m'\u001b[39m:[\u001b[38;5;124m'\u001b[39m\u001b[38;5;124mCVX\u001b[39m\u001b[38;5;124m'\u001b[39m,\u001b[38;5;124m'\u001b[39m\u001b[38;5;124mEXXON\u001b[39m\u001b[38;5;124m'\u001b[39m, \u001b[38;5;124m'\u001b[39m\u001b[38;5;124mCVX\u001b[39m\u001b[38;5;124m'\u001b[39m,\\\n\u001b[0;32m      3\u001b[0m     \u001b[38;5;124m'\u001b[39m\u001b[38;5;124mEXXON\u001b[39m\u001b[38;5;124m'\u001b[39m, \u001b[38;5;124m'\u001b[39m\u001b[38;5;124mGE\u001b[39m\u001b[38;5;124m'\u001b[39m,\u001b[38;5;124m'\u001b[39m\u001b[38;5;124mGE\u001b[39m\u001b[38;5;124m'\u001b[39m],\u001b[38;5;124m'\u001b[39m\u001b[38;5;124mSales_Person\u001b[39m\u001b[38;5;124m'\u001b[39m:[\u001b[38;5;124m'\u001b[39m\u001b[38;5;124mAdam\u001b[39m\u001b[38;5;124m'\u001b[39m,\u001b[38;5;124m'\u001b[39m\u001b[38;5;124mAlex\u001b[39m\u001b[38;5;124m'\u001b[39m,\u001b[38;5;124m'\u001b[39m\u001b[38;5;124mBruce\u001b[39m\u001b[38;5;124m'\u001b[39m,\\\n\u001b[0;32m      4\u001b[0m     \u001b[38;5;124m'\u001b[39m\u001b[38;5;124mJessica\u001b[39m\u001b[38;5;124m'\u001b[39m, \u001b[38;5;124m'\u001b[39m\u001b[38;5;124mNatalie\u001b[39m\u001b[38;5;124m'\u001b[39m,\u001b[38;5;124m'\u001b[39m\u001b[38;5;124mRachel\u001b[39m\u001b[38;5;124m'\u001b[39m],\u001b[38;5;124m'\u001b[39m\u001b[38;5;124mSales_Amount\u001b[39m\u001b[38;5;124m'\u001b[39m:[\u001b[38;5;241m2000\u001b[39m,\u001b[38;5;241m5000\u001b[39m,\\\n\u001b[0;32m      5\u001b[0m     \u001b[38;5;241m10000\u001b[39m,\u001b[38;5;241m45000\u001b[39m,\u001b[38;5;241m60000\u001b[39m, \u001b[38;5;241m20000\u001b[39m]})\n\u001b[0;32m      6\u001b[0m a \u001b[38;5;241m=\u001b[39m df\u001b[38;5;241m.\u001b[39mdrop(labels \u001b[38;5;241m=\u001b[39m [\u001b[38;5;124m'\u001b[39m\u001b[38;5;124mSales_Person\u001b[39m\u001b[38;5;124m'\u001b[39m], axis \u001b[38;5;241m=\u001b[39m \u001b[38;5;241m1\u001b[39m)\n\u001b[1;32m----> 8\u001b[0m a\u001b[38;5;241m.\u001b[39mgroupby(\u001b[38;5;124m'\u001b[39m\u001b[38;5;124mCorporation_Name\u001b[39m\u001b[38;5;124m'\u001b[39m)\u001b[38;5;241m.\u001b[39mmad()\n",
      "File \u001b[1;32m~\\anaconda3\\Lib\\site-packages\\pandas\\core\\groupby\\groupby.py:1312\u001b[0m, in \u001b[0;36mGroupBy.__getattr__\u001b[1;34m(self, attr)\u001b[0m\n\u001b[0;32m   1309\u001b[0m \u001b[38;5;28;01mif\u001b[39;00m attr \u001b[38;5;129;01min\u001b[39;00m \u001b[38;5;28mself\u001b[39m\u001b[38;5;241m.\u001b[39mobj:\n\u001b[0;32m   1310\u001b[0m     \u001b[38;5;28;01mreturn\u001b[39;00m \u001b[38;5;28mself\u001b[39m[attr]\n\u001b[1;32m-> 1312\u001b[0m \u001b[38;5;28;01mraise\u001b[39;00m \u001b[38;5;167;01mAttributeError\u001b[39;00m(\n\u001b[0;32m   1313\u001b[0m     \u001b[38;5;124mf\u001b[39m\u001b[38;5;124m\"\u001b[39m\u001b[38;5;124m'\u001b[39m\u001b[38;5;132;01m{\u001b[39;00m\u001b[38;5;28mtype\u001b[39m(\u001b[38;5;28mself\u001b[39m)\u001b[38;5;241m.\u001b[39m\u001b[38;5;18m__name__\u001b[39m\u001b[38;5;132;01m}\u001b[39;00m\u001b[38;5;124m'\u001b[39m\u001b[38;5;124m object has no attribute \u001b[39m\u001b[38;5;124m'\u001b[39m\u001b[38;5;132;01m{\u001b[39;00mattr\u001b[38;5;132;01m}\u001b[39;00m\u001b[38;5;124m'\u001b[39m\u001b[38;5;124m\"\u001b[39m\n\u001b[0;32m   1314\u001b[0m )\n",
      "\u001b[1;31mAttributeError\u001b[0m: 'DataFrameGroupBy' object has no attribute 'mad'"
     ]
    }
   ],
   "source": [
    "import pandas as pd\n",
    "df = pd.DataFrame({'Corporation_Name':['CVX','EXXON', 'CVX',\\\n",
    "    'EXXON', 'GE','GE'],'Sales_Person':['Adam','Alex','Bruce',\\\n",
    "    'Jessica', 'Natalie','Rachel'],'Sales_Amount':[2000,5000,\\\n",
    "    10000,45000,60000, 20000]})\n",
    "a = df.drop(labels = ['Sales_Person'], axis = 1)\n",
    "\n",
    "a.groupby('Corporation_Name').mad()"
   ]
  },
  {
   "cell_type": "code",
   "execution_count": 86,
   "id": "6a1a7050-8535-46d3-98b9-395c863111f8",
   "metadata": {},
   "outputs": [
    {
     "data": {
      "text/html": [
       "<div>\n",
       "<style scoped>\n",
       "    .dataframe tbody tr th:only-of-type {\n",
       "        vertical-align: middle;\n",
       "    }\n",
       "\n",
       "    .dataframe tbody tr th {\n",
       "        vertical-align: top;\n",
       "    }\n",
       "\n",
       "    .dataframe thead tr th {\n",
       "        text-align: left;\n",
       "    }\n",
       "\n",
       "    .dataframe thead tr:last-of-type th {\n",
       "        text-align: right;\n",
       "    }\n",
       "</style>\n",
       "<table border=\"1\" class=\"dataframe\">\n",
       "  <thead>\n",
       "    <tr>\n",
       "      <th></th>\n",
       "      <th colspan=\"8\" halign=\"left\">Sales_Amount</th>\n",
       "    </tr>\n",
       "    <tr>\n",
       "      <th></th>\n",
       "      <th>count</th>\n",
       "      <th>mean</th>\n",
       "      <th>std</th>\n",
       "      <th>min</th>\n",
       "      <th>25%</th>\n",
       "      <th>50%</th>\n",
       "      <th>75%</th>\n",
       "      <th>max</th>\n",
       "    </tr>\n",
       "    <tr>\n",
       "      <th>Corporation_Name</th>\n",
       "      <th></th>\n",
       "      <th></th>\n",
       "      <th></th>\n",
       "      <th></th>\n",
       "      <th></th>\n",
       "      <th></th>\n",
       "      <th></th>\n",
       "      <th></th>\n",
       "    </tr>\n",
       "  </thead>\n",
       "  <tbody>\n",
       "    <tr>\n",
       "      <th>CVX</th>\n",
       "      <td>2.0</td>\n",
       "      <td>6000.0</td>\n",
       "      <td>5656.854249</td>\n",
       "      <td>2000.0</td>\n",
       "      <td>4000.0</td>\n",
       "      <td>6000.0</td>\n",
       "      <td>8000.0</td>\n",
       "      <td>10000.0</td>\n",
       "    </tr>\n",
       "    <tr>\n",
       "      <th>EXXON</th>\n",
       "      <td>2.0</td>\n",
       "      <td>25000.0</td>\n",
       "      <td>28284.271247</td>\n",
       "      <td>5000.0</td>\n",
       "      <td>15000.0</td>\n",
       "      <td>25000.0</td>\n",
       "      <td>35000.0</td>\n",
       "      <td>45000.0</td>\n",
       "    </tr>\n",
       "    <tr>\n",
       "      <th>GE</th>\n",
       "      <td>2.0</td>\n",
       "      <td>40000.0</td>\n",
       "      <td>28284.271247</td>\n",
       "      <td>20000.0</td>\n",
       "      <td>30000.0</td>\n",
       "      <td>40000.0</td>\n",
       "      <td>50000.0</td>\n",
       "      <td>60000.0</td>\n",
       "    </tr>\n",
       "  </tbody>\n",
       "</table>\n",
       "</div>"
      ],
      "text/plain": [
       "                 Sales_Amount                                           \\\n",
       "                        count     mean           std      min      25%   \n",
       "Corporation_Name                                                         \n",
       "CVX                       2.0   6000.0   5656.854249   2000.0   4000.0   \n",
       "EXXON                     2.0  25000.0  28284.271247   5000.0  15000.0   \n",
       "GE                        2.0  40000.0  28284.271247  20000.0  30000.0   \n",
       "\n",
       "                                             \n",
       "                      50%      75%      max  \n",
       "Corporation_Name                             \n",
       "CVX                6000.0   8000.0  10000.0  \n",
       "EXXON             25000.0  35000.0  45000.0  \n",
       "GE                40000.0  50000.0  60000.0  "
      ]
     },
     "execution_count": 86,
     "metadata": {},
     "output_type": "execute_result"
    }
   ],
   "source": [
    "df.groupby('Corporation_Name').describe() #.transpose()"
   ]
  },
  {
   "cell_type": "code",
   "execution_count": 87,
   "id": "fbe99c7b-0274-4c0d-9ca8-c1465d9e5374",
   "metadata": {},
   "outputs": [
    {
     "data": {
      "text/html": [
       "<div>\n",
       "<style scoped>\n",
       "    .dataframe tbody tr th:only-of-type {\n",
       "        vertical-align: middle;\n",
       "    }\n",
       "\n",
       "    .dataframe tbody tr th {\n",
       "        vertical-align: top;\n",
       "    }\n",
       "\n",
       "    .dataframe thead th {\n",
       "        text-align: right;\n",
       "    }\n",
       "</style>\n",
       "<table border=\"1\" class=\"dataframe\">\n",
       "  <thead>\n",
       "    <tr style=\"text-align: right;\">\n",
       "      <th></th>\n",
       "      <th>Corporation_Name</th>\n",
       "      <th>CVX</th>\n",
       "      <th>EXXON</th>\n",
       "      <th>GE</th>\n",
       "    </tr>\n",
       "  </thead>\n",
       "  <tbody>\n",
       "    <tr>\n",
       "      <th rowspan=\"8\" valign=\"top\">Sales_Amount</th>\n",
       "      <th>count</th>\n",
       "      <td>2.000000</td>\n",
       "      <td>2.000000</td>\n",
       "      <td>2.000000</td>\n",
       "    </tr>\n",
       "    <tr>\n",
       "      <th>mean</th>\n",
       "      <td>6000.000000</td>\n",
       "      <td>25000.000000</td>\n",
       "      <td>40000.000000</td>\n",
       "    </tr>\n",
       "    <tr>\n",
       "      <th>std</th>\n",
       "      <td>5656.854249</td>\n",
       "      <td>28284.271247</td>\n",
       "      <td>28284.271247</td>\n",
       "    </tr>\n",
       "    <tr>\n",
       "      <th>min</th>\n",
       "      <td>2000.000000</td>\n",
       "      <td>5000.000000</td>\n",
       "      <td>20000.000000</td>\n",
       "    </tr>\n",
       "    <tr>\n",
       "      <th>25%</th>\n",
       "      <td>4000.000000</td>\n",
       "      <td>15000.000000</td>\n",
       "      <td>30000.000000</td>\n",
       "    </tr>\n",
       "    <tr>\n",
       "      <th>50%</th>\n",
       "      <td>6000.000000</td>\n",
       "      <td>25000.000000</td>\n",
       "      <td>40000.000000</td>\n",
       "    </tr>\n",
       "    <tr>\n",
       "      <th>75%</th>\n",
       "      <td>8000.000000</td>\n",
       "      <td>35000.000000</td>\n",
       "      <td>50000.000000</td>\n",
       "    </tr>\n",
       "    <tr>\n",
       "      <th>max</th>\n",
       "      <td>10000.000000</td>\n",
       "      <td>45000.000000</td>\n",
       "      <td>60000.000000</td>\n",
       "    </tr>\n",
       "  </tbody>\n",
       "</table>\n",
       "</div>"
      ],
      "text/plain": [
       "Corporation_Name             CVX         EXXON            GE\n",
       "Sales_Amount count      2.000000      2.000000      2.000000\n",
       "             mean    6000.000000  25000.000000  40000.000000\n",
       "             std     5656.854249  28284.271247  28284.271247\n",
       "             min     2000.000000   5000.000000  20000.000000\n",
       "             25%     4000.000000  15000.000000  30000.000000\n",
       "             50%     6000.000000  25000.000000  40000.000000\n",
       "             75%     8000.000000  35000.000000  50000.000000\n",
       "             max    10000.000000  45000.000000  60000.000000"
      ]
     },
     "execution_count": 87,
     "metadata": {},
     "output_type": "execute_result"
    }
   ],
   "source": [
    "df.groupby('Corporation_Name').describe().transpose()"
   ]
  },
  {
   "cell_type": "markdown",
   "id": "315c12d7-3f06-4255-b001-1788e890f06a",
   "metadata": {},
   "source": [
    "# Pandas data frame concatenation\n",
    "* The act of linking together as in a series or chain\n",
    "* Concatenation is another commonly used pandas function to append various columns vertically or horizontally.\n",
    "* Concatenation can also be done using multiple files."
   ]
  },
  {
   "cell_type": "code",
   "execution_count": 89,
   "id": "a24ebf73-02b0-4f1e-86fb-e946c375c6bf",
   "metadata": {},
   "outputs": [
    {
     "data": {
      "text/html": [
       "<div>\n",
       "<style scoped>\n",
       "    .dataframe tbody tr th:only-of-type {\n",
       "        vertical-align: middle;\n",
       "    }\n",
       "\n",
       "    .dataframe tbody tr th {\n",
       "        vertical-align: top;\n",
       "    }\n",
       "\n",
       "    .dataframe thead th {\n",
       "        text-align: right;\n",
       "    }\n",
       "</style>\n",
       "<table border=\"1\" class=\"dataframe\">\n",
       "  <thead>\n",
       "    <tr style=\"text-align: right;\">\n",
       "      <th></th>\n",
       "      <th>A</th>\n",
       "      <th>B</th>\n",
       "      <th>C</th>\n",
       "      <th>D</th>\n",
       "    </tr>\n",
       "  </thead>\n",
       "  <tbody>\n",
       "    <tr>\n",
       "      <th>0</th>\n",
       "      <td>H1</td>\n",
       "      <td>I1</td>\n",
       "      <td>J1</td>\n",
       "      <td>K1</td>\n",
       "    </tr>\n",
       "    <tr>\n",
       "      <th>1</th>\n",
       "      <td>H2</td>\n",
       "      <td>I2</td>\n",
       "      <td>J2</td>\n",
       "      <td>K2</td>\n",
       "    </tr>\n",
       "    <tr>\n",
       "      <th>2</th>\n",
       "      <td>H3</td>\n",
       "      <td>I3</td>\n",
       "      <td>J3</td>\n",
       "      <td>K3</td>\n",
       "    </tr>\n",
       "    <tr>\n",
       "      <th>3</th>\n",
       "      <td>H4</td>\n",
       "      <td>I4</td>\n",
       "      <td>J4</td>\n",
       "      <td>K4</td>\n",
       "    </tr>\n",
       "  </tbody>\n",
       "</table>\n",
       "</div>"
      ],
      "text/plain": [
       "    A   B   C   D\n",
       "0  H1  I1  J1  K1\n",
       "1  H2  I2  J2  K2\n",
       "2  H3  I3  J3  K3\n",
       "3  H4  I4  J4  K4"
      ]
     },
     "execution_count": 89,
     "metadata": {},
     "output_type": "execute_result"
    }
   ],
   "source": [
    "df1 = pd.DataFrame({'A':['H1', 'H2', 'H3', 'H4'], 'B':['I1', 'I2', 'I3', 'I4'],\\\n",
    "                    'C':['J1', 'J2', 'J3', 'J4'], 'D':['K1', 'K2', 'K3', 'K4']})\n",
    "df1"
   ]
  },
  {
   "cell_type": "code",
   "execution_count": 90,
   "id": "cc1befd7-3971-4272-b76f-acf13bb9073a",
   "metadata": {},
   "outputs": [
    {
     "data": {
      "text/html": [
       "<div>\n",
       "<style scoped>\n",
       "    .dataframe tbody tr th:only-of-type {\n",
       "        vertical-align: middle;\n",
       "    }\n",
       "\n",
       "    .dataframe tbody tr th {\n",
       "        vertical-align: top;\n",
       "    }\n",
       "\n",
       "    .dataframe thead th {\n",
       "        text-align: right;\n",
       "    }\n",
       "</style>\n",
       "<table border=\"1\" class=\"dataframe\">\n",
       "  <thead>\n",
       "    <tr style=\"text-align: right;\">\n",
       "      <th></th>\n",
       "      <th>A</th>\n",
       "      <th>B</th>\n",
       "      <th>C</th>\n",
       "      <th>D</th>\n",
       "    </tr>\n",
       "  </thead>\n",
       "  <tbody>\n",
       "    <tr>\n",
       "      <th>4</th>\n",
       "      <td>H5</td>\n",
       "      <td>I5</td>\n",
       "      <td>J5</td>\n",
       "      <td>K5</td>\n",
       "    </tr>\n",
       "    <tr>\n",
       "      <th>5</th>\n",
       "      <td>H6</td>\n",
       "      <td>I6</td>\n",
       "      <td>J6</td>\n",
       "      <td>K6</td>\n",
       "    </tr>\n",
       "    <tr>\n",
       "      <th>6</th>\n",
       "      <td>H7</td>\n",
       "      <td>I7</td>\n",
       "      <td>J7</td>\n",
       "      <td>K7</td>\n",
       "    </tr>\n",
       "    <tr>\n",
       "      <th>7</th>\n",
       "      <td>H8</td>\n",
       "      <td>I8</td>\n",
       "      <td>J8</td>\n",
       "      <td>K8</td>\n",
       "    </tr>\n",
       "  </tbody>\n",
       "</table>\n",
       "</div>"
      ],
      "text/plain": [
       "    A   B   C   D\n",
       "4  H5  I5  J5  K5\n",
       "5  H6  I6  J6  K6\n",
       "6  H7  I7  J7  K7\n",
       "7  H8  I8  J8  K8"
      ]
     },
     "execution_count": 90,
     "metadata": {},
     "output_type": "execute_result"
    }
   ],
   "source": [
    "df2 = pd.DataFrame({'A':['H5','H6','H7','H8'],\n",
    "    'B':['I5','I6','I7','I8'], 'C':['J5','J6','J7','J8'],\n",
    "    'D':['K5','K6','K7','K8']}, index = [4,5,6,7])\n",
    "df2"
   ]
  },
  {
   "cell_type": "code",
   "execution_count": 92,
   "id": "95d512ce-3067-4679-a4ea-dd670c193d9e",
   "metadata": {},
   "outputs": [
    {
     "data": {
      "text/html": [
       "<div>\n",
       "<style scoped>\n",
       "    .dataframe tbody tr th:only-of-type {\n",
       "        vertical-align: middle;\n",
       "    }\n",
       "\n",
       "    .dataframe tbody tr th {\n",
       "        vertical-align: top;\n",
       "    }\n",
       "\n",
       "    .dataframe thead th {\n",
       "        text-align: right;\n",
       "    }\n",
       "</style>\n",
       "<table border=\"1\" class=\"dataframe\">\n",
       "  <thead>\n",
       "    <tr style=\"text-align: right;\">\n",
       "      <th></th>\n",
       "      <th>A</th>\n",
       "      <th>B</th>\n",
       "      <th>C</th>\n",
       "      <th>D</th>\n",
       "      <th>E</th>\n",
       "    </tr>\n",
       "  </thead>\n",
       "  <tbody>\n",
       "    <tr>\n",
       "      <th>8</th>\n",
       "      <td>H9</td>\n",
       "      <td>I9</td>\n",
       "      <td>J9</td>\n",
       "      <td>K9</td>\n",
       "      <td>L1</td>\n",
       "    </tr>\n",
       "    <tr>\n",
       "      <th>9</th>\n",
       "      <td>H10</td>\n",
       "      <td>I10</td>\n",
       "      <td>J10</td>\n",
       "      <td>K10</td>\n",
       "      <td>L2</td>\n",
       "    </tr>\n",
       "    <tr>\n",
       "      <th>10</th>\n",
       "      <td>H11</td>\n",
       "      <td>I11</td>\n",
       "      <td>J11</td>\n",
       "      <td>K11</td>\n",
       "      <td>L3</td>\n",
       "    </tr>\n",
       "    <tr>\n",
       "      <th>11</th>\n",
       "      <td>H12</td>\n",
       "      <td>I12</td>\n",
       "      <td>J12</td>\n",
       "      <td>K12</td>\n",
       "      <td>L4</td>\n",
       "    </tr>\n",
       "  </tbody>\n",
       "</table>\n",
       "</div>"
      ],
      "text/plain": [
       "      A    B    C    D   E\n",
       "8    H9   I9   J9   K9  L1\n",
       "9   H10  I10  J10  K10  L2\n",
       "10  H11  I11  J11  K11  L3\n",
       "11  H12  I12  J12  K12  L4"
      ]
     },
     "execution_count": 92,
     "metadata": {},
     "output_type": "execute_result"
    }
   ],
   "source": [
    "df3 = pd.DataFrame({'A':['H9','H10','H11','H12'],\n",
    "    'B':['I9','I10','I11','I12'],'C':['J9','J10','J11','J12'],\n",
    "    'D':['K9','K10','K11','K12'],'E':['L1','L2','L3','L4']},\n",
    "    index=[8,9,10,11])\n",
    "\n",
    "df3\n",
    "\n",
    "# Please note that df3 has an additional column called \"E.\""
   ]
  },
  {
   "cell_type": "code",
   "execution_count": 94,
   "id": "49a6ca83-dcc8-401a-afe9-9a109286807a",
   "metadata": {},
   "outputs": [
    {
     "data": {
      "text/html": [
       "<div>\n",
       "<style scoped>\n",
       "    .dataframe tbody tr th:only-of-type {\n",
       "        vertical-align: middle;\n",
       "    }\n",
       "\n",
       "    .dataframe tbody tr th {\n",
       "        vertical-align: top;\n",
       "    }\n",
       "\n",
       "    .dataframe thead th {\n",
       "        text-align: right;\n",
       "    }\n",
       "</style>\n",
       "<table border=\"1\" class=\"dataframe\">\n",
       "  <thead>\n",
       "    <tr style=\"text-align: right;\">\n",
       "      <th></th>\n",
       "      <th>A</th>\n",
       "      <th>B</th>\n",
       "      <th>C</th>\n",
       "      <th>D</th>\n",
       "      <th>E</th>\n",
       "    </tr>\n",
       "  </thead>\n",
       "  <tbody>\n",
       "    <tr>\n",
       "      <th>0</th>\n",
       "      <td>H1</td>\n",
       "      <td>I1</td>\n",
       "      <td>J1</td>\n",
       "      <td>K1</td>\n",
       "      <td>NaN</td>\n",
       "    </tr>\n",
       "    <tr>\n",
       "      <th>1</th>\n",
       "      <td>H2</td>\n",
       "      <td>I2</td>\n",
       "      <td>J2</td>\n",
       "      <td>K2</td>\n",
       "      <td>NaN</td>\n",
       "    </tr>\n",
       "    <tr>\n",
       "      <th>2</th>\n",
       "      <td>H3</td>\n",
       "      <td>I3</td>\n",
       "      <td>J3</td>\n",
       "      <td>K3</td>\n",
       "      <td>NaN</td>\n",
       "    </tr>\n",
       "    <tr>\n",
       "      <th>3</th>\n",
       "      <td>H4</td>\n",
       "      <td>I4</td>\n",
       "      <td>J4</td>\n",
       "      <td>K4</td>\n",
       "      <td>NaN</td>\n",
       "    </tr>\n",
       "    <tr>\n",
       "      <th>4</th>\n",
       "      <td>H5</td>\n",
       "      <td>I5</td>\n",
       "      <td>J5</td>\n",
       "      <td>K5</td>\n",
       "      <td>NaN</td>\n",
       "    </tr>\n",
       "    <tr>\n",
       "      <th>5</th>\n",
       "      <td>H6</td>\n",
       "      <td>I6</td>\n",
       "      <td>J6</td>\n",
       "      <td>K6</td>\n",
       "      <td>NaN</td>\n",
       "    </tr>\n",
       "    <tr>\n",
       "      <th>6</th>\n",
       "      <td>H7</td>\n",
       "      <td>I7</td>\n",
       "      <td>J7</td>\n",
       "      <td>K7</td>\n",
       "      <td>NaN</td>\n",
       "    </tr>\n",
       "    <tr>\n",
       "      <th>7</th>\n",
       "      <td>H8</td>\n",
       "      <td>I8</td>\n",
       "      <td>J8</td>\n",
       "      <td>K8</td>\n",
       "      <td>NaN</td>\n",
       "    </tr>\n",
       "    <tr>\n",
       "      <th>8</th>\n",
       "      <td>H9</td>\n",
       "      <td>I9</td>\n",
       "      <td>J9</td>\n",
       "      <td>K9</td>\n",
       "      <td>L1</td>\n",
       "    </tr>\n",
       "    <tr>\n",
       "      <th>9</th>\n",
       "      <td>H10</td>\n",
       "      <td>I10</td>\n",
       "      <td>J10</td>\n",
       "      <td>K10</td>\n",
       "      <td>L2</td>\n",
       "    </tr>\n",
       "    <tr>\n",
       "      <th>10</th>\n",
       "      <td>H11</td>\n",
       "      <td>I11</td>\n",
       "      <td>J11</td>\n",
       "      <td>K11</td>\n",
       "      <td>L3</td>\n",
       "    </tr>\n",
       "    <tr>\n",
       "      <th>11</th>\n",
       "      <td>H12</td>\n",
       "      <td>I12</td>\n",
       "      <td>J12</td>\n",
       "      <td>K12</td>\n",
       "      <td>L4</td>\n",
       "    </tr>\n",
       "  </tbody>\n",
       "</table>\n",
       "</div>"
      ],
      "text/plain": [
       "      A    B    C    D    E\n",
       "0    H1   I1   J1   K1  NaN\n",
       "1    H2   I2   J2   K2  NaN\n",
       "2    H3   I3   J3   K3  NaN\n",
       "3    H4   I4   J4   K4  NaN\n",
       "4    H5   I5   J5   K5  NaN\n",
       "5    H6   I6   J6   K6  NaN\n",
       "6    H7   I7   J7   K7  NaN\n",
       "7    H8   I8   J8   K8  NaN\n",
       "8    H9   I9   J9   K9   L1\n",
       "9   H10  I10  J10  K10   L2\n",
       "10  H11  I11  J11  K11   L3\n",
       "11  H12  I12  J12  K12   L4"
      ]
     },
     "execution_count": 94,
     "metadata": {},
     "output_type": "execute_result"
    }
   ],
   "source": [
    "# \"pd.concat()\" function can be used to glue one data frame right below one another as follows:\n",
    "pd.concat([df1,df2,df3])"
   ]
  },
  {
   "cell_type": "code",
   "execution_count": 95,
   "id": "d596fbfb-4a80-429f-a6ac-baafa0ad2267",
   "metadata": {},
   "outputs": [
    {
     "data": {
      "text/html": [
       "<div>\n",
       "<style scoped>\n",
       "    .dataframe tbody tr th:only-of-type {\n",
       "        vertical-align: middle;\n",
       "    }\n",
       "\n",
       "    .dataframe tbody tr th {\n",
       "        vertical-align: top;\n",
       "    }\n",
       "\n",
       "    .dataframe thead th {\n",
       "        text-align: right;\n",
       "    }\n",
       "</style>\n",
       "<table border=\"1\" class=\"dataframe\">\n",
       "  <thead>\n",
       "    <tr style=\"text-align: right;\">\n",
       "      <th></th>\n",
       "      <th>A</th>\n",
       "      <th>B</th>\n",
       "      <th>C</th>\n",
       "      <th>D</th>\n",
       "      <th>A</th>\n",
       "      <th>B</th>\n",
       "      <th>C</th>\n",
       "      <th>D</th>\n",
       "      <th>A</th>\n",
       "      <th>B</th>\n",
       "      <th>C</th>\n",
       "      <th>D</th>\n",
       "      <th>E</th>\n",
       "    </tr>\n",
       "  </thead>\n",
       "  <tbody>\n",
       "    <tr>\n",
       "      <th>0</th>\n",
       "      <td>H1</td>\n",
       "      <td>I1</td>\n",
       "      <td>J1</td>\n",
       "      <td>K1</td>\n",
       "      <td>NaN</td>\n",
       "      <td>NaN</td>\n",
       "      <td>NaN</td>\n",
       "      <td>NaN</td>\n",
       "      <td>NaN</td>\n",
       "      <td>NaN</td>\n",
       "      <td>NaN</td>\n",
       "      <td>NaN</td>\n",
       "      <td>NaN</td>\n",
       "    </tr>\n",
       "    <tr>\n",
       "      <th>1</th>\n",
       "      <td>H2</td>\n",
       "      <td>I2</td>\n",
       "      <td>J2</td>\n",
       "      <td>K2</td>\n",
       "      <td>NaN</td>\n",
       "      <td>NaN</td>\n",
       "      <td>NaN</td>\n",
       "      <td>NaN</td>\n",
       "      <td>NaN</td>\n",
       "      <td>NaN</td>\n",
       "      <td>NaN</td>\n",
       "      <td>NaN</td>\n",
       "      <td>NaN</td>\n",
       "    </tr>\n",
       "    <tr>\n",
       "      <th>2</th>\n",
       "      <td>H3</td>\n",
       "      <td>I3</td>\n",
       "      <td>J3</td>\n",
       "      <td>K3</td>\n",
       "      <td>NaN</td>\n",
       "      <td>NaN</td>\n",
       "      <td>NaN</td>\n",
       "      <td>NaN</td>\n",
       "      <td>NaN</td>\n",
       "      <td>NaN</td>\n",
       "      <td>NaN</td>\n",
       "      <td>NaN</td>\n",
       "      <td>NaN</td>\n",
       "    </tr>\n",
       "    <tr>\n",
       "      <th>3</th>\n",
       "      <td>H4</td>\n",
       "      <td>I4</td>\n",
       "      <td>J4</td>\n",
       "      <td>K4</td>\n",
       "      <td>NaN</td>\n",
       "      <td>NaN</td>\n",
       "      <td>NaN</td>\n",
       "      <td>NaN</td>\n",
       "      <td>NaN</td>\n",
       "      <td>NaN</td>\n",
       "      <td>NaN</td>\n",
       "      <td>NaN</td>\n",
       "      <td>NaN</td>\n",
       "    </tr>\n",
       "    <tr>\n",
       "      <th>4</th>\n",
       "      <td>NaN</td>\n",
       "      <td>NaN</td>\n",
       "      <td>NaN</td>\n",
       "      <td>NaN</td>\n",
       "      <td>H5</td>\n",
       "      <td>I5</td>\n",
       "      <td>J5</td>\n",
       "      <td>K5</td>\n",
       "      <td>NaN</td>\n",
       "      <td>NaN</td>\n",
       "      <td>NaN</td>\n",
       "      <td>NaN</td>\n",
       "      <td>NaN</td>\n",
       "    </tr>\n",
       "    <tr>\n",
       "      <th>5</th>\n",
       "      <td>NaN</td>\n",
       "      <td>NaN</td>\n",
       "      <td>NaN</td>\n",
       "      <td>NaN</td>\n",
       "      <td>H6</td>\n",
       "      <td>I6</td>\n",
       "      <td>J6</td>\n",
       "      <td>K6</td>\n",
       "      <td>NaN</td>\n",
       "      <td>NaN</td>\n",
       "      <td>NaN</td>\n",
       "      <td>NaN</td>\n",
       "      <td>NaN</td>\n",
       "    </tr>\n",
       "    <tr>\n",
       "      <th>6</th>\n",
       "      <td>NaN</td>\n",
       "      <td>NaN</td>\n",
       "      <td>NaN</td>\n",
       "      <td>NaN</td>\n",
       "      <td>H7</td>\n",
       "      <td>I7</td>\n",
       "      <td>J7</td>\n",
       "      <td>K7</td>\n",
       "      <td>NaN</td>\n",
       "      <td>NaN</td>\n",
       "      <td>NaN</td>\n",
       "      <td>NaN</td>\n",
       "      <td>NaN</td>\n",
       "    </tr>\n",
       "    <tr>\n",
       "      <th>7</th>\n",
       "      <td>NaN</td>\n",
       "      <td>NaN</td>\n",
       "      <td>NaN</td>\n",
       "      <td>NaN</td>\n",
       "      <td>H8</td>\n",
       "      <td>I8</td>\n",
       "      <td>J8</td>\n",
       "      <td>K8</td>\n",
       "      <td>NaN</td>\n",
       "      <td>NaN</td>\n",
       "      <td>NaN</td>\n",
       "      <td>NaN</td>\n",
       "      <td>NaN</td>\n",
       "    </tr>\n",
       "    <tr>\n",
       "      <th>8</th>\n",
       "      <td>NaN</td>\n",
       "      <td>NaN</td>\n",
       "      <td>NaN</td>\n",
       "      <td>NaN</td>\n",
       "      <td>NaN</td>\n",
       "      <td>NaN</td>\n",
       "      <td>NaN</td>\n",
       "      <td>NaN</td>\n",
       "      <td>H9</td>\n",
       "      <td>I9</td>\n",
       "      <td>J9</td>\n",
       "      <td>K9</td>\n",
       "      <td>L1</td>\n",
       "    </tr>\n",
       "    <tr>\n",
       "      <th>9</th>\n",
       "      <td>NaN</td>\n",
       "      <td>NaN</td>\n",
       "      <td>NaN</td>\n",
       "      <td>NaN</td>\n",
       "      <td>NaN</td>\n",
       "      <td>NaN</td>\n",
       "      <td>NaN</td>\n",
       "      <td>NaN</td>\n",
       "      <td>H10</td>\n",
       "      <td>I10</td>\n",
       "      <td>J10</td>\n",
       "      <td>K10</td>\n",
       "      <td>L2</td>\n",
       "    </tr>\n",
       "    <tr>\n",
       "      <th>10</th>\n",
       "      <td>NaN</td>\n",
       "      <td>NaN</td>\n",
       "      <td>NaN</td>\n",
       "      <td>NaN</td>\n",
       "      <td>NaN</td>\n",
       "      <td>NaN</td>\n",
       "      <td>NaN</td>\n",
       "      <td>NaN</td>\n",
       "      <td>H11</td>\n",
       "      <td>I11</td>\n",
       "      <td>J11</td>\n",
       "      <td>K11</td>\n",
       "      <td>L3</td>\n",
       "    </tr>\n",
       "    <tr>\n",
       "      <th>11</th>\n",
       "      <td>NaN</td>\n",
       "      <td>NaN</td>\n",
       "      <td>NaN</td>\n",
       "      <td>NaN</td>\n",
       "      <td>NaN</td>\n",
       "      <td>NaN</td>\n",
       "      <td>NaN</td>\n",
       "      <td>NaN</td>\n",
       "      <td>H12</td>\n",
       "      <td>I12</td>\n",
       "      <td>J12</td>\n",
       "      <td>K12</td>\n",
       "      <td>L4</td>\n",
       "    </tr>\n",
       "  </tbody>\n",
       "</table>\n",
       "</div>"
      ],
      "text/plain": [
       "      A    B    C    D    A    B    C    D    A    B    C    D    E\n",
       "0    H1   I1   J1   K1  NaN  NaN  NaN  NaN  NaN  NaN  NaN  NaN  NaN\n",
       "1    H2   I2   J2   K2  NaN  NaN  NaN  NaN  NaN  NaN  NaN  NaN  NaN\n",
       "2    H3   I3   J3   K3  NaN  NaN  NaN  NaN  NaN  NaN  NaN  NaN  NaN\n",
       "3    H4   I4   J4   K4  NaN  NaN  NaN  NaN  NaN  NaN  NaN  NaN  NaN\n",
       "4   NaN  NaN  NaN  NaN   H5   I5   J5   K5  NaN  NaN  NaN  NaN  NaN\n",
       "5   NaN  NaN  NaN  NaN   H6   I6   J6   K6  NaN  NaN  NaN  NaN  NaN\n",
       "6   NaN  NaN  NaN  NaN   H7   I7   J7   K7  NaN  NaN  NaN  NaN  NaN\n",
       "7   NaN  NaN  NaN  NaN   H8   I8   J8   K8  NaN  NaN  NaN  NaN  NaN\n",
       "8   NaN  NaN  NaN  NaN  NaN  NaN  NaN  NaN   H9   I9   J9   K9   L1\n",
       "9   NaN  NaN  NaN  NaN  NaN  NaN  NaN  NaN  H10  I10  J10  K10   L2\n",
       "10  NaN  NaN  NaN  NaN  NaN  NaN  NaN  NaN  H11  I11  J11  K11   L3\n",
       "11  NaN  NaN  NaN  NaN  NaN  NaN  NaN  NaN  H12  I12  J12  K12   L4"
      ]
     },
     "execution_count": 95,
     "metadata": {},
     "output_type": "execute_result"
    }
   ],
   "source": [
    "# To concatenate data frames horizontally, axis = 1 can be placed inside\n",
    "# pd.concat() function as shown below:\n",
    "\n",
    "pd.concat([df1,df2,df3], axis = 1)"
   ]
  },
  {
   "attachments": {
    "90c47d89-5a98-4043-81f1-eb6e1ced31db.png": {
     "image/png": "[encoded data removed]"
    }
   },
   "cell_type": "markdown",
   "id": "a941c3f9-0669-4b94-8373-d3a514073ef7",
   "metadata": {},
   "source": [
    "# Pandas merging\n",
    "* Aside from concatenation, it might be necessary to merge tables with uniqueproperties together.\n",
    "* For example, if a geologic properties table should bemerged with a well data table with the unique identifier of \"API number,\"merging can easily take place in pandas.\n",
    "* Before going through the coding example, let’s define some of the key terms that are used for merging in Python. The definitions below are from the official pandas documentation:\n",
    "  - left = use only keys from left frame, similar to a SQL left outer join\n",
    "  - right = use only keys from right frame, similar to a SQL right outer\n",
    "  - join outer = use union of keys from both frames, similar to a SQL fullouter join\n",
    "  - inner = use intersection of keys from both frames, similar to a SQL inner join; preserve the order of the left keys\n",
    "\n",
    "    ![image.png](attachment:90c47d89-5a98-4043-81f1-eb6e1ced31db.png)"
   ]
  },
  {
   "cell_type": "code",
   "execution_count": 96,
   "id": "5b0a3a3e-8d68-4983-a2aa-9e2715dc1d34",
   "metadata": {},
   "outputs": [
    {
     "data": {
      "text/html": [
       "<div>\n",
       "<style scoped>\n",
       "    .dataframe tbody tr th:only-of-type {\n",
       "        vertical-align: middle;\n",
       "    }\n",
       "\n",
       "    .dataframe tbody tr th {\n",
       "        vertical-align: top;\n",
       "    }\n",
       "\n",
       "    .dataframe thead th {\n",
       "        text-align: right;\n",
       "    }\n",
       "</style>\n",
       "<table border=\"1\" class=\"dataframe\">\n",
       "  <thead>\n",
       "    <tr style=\"text-align: right;\">\n",
       "      <th></th>\n",
       "      <th>A</th>\n",
       "      <th>B</th>\n",
       "      <th>unique_ID</th>\n",
       "    </tr>\n",
       "  </thead>\n",
       "  <tbody>\n",
       "    <tr>\n",
       "      <th>0</th>\n",
       "      <td>X1</td>\n",
       "      <td>Y1</td>\n",
       "      <td>Z1</td>\n",
       "    </tr>\n",
       "    <tr>\n",
       "      <th>1</th>\n",
       "      <td>X2</td>\n",
       "      <td>Y2</td>\n",
       "      <td>Z2</td>\n",
       "    </tr>\n",
       "    <tr>\n",
       "      <th>2</th>\n",
       "      <td>X3</td>\n",
       "      <td>Y3</td>\n",
       "      <td>Z3</td>\n",
       "    </tr>\n",
       "    <tr>\n",
       "      <th>3</th>\n",
       "      <td>X4</td>\n",
       "      <td>Y4</td>\n",
       "      <td>Z5</td>\n",
       "    </tr>\n",
       "  </tbody>\n",
       "</table>\n",
       "</div>"
      ],
      "text/plain": [
       "    A   B unique_ID\n",
       "0  X1  Y1        Z1\n",
       "1  X2  Y2        Z2\n",
       "2  X3  Y3        Z3\n",
       "3  X4  Y4        Z5"
      ]
     },
     "execution_count": 96,
     "metadata": {},
     "output_type": "execute_result"
    }
   ],
   "source": [
    "test1 = pd.DataFrame({'A':['X1','X2','X3','X4'],\n",
    "'B':['Y1','Y2','Y3','Y4'], 'unique_ID':['Z1','Z2','Z3',\n",
    "'Z5'],})\n",
    "\n",
    "test1"
   ]
  },
  {
   "cell_type": "code",
   "execution_count": 98,
   "id": "8f331cfe-b90d-4a14-8643-7daf25256ee0",
   "metadata": {},
   "outputs": [
    {
     "data": {
      "text/html": [
       "<div>\n",
       "<style scoped>\n",
       "    .dataframe tbody tr th:only-of-type {\n",
       "        vertical-align: middle;\n",
       "    }\n",
       "\n",
       "    .dataframe tbody tr th {\n",
       "        vertical-align: top;\n",
       "    }\n",
       "\n",
       "    .dataframe thead th {\n",
       "        text-align: right;\n",
       "    }\n",
       "</style>\n",
       "<table border=\"1\" class=\"dataframe\">\n",
       "  <thead>\n",
       "    <tr style=\"text-align: right;\">\n",
       "      <th></th>\n",
       "      <th>C</th>\n",
       "      <th>D</th>\n",
       "      <th>unique_ID</th>\n",
       "    </tr>\n",
       "  </thead>\n",
       "  <tbody>\n",
       "    <tr>\n",
       "      <th>0</th>\n",
       "      <td>L1</td>\n",
       "      <td>M1</td>\n",
       "      <td>Z1</td>\n",
       "    </tr>\n",
       "    <tr>\n",
       "      <th>1</th>\n",
       "      <td>L2</td>\n",
       "      <td>M2</td>\n",
       "      <td>Z2</td>\n",
       "    </tr>\n",
       "    <tr>\n",
       "      <th>2</th>\n",
       "      <td>L3</td>\n",
       "      <td>M3</td>\n",
       "      <td>Z3</td>\n",
       "    </tr>\n",
       "    <tr>\n",
       "      <th>3</th>\n",
       "      <td>L4</td>\n",
       "      <td>M4</td>\n",
       "      <td>Z6</td>\n",
       "    </tr>\n",
       "  </tbody>\n",
       "</table>\n",
       "</div>"
      ],
      "text/plain": [
       "    C   D unique_ID\n",
       "0  L1  M1        Z1\n",
       "1  L2  M2        Z2\n",
       "2  L3  M3        Z3\n",
       "3  L4  M4        Z6"
      ]
     },
     "execution_count": 98,
     "metadata": {},
     "output_type": "execute_result"
    }
   ],
   "source": [
    "test2 = pd.DataFrame({'C':['L1','L2','L3','L4'],\n",
    "'D':['M1','M2','M3','M4'], 'unique_ID':['Z1','Z2','Z3','Z6']})\n",
    "test2"
   ]
  },
  {
   "cell_type": "code",
   "execution_count": 99,
   "id": "7799734a-56f5-4625-a041-dad4ab420476",
   "metadata": {},
   "outputs": [
    {
     "data": {
      "text/html": [
       "<div>\n",
       "<style scoped>\n",
       "    .dataframe tbody tr th:only-of-type {\n",
       "        vertical-align: middle;\n",
       "    }\n",
       "\n",
       "    .dataframe tbody tr th {\n",
       "        vertical-align: top;\n",
       "    }\n",
       "\n",
       "    .dataframe thead th {\n",
       "        text-align: right;\n",
       "    }\n",
       "</style>\n",
       "<table border=\"1\" class=\"dataframe\">\n",
       "  <thead>\n",
       "    <tr style=\"text-align: right;\">\n",
       "      <th></th>\n",
       "      <th>A</th>\n",
       "      <th>B</th>\n",
       "      <th>unique_ID</th>\n",
       "      <th>C</th>\n",
       "      <th>D</th>\n",
       "    </tr>\n",
       "  </thead>\n",
       "  <tbody>\n",
       "    <tr>\n",
       "      <th>0</th>\n",
       "      <td>X1</td>\n",
       "      <td>Y1</td>\n",
       "      <td>Z1</td>\n",
       "      <td>L1</td>\n",
       "      <td>M1</td>\n",
       "    </tr>\n",
       "    <tr>\n",
       "      <th>1</th>\n",
       "      <td>X2</td>\n",
       "      <td>Y2</td>\n",
       "      <td>Z2</td>\n",
       "      <td>L2</td>\n",
       "      <td>M2</td>\n",
       "    </tr>\n",
       "    <tr>\n",
       "      <th>2</th>\n",
       "      <td>X3</td>\n",
       "      <td>Y3</td>\n",
       "      <td>Z3</td>\n",
       "      <td>L3</td>\n",
       "      <td>M3</td>\n",
       "    </tr>\n",
       "  </tbody>\n",
       "</table>\n",
       "</div>"
      ],
      "text/plain": [
       "    A   B unique_ID   C   D\n",
       "0  X1  Y1        Z1  L1  M1\n",
       "1  X2  Y2        Z2  L2  M2\n",
       "2  X3  Y3        Z3  L3  M3"
      ]
     },
     "execution_count": 99,
     "metadata": {},
     "output_type": "execute_result"
    }
   ],
   "source": [
    "pd.merge(test1,test2, on = 'unique_ID', how = 'inner')"
   ]
  },
  {
   "cell_type": "code",
   "execution_count": 5,
   "id": "65752c9f-aec2-487b-a236-7a012e15a031",
   "metadata": {},
   "outputs": [
    {
     "data": {
      "text/html": [
       "<div>\n",
       "<style scoped>\n",
       "    .dataframe tbody tr th:only-of-type {\n",
       "        vertical-align: middle;\n",
       "    }\n",
       "\n",
       "    .dataframe tbody tr th {\n",
       "        vertical-align: top;\n",
       "    }\n",
       "\n",
       "    .dataframe thead th {\n",
       "        text-align: right;\n",
       "    }\n",
       "</style>\n",
       "<table border=\"1\" class=\"dataframe\">\n",
       "  <thead>\n",
       "    <tr style=\"text-align: right;\">\n",
       "      <th></th>\n",
       "      <th>A</th>\n",
       "      <th>B</th>\n",
       "      <th>unique_ID</th>\n",
       "      <th>C</th>\n",
       "      <th>D</th>\n",
       "    </tr>\n",
       "  </thead>\n",
       "  <tbody>\n",
       "    <tr>\n",
       "      <th>0</th>\n",
       "      <td>X1</td>\n",
       "      <td>Y1</td>\n",
       "      <td>Z1</td>\n",
       "      <td>L1</td>\n",
       "      <td>M1</td>\n",
       "    </tr>\n",
       "    <tr>\n",
       "      <th>1</th>\n",
       "      <td>X2</td>\n",
       "      <td>Y2</td>\n",
       "      <td>Z2</td>\n",
       "      <td>L2</td>\n",
       "      <td>M2</td>\n",
       "    </tr>\n",
       "    <tr>\n",
       "      <th>2</th>\n",
       "      <td>X3</td>\n",
       "      <td>Y3</td>\n",
       "      <td>Z3</td>\n",
       "      <td>L3</td>\n",
       "      <td>M3</td>\n",
       "    </tr>\n",
       "    <tr>\n",
       "      <th>3</th>\n",
       "      <td>X4</td>\n",
       "      <td>Y4</td>\n",
       "      <td>Z5</td>\n",
       "      <td>NaN</td>\n",
       "      <td>NaN</td>\n",
       "    </tr>\n",
       "    <tr>\n",
       "      <th>4</th>\n",
       "      <td>NaN</td>\n",
       "      <td>NaN</td>\n",
       "      <td>Z6</td>\n",
       "      <td>L4</td>\n",
       "      <td>M4</td>\n",
       "    </tr>\n",
       "  </tbody>\n",
       "</table>\n",
       "</div>"
      ],
      "text/plain": [
       "     A    B unique_ID    C    D\n",
       "0   X1   Y1        Z1   L1   M1\n",
       "1   X2   Y2        Z2   L2   M2\n",
       "2   X3   Y3        Z3   L3   M3\n",
       "3   X4   Y4        Z5  NaN  NaN\n",
       "4  NaN  NaN        Z6   L4   M4"
      ]
     },
     "execution_count": 5,
     "metadata": {},
     "output_type": "execute_result"
    }
   ],
   "source": [
    "# Now, let’s repeat the same merging except using \"outer\" in lieu of \"inner\" as follows:\n",
    "test1 = pd.DataFrame({'A':['X1','X2','X3','X4'],\n",
    "'B':['Y1','Y2','Y3','Y4'], 'unique_ID':['Z1','Z2','Z3',\n",
    "'Z5'],})\n",
    "\n",
    "test2 = pd.DataFrame({'C':['L1','L2','L3','L4'],\n",
    "'D':['M1','M2','M3','M4'], 'unique_ID':['Z1','Z2','Z3','Z6']})\n",
    "\n",
    "pd.merge(test1, test2, on = 'unique_ID', how = 'outer')"
   ]
  },
  {
   "cell_type": "markdown",
   "id": "b7272bd2-fdd4-4a37-b637-323816bcca95",
   "metadata": {},
   "source": [
    "### As is illustrated above, \"outer\" will result in showing all the rows in both data frames."
   ]
  },
  {
   "cell_type": "code",
   "execution_count": 7,
   "id": "4f99b0d7-d16e-4ced-be60-4fd35cd39ced",
   "metadata": {},
   "outputs": [
    {
     "data": {
      "text/html": [
       "<div>\n",
       "<style scoped>\n",
       "    .dataframe tbody tr th:only-of-type {\n",
       "        vertical-align: middle;\n",
       "    }\n",
       "\n",
       "    .dataframe tbody tr th {\n",
       "        vertical-align: top;\n",
       "    }\n",
       "\n",
       "    .dataframe thead th {\n",
       "        text-align: right;\n",
       "    }\n",
       "</style>\n",
       "<table border=\"1\" class=\"dataframe\">\n",
       "  <thead>\n",
       "    <tr style=\"text-align: right;\">\n",
       "      <th></th>\n",
       "      <th>A</th>\n",
       "      <th>B</th>\n",
       "      <th>unique_ID_1</th>\n",
       "      <th>unique_ID_2</th>\n",
       "    </tr>\n",
       "  </thead>\n",
       "  <tbody>\n",
       "    <tr>\n",
       "      <th>0</th>\n",
       "      <td>X1</td>\n",
       "      <td>Y1</td>\n",
       "      <td>Z1</td>\n",
       "      <td>N1</td>\n",
       "    </tr>\n",
       "    <tr>\n",
       "      <th>1</th>\n",
       "      <td>X2</td>\n",
       "      <td>Y2</td>\n",
       "      <td>Z2</td>\n",
       "      <td>N2</td>\n",
       "    </tr>\n",
       "    <tr>\n",
       "      <th>2</th>\n",
       "      <td>X3</td>\n",
       "      <td>Y3</td>\n",
       "      <td>Z5</td>\n",
       "      <td>N6</td>\n",
       "    </tr>\n",
       "    <tr>\n",
       "      <th>3</th>\n",
       "      <td>X4</td>\n",
       "      <td>Y4</td>\n",
       "      <td>Z6</td>\n",
       "      <td>N7</td>\n",
       "    </tr>\n",
       "  </tbody>\n",
       "</table>\n",
       "</div>"
      ],
      "text/plain": [
       "    A   B unique_ID_1 unique_ID_2\n",
       "0  X1  Y1          Z1          N1\n",
       "1  X2  Y2          Z2          N2\n",
       "2  X3  Y3          Z5          N6\n",
       "3  X4  Y4          Z6          N7"
      ]
     },
     "execution_count": 7,
     "metadata": {},
     "output_type": "execute_result"
    }
   ],
   "source": [
    "# Let’s create two more data frames called test3 and test4 and perform merging on two unique columns:\n",
    "\n",
    "test3 = \\\n",
    "    pd.DataFrame({'A':['X1', 'X2', 'X3', 'X4'], 'B':['Y1', 'Y2', 'Y3', 'Y4'],\n",
    "                  'unique_ID_1':['Z1', 'Z2', 'Z5', 'Z6'],\n",
    "                  'unique_ID_2':['N1', 'N2', 'N6', 'N7']})\n",
    "\n",
    "test4 = \\\n",
    "    pd.DataFrame({'C':['L1', 'L2', 'L3', 'L4'], 'D':['M1', 'M2', 'M3', 'M4'],\n",
    "                  'unique_ID_1':['Z1', 'Z2', 'Z9', 'Z10'],\n",
    "                  'unique_ID_2':['N1', 'N2', 'N11', 'N12']})\n",
    "test3"
   ]
  },
  {
   "cell_type": "code",
   "execution_count": 8,
   "id": "1c56c5d6-edf0-4a70-88ca-b0c530ec245b",
   "metadata": {},
   "outputs": [
    {
     "data": {
      "text/html": [
       "<div>\n",
       "<style scoped>\n",
       "    .dataframe tbody tr th:only-of-type {\n",
       "        vertical-align: middle;\n",
       "    }\n",
       "\n",
       "    .dataframe tbody tr th {\n",
       "        vertical-align: top;\n",
       "    }\n",
       "\n",
       "    .dataframe thead th {\n",
       "        text-align: right;\n",
       "    }\n",
       "</style>\n",
       "<table border=\"1\" class=\"dataframe\">\n",
       "  <thead>\n",
       "    <tr style=\"text-align: right;\">\n",
       "      <th></th>\n",
       "      <th>C</th>\n",
       "      <th>D</th>\n",
       "      <th>unique_ID_1</th>\n",
       "      <th>unique_ID_2</th>\n",
       "    </tr>\n",
       "  </thead>\n",
       "  <tbody>\n",
       "    <tr>\n",
       "      <th>0</th>\n",
       "      <td>L1</td>\n",
       "      <td>M1</td>\n",
       "      <td>Z1</td>\n",
       "      <td>N1</td>\n",
       "    </tr>\n",
       "    <tr>\n",
       "      <th>1</th>\n",
       "      <td>L2</td>\n",
       "      <td>M2</td>\n",
       "      <td>Z2</td>\n",
       "      <td>N2</td>\n",
       "    </tr>\n",
       "    <tr>\n",
       "      <th>2</th>\n",
       "      <td>L3</td>\n",
       "      <td>M3</td>\n",
       "      <td>Z9</td>\n",
       "      <td>N11</td>\n",
       "    </tr>\n",
       "    <tr>\n",
       "      <th>3</th>\n",
       "      <td>L4</td>\n",
       "      <td>M4</td>\n",
       "      <td>Z10</td>\n",
       "      <td>N12</td>\n",
       "    </tr>\n",
       "  </tbody>\n",
       "</table>\n",
       "</div>"
      ],
      "text/plain": [
       "    C   D unique_ID_1 unique_ID_2\n",
       "0  L1  M1          Z1          N1\n",
       "1  L2  M2          Z2          N2\n",
       "2  L3  M3          Z9         N11\n",
       "3  L4  M4         Z10         N12"
      ]
     },
     "execution_count": 8,
     "metadata": {},
     "output_type": "execute_result"
    }
   ],
   "source": [
    "test4"
   ]
  },
  {
   "cell_type": "code",
   "execution_count": 9,
   "id": "beb77295-eaf6-413f-9e82-7248e76b0b50",
   "metadata": {},
   "outputs": [
    {
     "data": {
      "text/html": [
       "<div>\n",
       "<style scoped>\n",
       "    .dataframe tbody tr th:only-of-type {\n",
       "        vertical-align: middle;\n",
       "    }\n",
       "\n",
       "    .dataframe tbody tr th {\n",
       "        vertical-align: top;\n",
       "    }\n",
       "\n",
       "    .dataframe thead th {\n",
       "        text-align: right;\n",
       "    }\n",
       "</style>\n",
       "<table border=\"1\" class=\"dataframe\">\n",
       "  <thead>\n",
       "    <tr style=\"text-align: right;\">\n",
       "      <th></th>\n",
       "      <th>A</th>\n",
       "      <th>B</th>\n",
       "      <th>unique_ID_1</th>\n",
       "      <th>unique_ID_2</th>\n",
       "      <th>C</th>\n",
       "      <th>D</th>\n",
       "    </tr>\n",
       "  </thead>\n",
       "  <tbody>\n",
       "    <tr>\n",
       "      <th>0</th>\n",
       "      <td>X1</td>\n",
       "      <td>Y1</td>\n",
       "      <td>Z1</td>\n",
       "      <td>N1</td>\n",
       "      <td>L1</td>\n",
       "      <td>M1</td>\n",
       "    </tr>\n",
       "    <tr>\n",
       "      <th>1</th>\n",
       "      <td>X2</td>\n",
       "      <td>Y2</td>\n",
       "      <td>Z2</td>\n",
       "      <td>N2</td>\n",
       "      <td>L2</td>\n",
       "      <td>M2</td>\n",
       "    </tr>\n",
       "  </tbody>\n",
       "</table>\n",
       "</div>"
      ],
      "text/plain": [
       "    A   B unique_ID_1 unique_ID_2   C   D\n",
       "0  X1  Y1          Z1          N1  L1  M1\n",
       "1  X2  Y2          Z2          N2  L2  M2"
      ]
     },
     "execution_count": 9,
     "metadata": {},
     "output_type": "execute_result"
    }
   ],
   "source": [
    "# Let’s merge the two data frames on unique_ID_1 and unique_ID_2 using inner join as follows:\n",
    "pd.merge(test3, test4, on =['unique_ID_1', 'unique_ID_2'], how = 'inner')"
   ]
  },
  {
   "cell_type": "code",
   "execution_count": 10,
   "id": "3abfcf6b-f2c9-4a08-9e76-0b820eb47a70",
   "metadata": {},
   "outputs": [
    {
     "data": {
      "text/html": [
       "<div>\n",
       "<style scoped>\n",
       "    .dataframe tbody tr th:only-of-type {\n",
       "        vertical-align: middle;\n",
       "    }\n",
       "\n",
       "    .dataframe tbody tr th {\n",
       "        vertical-align: top;\n",
       "    }\n",
       "\n",
       "    .dataframe thead th {\n",
       "        text-align: right;\n",
       "    }\n",
       "</style>\n",
       "<table border=\"1\" class=\"dataframe\">\n",
       "  <thead>\n",
       "    <tr style=\"text-align: right;\">\n",
       "      <th></th>\n",
       "      <th>A</th>\n",
       "      <th>B</th>\n",
       "      <th>unique_ID_1</th>\n",
       "      <th>unique_ID_2</th>\n",
       "      <th>C</th>\n",
       "      <th>D</th>\n",
       "    </tr>\n",
       "  </thead>\n",
       "  <tbody>\n",
       "    <tr>\n",
       "      <th>0</th>\n",
       "      <td>X1</td>\n",
       "      <td>Y1</td>\n",
       "      <td>Z1</td>\n",
       "      <td>N1</td>\n",
       "      <td>L1</td>\n",
       "      <td>M1</td>\n",
       "    </tr>\n",
       "    <tr>\n",
       "      <th>1</th>\n",
       "      <td>X2</td>\n",
       "      <td>Y2</td>\n",
       "      <td>Z2</td>\n",
       "      <td>N2</td>\n",
       "      <td>L2</td>\n",
       "      <td>M2</td>\n",
       "    </tr>\n",
       "    <tr>\n",
       "      <th>2</th>\n",
       "      <td>X3</td>\n",
       "      <td>Y3</td>\n",
       "      <td>Z5</td>\n",
       "      <td>N6</td>\n",
       "      <td>NaN</td>\n",
       "      <td>NaN</td>\n",
       "    </tr>\n",
       "    <tr>\n",
       "      <th>3</th>\n",
       "      <td>X4</td>\n",
       "      <td>Y4</td>\n",
       "      <td>Z6</td>\n",
       "      <td>N7</td>\n",
       "      <td>NaN</td>\n",
       "      <td>NaN</td>\n",
       "    </tr>\n",
       "    <tr>\n",
       "      <th>4</th>\n",
       "      <td>NaN</td>\n",
       "      <td>NaN</td>\n",
       "      <td>Z9</td>\n",
       "      <td>N11</td>\n",
       "      <td>L3</td>\n",
       "      <td>M3</td>\n",
       "    </tr>\n",
       "    <tr>\n",
       "      <th>5</th>\n",
       "      <td>NaN</td>\n",
       "      <td>NaN</td>\n",
       "      <td>Z10</td>\n",
       "      <td>N12</td>\n",
       "      <td>L4</td>\n",
       "      <td>M4</td>\n",
       "    </tr>\n",
       "  </tbody>\n",
       "</table>\n",
       "</div>"
      ],
      "text/plain": [
       "     A    B unique_ID_1 unique_ID_2    C    D\n",
       "0   X1   Y1          Z1          N1   L1   M1\n",
       "1   X2   Y2          Z2          N2   L2   M2\n",
       "2   X3   Y3          Z5          N6  NaN  NaN\n",
       "3   X4   Y4          Z6          N7  NaN  NaN\n",
       "4  NaN  NaN          Z9         N11   L3   M3\n",
       "5  NaN  NaN         Z10         N12   L4   M4"
      ]
     },
     "execution_count": 10,
     "metadata": {},
     "output_type": "execute_result"
    }
   ],
   "source": [
    "pd.merge(test3, test4, on = ['unique_ID_1', 'unique_ID_2'], how = 'outer')"
   ]
  },
  {
   "cell_type": "markdown",
   "id": "6ea01ff2-234f-4cae-91ec-43f7d42752e0",
   "metadata": {},
   "source": [
    "# Pandas joining\n",
    "* Joining is a convenient method for combining two columns of two differently indexed data frames into a single resulting data frame.\n",
    "* It is the same as pd.merge() except that indexing (rows) is used for joining."
   ]
  },
  {
   "cell_type": "code",
   "execution_count": 12,
   "id": "e63edb9a-0fbd-420b-ac47-958e05ab09f2",
   "metadata": {},
   "outputs": [
    {
     "data": {
      "text/html": [
       "<div>\n",
       "<style scoped>\n",
       "    .dataframe tbody tr th:only-of-type {\n",
       "        vertical-align: middle;\n",
       "    }\n",
       "\n",
       "    .dataframe tbody tr th {\n",
       "        vertical-align: top;\n",
       "    }\n",
       "\n",
       "    .dataframe thead th {\n",
       "        text-align: right;\n",
       "    }\n",
       "</style>\n",
       "<table border=\"1\" class=\"dataframe\">\n",
       "  <thead>\n",
       "    <tr style=\"text-align: right;\">\n",
       "      <th></th>\n",
       "      <th>A</th>\n",
       "      <th>B</th>\n",
       "    </tr>\n",
       "  </thead>\n",
       "  <tbody>\n",
       "    <tr>\n",
       "      <th>H1</th>\n",
       "      <td>X1</td>\n",
       "      <td>Y1</td>\n",
       "    </tr>\n",
       "    <tr>\n",
       "      <th>H2</th>\n",
       "      <td>X2</td>\n",
       "      <td>Y2</td>\n",
       "    </tr>\n",
       "    <tr>\n",
       "      <th>H3</th>\n",
       "      <td>X3</td>\n",
       "      <td>Y3</td>\n",
       "    </tr>\n",
       "    <tr>\n",
       "      <th>H4</th>\n",
       "      <td>X4</td>\n",
       "      <td>Y4</td>\n",
       "    </tr>\n",
       "  </tbody>\n",
       "</table>\n",
       "</div>"
      ],
      "text/plain": [
       "     A   B\n",
       "H1  X1  Y1\n",
       "H2  X2  Y2\n",
       "H3  X3  Y3\n",
       "H4  X4  Y4"
      ]
     },
     "execution_count": 12,
     "metadata": {},
     "output_type": "execute_result"
    }
   ],
   "source": [
    "test5 = pd.DataFrame({'A':['X1','X2','X3','X4'],\n",
    "    'B':['Y1','Y2','Y3','Y4']}, index = ['H1','H2','H3','H4'])\n",
    "\n",
    "test6 = pd.DataFrame({'C':['X1','X2','X3','X4'],\n",
    "    'D':['Y1','Y2','Y3','Y4']}, index = ['H2','H3','H1','H0'])\n",
    "\n",
    "test5"
   ]
  },
  {
   "cell_type": "code",
   "execution_count": 13,
   "id": "d359c1c8-4349-4c17-9615-9ba87e028c40",
   "metadata": {},
   "outputs": [
    {
     "data": {
      "text/html": [
       "<div>\n",
       "<style scoped>\n",
       "    .dataframe tbody tr th:only-of-type {\n",
       "        vertical-align: middle;\n",
       "    }\n",
       "\n",
       "    .dataframe tbody tr th {\n",
       "        vertical-align: top;\n",
       "    }\n",
       "\n",
       "    .dataframe thead th {\n",
       "        text-align: right;\n",
       "    }\n",
       "</style>\n",
       "<table border=\"1\" class=\"dataframe\">\n",
       "  <thead>\n",
       "    <tr style=\"text-align: right;\">\n",
       "      <th></th>\n",
       "      <th>C</th>\n",
       "      <th>D</th>\n",
       "    </tr>\n",
       "  </thead>\n",
       "  <tbody>\n",
       "    <tr>\n",
       "      <th>H2</th>\n",
       "      <td>X1</td>\n",
       "      <td>Y1</td>\n",
       "    </tr>\n",
       "    <tr>\n",
       "      <th>H3</th>\n",
       "      <td>X2</td>\n",
       "      <td>Y2</td>\n",
       "    </tr>\n",
       "    <tr>\n",
       "      <th>H1</th>\n",
       "      <td>X3</td>\n",
       "      <td>Y3</td>\n",
       "    </tr>\n",
       "    <tr>\n",
       "      <th>H0</th>\n",
       "      <td>X4</td>\n",
       "      <td>Y4</td>\n",
       "    </tr>\n",
       "  </tbody>\n",
       "</table>\n",
       "</div>"
      ],
      "text/plain": [
       "     C   D\n",
       "H2  X1  Y1\n",
       "H3  X2  Y2\n",
       "H1  X3  Y3\n",
       "H0  X4  Y4"
      ]
     },
     "execution_count": 13,
     "metadata": {},
     "output_type": "execute_result"
    }
   ],
   "source": [
    "test6"
   ]
  },
  {
   "cell_type": "code",
   "execution_count": 14,
   "id": "cf73e855-e10e-4e2a-a75c-28e54a6d0fff",
   "metadata": {},
   "outputs": [
    {
     "data": {
      "text/html": [
       "<div>\n",
       "<style scoped>\n",
       "    .dataframe tbody tr th:only-of-type {\n",
       "        vertical-align: middle;\n",
       "    }\n",
       "\n",
       "    .dataframe tbody tr th {\n",
       "        vertical-align: top;\n",
       "    }\n",
       "\n",
       "    .dataframe thead th {\n",
       "        text-align: right;\n",
       "    }\n",
       "</style>\n",
       "<table border=\"1\" class=\"dataframe\">\n",
       "  <thead>\n",
       "    <tr style=\"text-align: right;\">\n",
       "      <th></th>\n",
       "      <th>A</th>\n",
       "      <th>B</th>\n",
       "      <th>C</th>\n",
       "      <th>D</th>\n",
       "    </tr>\n",
       "  </thead>\n",
       "  <tbody>\n",
       "    <tr>\n",
       "      <th>H1</th>\n",
       "      <td>X1</td>\n",
       "      <td>Y1</td>\n",
       "      <td>X3</td>\n",
       "      <td>Y3</td>\n",
       "    </tr>\n",
       "    <tr>\n",
       "      <th>H2</th>\n",
       "      <td>X2</td>\n",
       "      <td>Y2</td>\n",
       "      <td>X1</td>\n",
       "      <td>Y1</td>\n",
       "    </tr>\n",
       "    <tr>\n",
       "      <th>H3</th>\n",
       "      <td>X3</td>\n",
       "      <td>Y3</td>\n",
       "      <td>X2</td>\n",
       "      <td>Y2</td>\n",
       "    </tr>\n",
       "  </tbody>\n",
       "</table>\n",
       "</div>"
      ],
      "text/plain": [
       "     A   B   C   D\n",
       "H1  X1  Y1  X3  Y3\n",
       "H2  X2  Y2  X1  Y1\n",
       "H3  X3  Y3  X2  Y2"
      ]
     },
     "execution_count": 14,
     "metadata": {},
     "output_type": "execute_result"
    }
   ],
   "source": [
    "# To join, the pd.join() function is used as follows:\n",
    "test5.join(test6, how = 'inner')"
   ]
  },
  {
   "cell_type": "code",
   "execution_count": 15,
   "id": "a161e582-aba7-47cd-a64d-8787ffa1f4ce",
   "metadata": {},
   "outputs": [
    {
     "data": {
      "text/html": [
       "<div>\n",
       "<style scoped>\n",
       "    .dataframe tbody tr th:only-of-type {\n",
       "        vertical-align: middle;\n",
       "    }\n",
       "\n",
       "    .dataframe tbody tr th {\n",
       "        vertical-align: top;\n",
       "    }\n",
       "\n",
       "    .dataframe thead th {\n",
       "        text-align: right;\n",
       "    }\n",
       "</style>\n",
       "<table border=\"1\" class=\"dataframe\">\n",
       "  <thead>\n",
       "    <tr style=\"text-align: right;\">\n",
       "      <th></th>\n",
       "      <th>A</th>\n",
       "      <th>B</th>\n",
       "      <th>C</th>\n",
       "      <th>D</th>\n",
       "    </tr>\n",
       "  </thead>\n",
       "  <tbody>\n",
       "    <tr>\n",
       "      <th>H0</th>\n",
       "      <td>NaN</td>\n",
       "      <td>NaN</td>\n",
       "      <td>X4</td>\n",
       "      <td>Y4</td>\n",
       "    </tr>\n",
       "    <tr>\n",
       "      <th>H1</th>\n",
       "      <td>X1</td>\n",
       "      <td>Y1</td>\n",
       "      <td>X3</td>\n",
       "      <td>Y3</td>\n",
       "    </tr>\n",
       "    <tr>\n",
       "      <th>H2</th>\n",
       "      <td>X2</td>\n",
       "      <td>Y2</td>\n",
       "      <td>X1</td>\n",
       "      <td>Y1</td>\n",
       "    </tr>\n",
       "    <tr>\n",
       "      <th>H3</th>\n",
       "      <td>X3</td>\n",
       "      <td>Y3</td>\n",
       "      <td>X2</td>\n",
       "      <td>Y2</td>\n",
       "    </tr>\n",
       "    <tr>\n",
       "      <th>H4</th>\n",
       "      <td>X4</td>\n",
       "      <td>Y4</td>\n",
       "      <td>NaN</td>\n",
       "      <td>NaN</td>\n",
       "    </tr>\n",
       "  </tbody>\n",
       "</table>\n",
       "</div>"
      ],
      "text/plain": [
       "      A    B    C    D\n",
       "H0  NaN  NaN   X4   Y4\n",
       "H1   X1   Y1   X3   Y3\n",
       "H2   X2   Y2   X1   Y1\n",
       "H3   X3   Y3   X2   Y2\n",
       "H4   X4   Y4  NaN  NaN"
      ]
     },
     "execution_count": 15,
     "metadata": {},
     "output_type": "execute_result"
    }
   ],
   "source": [
    "test5.join(test6, how ='outer')"
   ]
  },
  {
   "cell_type": "markdown",
   "id": "7263d648-09bf-4111-8806-bbd794cdac13",
   "metadata": {},
   "source": [
    "# Pandas operation"
   ]
  },
  {
   "cell_type": "code",
   "execution_count": 17,
   "id": "215e9f17-1e4e-4e85-b159-252dbfb2f43e",
   "metadata": {},
   "outputs": [
    {
     "data": {
      "text/html": [
       "<div>\n",
       "<style scoped>\n",
       "    .dataframe tbody tr th:only-of-type {\n",
       "        vertical-align: middle;\n",
       "    }\n",
       "\n",
       "    .dataframe tbody tr th {\n",
       "        vertical-align: top;\n",
       "    }\n",
       "\n",
       "    .dataframe thead th {\n",
       "        text-align: right;\n",
       "    }\n",
       "</style>\n",
       "<table border=\"1\" class=\"dataframe\">\n",
       "  <thead>\n",
       "    <tr style=\"text-align: right;\">\n",
       "      <th></th>\n",
       "      <th>A</th>\n",
       "      <th>B</th>\n",
       "      <th>C</th>\n",
       "    </tr>\n",
       "  </thead>\n",
       "  <tbody>\n",
       "    <tr>\n",
       "      <th>0</th>\n",
       "      <td>24</td>\n",
       "      <td>32</td>\n",
       "      <td>a</td>\n",
       "    </tr>\n",
       "    <tr>\n",
       "      <th>1</th>\n",
       "      <td>21</td>\n",
       "      <td>31</td>\n",
       "      <td>b</td>\n",
       "    </tr>\n",
       "    <tr>\n",
       "      <th>2</th>\n",
       "      <td>74</td>\n",
       "      <td>65</td>\n",
       "      <td>c</td>\n",
       "    </tr>\n",
       "    <tr>\n",
       "      <th>3</th>\n",
       "      <td>21</td>\n",
       "      <td>54</td>\n",
       "      <td>d</td>\n",
       "    </tr>\n",
       "  </tbody>\n",
       "</table>\n",
       "</div>"
      ],
      "text/plain": [
       "    A   B  C\n",
       "0  24  32  a\n",
       "1  21  31  b\n",
       "2  74  65  c\n",
       "3  21  54  d"
      ]
     },
     "execution_count": 17,
     "metadata": {},
     "output_type": "execute_result"
    }
   ],
   "source": [
    "df_ops = pd.DataFrame({'A':[24,21,74,21],\n",
    "    'B':[32,31,65,54], 'C':['a', 'b', 'c', 'd']})\n",
    "\n",
    "df_ops"
   ]
  },
  {
   "cell_type": "code",
   "execution_count": 18,
   "id": "60d4a474-748b-4fb7-972e-3dd46ba43128",
   "metadata": {},
   "outputs": [
    {
     "data": {
      "text/plain": [
       "array([24, 21, 74], dtype=int64)"
      ]
     },
     "execution_count": 18,
     "metadata": {},
     "output_type": "execute_result"
    }
   ],
   "source": [
    "# To obtain a list of unique values, \".unique()\" function can be used as follows:\n",
    "\n",
    "df_ops[\"A\"].unique()"
   ]
  },
  {
   "cell_type": "code",
   "execution_count": 19,
   "id": "b05191e4-285c-4557-95b6-765854a0624e",
   "metadata": {},
   "outputs": [
    {
     "data": {
      "text/plain": [
       "3"
      ]
     },
     "execution_count": 19,
     "metadata": {},
     "output_type": "execute_result"
    }
   ],
   "source": [
    "# To obtain the number of unique values, \".nunique()\" function can be used\n",
    "# instead. This will return the number of elements in a data frame that is unique.\n",
    "\n",
    "df_ops[\"A\"].nunique()"
   ]
  },
  {
   "cell_type": "code",
   "execution_count": 20,
   "id": "f0a7faee-a295-42fc-84ae-28c348b2c849",
   "metadata": {},
   "outputs": [
    {
     "data": {
      "text/plain": [
       "A    3\n",
       "B    4\n",
       "C    4\n",
       "dtype: int64"
      ]
     },
     "execution_count": 20,
     "metadata": {},
     "output_type": "execute_result"
    }
   ],
   "source": [
    "df_ops.nunique()"
   ]
  },
  {
   "cell_type": "code",
   "execution_count": 21,
   "id": "1ab167c6-2f0c-4533-8b64-0b36ad9ebe80",
   "metadata": {},
   "outputs": [
    {
     "data": {
      "text/plain": [
       "A   B   C\n",
       "21  31  b    1\n",
       "    54  d    1\n",
       "24  32  a    1\n",
       "74  65  c    1\n",
       "Name: count, dtype: int64"
      ]
     },
     "execution_count": 21,
     "metadata": {},
     "output_type": "execute_result"
    }
   ],
   "source": [
    "# To obtain the number of times unique values have been repeated in each\n",
    "# column, \".value_counts()\" can be used:\n",
    "\n",
    "df_ops.value_counts()"
   ]
  },
  {
   "cell_type": "code",
   "execution_count": 24,
   "id": "e94d73d4-0332-4fcf-b069-358f588900b7",
   "metadata": {},
   "outputs": [
    {
     "data": {
      "text/plain": [
       "A\n",
       "21    2\n",
       "24    1\n",
       "74    1\n",
       "Name: count, dtype: int64"
      ]
     },
     "execution_count": 24,
     "metadata": {},
     "output_type": "execute_result"
    }
   ],
   "source": [
    "df_ops['A'].value_counts()"
   ]
  },
  {
   "cell_type": "markdown",
   "id": "b1b711dc-bea0-41b0-96e9-f8980cbd1a0a",
   "metadata": {},
   "source": [
    "### To return values with the criteria listed below, the following line of code can be written:\n",
    "* Column A greater or equal to 20\n",
    "* Column B greater or equal to 35\n",
    "* Column C equal to \"c\""
   ]
  },
  {
   "cell_type": "code",
   "execution_count": 25,
   "id": "8d9e6b5f-b1c0-4975-92b9-3f261972e46c",
   "metadata": {},
   "outputs": [
    {
     "data": {
      "text/html": [
       "<div>\n",
       "<style scoped>\n",
       "    .dataframe tbody tr th:only-of-type {\n",
       "        vertical-align: middle;\n",
       "    }\n",
       "\n",
       "    .dataframe tbody tr th {\n",
       "        vertical-align: top;\n",
       "    }\n",
       "\n",
       "    .dataframe thead th {\n",
       "        text-align: right;\n",
       "    }\n",
       "</style>\n",
       "<table border=\"1\" class=\"dataframe\">\n",
       "  <thead>\n",
       "    <tr style=\"text-align: right;\">\n",
       "      <th></th>\n",
       "      <th>A</th>\n",
       "      <th>B</th>\n",
       "      <th>C</th>\n",
       "    </tr>\n",
       "  </thead>\n",
       "  <tbody>\n",
       "    <tr>\n",
       "      <th>2</th>\n",
       "      <td>74</td>\n",
       "      <td>65</td>\n",
       "      <td>c</td>\n",
       "    </tr>\n",
       "  </tbody>\n",
       "</table>\n",
       "</div>"
      ],
      "text/plain": [
       "    A   B  C\n",
       "2  74  65  c"
      ]
     },
     "execution_count": 25,
     "metadata": {},
     "output_type": "execute_result"
    }
   ],
   "source": [
    "df_ops[(df_ops['A'] >= 20) & (df_ops['B'] >= 35) & (df_ops['C'] == 'c')]"
   ]
  },
  {
   "cell_type": "code",
   "execution_count": 26,
   "id": "d239cbb3-933c-4d8a-9d67-f979a341f935",
   "metadata": {},
   "outputs": [
    {
     "data": {
      "text/plain": [
       "0     576\n",
       "1     441\n",
       "2    5476\n",
       "3     441\n",
       "Name: A, dtype: int64"
      ]
     },
     "execution_count": 26,
     "metadata": {},
     "output_type": "execute_result"
    }
   ],
   "source": [
    "def economics(x):\n",
    "    return x**2\n",
    "\n",
    "df_ops['A'].apply(economics)"
   ]
  },
  {
   "cell_type": "code",
   "execution_count": 37,
   "id": "65253960-a2f3-49a5-b1fe-2226799c9664",
   "metadata": {},
   "outputs": [
    {
     "data": {
      "text/plain": [
       "0    0.562500\n",
       "1    0.458897\n",
       "2    1.296095\n",
       "3    0.151235\n",
       "dtype: float64"
      ]
     },
     "execution_count": 37,
     "metadata": {},
     "output_type": "execute_result"
    }
   ],
   "source": [
    "def is_economics(x,y):\n",
    "    return (x**2)/(y**2)\n",
    "\n",
    "is_economics(df_ops['A'],df_ops['B'])\n"
   ]
  },
  {
   "cell_type": "markdown",
   "id": "e8d78726-c560-4eb6-aa73-973deef642c6",
   "metadata": {},
   "source": [
    "# Pandas lambda expressions"
   ]
  },
  {
   "cell_type": "code",
   "execution_count": 38,
   "id": "e8a2e3fb-d9ab-4a6c-a1e6-041c94b9c39f",
   "metadata": {},
   "outputs": [
    {
     "data": {
      "text/plain": [
       "0    128\n",
       "1    124\n",
       "2    260\n",
       "3    216\n",
       "Name: B, dtype: int64"
      ]
     },
     "execution_count": 38,
     "metadata": {},
     "output_type": "execute_result"
    }
   ],
   "source": [
    "df_ops['B'].apply(lambda x: x*4)"
   ]
  },
  {
   "cell_type": "code",
   "execution_count": 39,
   "id": "8ddd12c0-a063-4047-9cbc-d0779e1fb04e",
   "metadata": {},
   "outputs": [
    {
     "data": {
      "text/html": [
       "<div>\n",
       "<style scoped>\n",
       "    .dataframe tbody tr th:only-of-type {\n",
       "        vertical-align: middle;\n",
       "    }\n",
       "\n",
       "    .dataframe tbody tr th {\n",
       "        vertical-align: top;\n",
       "    }\n",
       "\n",
       "    .dataframe thead th {\n",
       "        text-align: right;\n",
       "    }\n",
       "</style>\n",
       "<table border=\"1\" class=\"dataframe\">\n",
       "  <thead>\n",
       "    <tr style=\"text-align: right;\">\n",
       "      <th></th>\n",
       "      <th>A</th>\n",
       "      <th>B</th>\n",
       "      <th>C</th>\n",
       "      <th>D</th>\n",
       "      <th>E</th>\n",
       "      <th>F</th>\n",
       "      <th>G</th>\n",
       "      <th>ALL</th>\n",
       "    </tr>\n",
       "  </thead>\n",
       "  <tbody>\n",
       "    <tr>\n",
       "      <th>0</th>\n",
       "      <td>24</td>\n",
       "      <td>32</td>\n",
       "      <td>a</td>\n",
       "      <td>577</td>\n",
       "      <td>33793</td>\n",
       "      <td>332357</td>\n",
       "      <td>1034</td>\n",
       "      <td>1172</td>\n",
       "    </tr>\n",
       "    <tr>\n",
       "      <th>1</th>\n",
       "      <td>21</td>\n",
       "      <td>31</td>\n",
       "      <td>b</td>\n",
       "      <td>442</td>\n",
       "      <td>30753</td>\n",
       "      <td>194927</td>\n",
       "      <td>971</td>\n",
       "      <td>902</td>\n",
       "    </tr>\n",
       "    <tr>\n",
       "      <th>2</th>\n",
       "      <td>74</td>\n",
       "      <td>65</td>\n",
       "      <td>c</td>\n",
       "      <td>5477</td>\n",
       "      <td>278851</td>\n",
       "      <td>29992057</td>\n",
       "      <td>4235</td>\n",
       "      <td>10972</td>\n",
       "    </tr>\n",
       "    <tr>\n",
       "      <th>3</th>\n",
       "      <td>21</td>\n",
       "      <td>54</td>\n",
       "      <td>d</td>\n",
       "      <td>442</td>\n",
       "      <td>160381</td>\n",
       "      <td>194927</td>\n",
       "      <td>2926</td>\n",
       "      <td>902</td>\n",
       "    </tr>\n",
       "  </tbody>\n",
       "</table>\n",
       "</div>"
      ],
      "text/plain": [
       "    A   B  C     D       E         F     G    ALL\n",
       "0  24  32  a   577   33793    332357  1034   1172\n",
       "1  21  31  b   442   30753    194927   971    902\n",
       "2  74  65  c  5477  278851  29992057  4235  10972\n",
       "3  21  54  d   442  160381    194927  2926    902"
      ]
     },
     "execution_count": 39,
     "metadata": {},
     "output_type": "execute_result"
    }
   ],
   "source": [
    "df_ops['D'] = df_ops['A'].apply(lambda x: x**2 + 1)\n",
    "df_ops['E'] = df_ops['B'].apply(lambda x: x**3 + x**2 + 1)\n",
    "df_ops['F'] = df_ops['A'].apply(lambda x: x**4 + x**2 + 5)\n",
    "df_ops['G'] = df_ops['B'].apply(lambda x: x**2 + 10)\n",
    "df_ops['ALL'] = df_ops['A'].apply(lambda x: x**2 + 10) + df_ops['A']\\\n",
    "    .apply(lambda x: x**2 + 10)\n",
    "\n",
    "df_ops"
   ]
  },
  {
   "cell_type": "code",
   "execution_count": 40,
   "id": "1ce497fd-ce29-4a64-83fe-fc34e1495367",
   "metadata": {},
   "outputs": [
    {
     "data": {
      "text/plain": [
       "Index(['A', 'B', 'C', 'D', 'E', 'F', 'G', 'ALL'], dtype='object')"
      ]
     },
     "execution_count": 40,
     "metadata": {},
     "output_type": "execute_result"
    }
   ],
   "source": [
    "df_ops.columns"
   ]
  },
  {
   "cell_type": "code",
   "execution_count": 41,
   "id": "605282bc-0b2c-49e1-85af-d428986531c7",
   "metadata": {},
   "outputs": [
    {
     "data": {
      "text/html": [
       "<div>\n",
       "<style scoped>\n",
       "    .dataframe tbody tr th:only-of-type {\n",
       "        vertical-align: middle;\n",
       "    }\n",
       "\n",
       "    .dataframe tbody tr th {\n",
       "        vertical-align: top;\n",
       "    }\n",
       "\n",
       "    .dataframe thead th {\n",
       "        text-align: right;\n",
       "    }\n",
       "</style>\n",
       "<table border=\"1\" class=\"dataframe\">\n",
       "  <thead>\n",
       "    <tr style=\"text-align: right;\">\n",
       "      <th></th>\n",
       "      <th>A</th>\n",
       "      <th>B</th>\n",
       "      <th>C</th>\n",
       "      <th>D</th>\n",
       "      <th>E</th>\n",
       "      <th>F</th>\n",
       "      <th>G</th>\n",
       "      <th>ALL</th>\n",
       "    </tr>\n",
       "  </thead>\n",
       "  <tbody>\n",
       "    <tr>\n",
       "      <th>1</th>\n",
       "      <td>21</td>\n",
       "      <td>31</td>\n",
       "      <td>b</td>\n",
       "      <td>442</td>\n",
       "      <td>30753</td>\n",
       "      <td>194927</td>\n",
       "      <td>971</td>\n",
       "      <td>902</td>\n",
       "    </tr>\n",
       "    <tr>\n",
       "      <th>3</th>\n",
       "      <td>21</td>\n",
       "      <td>54</td>\n",
       "      <td>d</td>\n",
       "      <td>442</td>\n",
       "      <td>160381</td>\n",
       "      <td>194927</td>\n",
       "      <td>2926</td>\n",
       "      <td>902</td>\n",
       "    </tr>\n",
       "    <tr>\n",
       "      <th>0</th>\n",
       "      <td>24</td>\n",
       "      <td>32</td>\n",
       "      <td>a</td>\n",
       "      <td>577</td>\n",
       "      <td>33793</td>\n",
       "      <td>332357</td>\n",
       "      <td>1034</td>\n",
       "      <td>1172</td>\n",
       "    </tr>\n",
       "    <tr>\n",
       "      <th>2</th>\n",
       "      <td>74</td>\n",
       "      <td>65</td>\n",
       "      <td>c</td>\n",
       "      <td>5477</td>\n",
       "      <td>278851</td>\n",
       "      <td>29992057</td>\n",
       "      <td>4235</td>\n",
       "      <td>10972</td>\n",
       "    </tr>\n",
       "  </tbody>\n",
       "</table>\n",
       "</div>"
      ],
      "text/plain": [
       "    A   B  C     D       E         F     G    ALL\n",
       "1  21  31  b   442   30753    194927   971    902\n",
       "3  21  54  d   442  160381    194927  2926    902\n",
       "0  24  32  a   577   33793    332357  1034   1172\n",
       "2  74  65  c  5477  278851  29992057  4235  10972"
      ]
     },
     "execution_count": 41,
     "metadata": {},
     "output_type": "execute_result"
    }
   ],
   "source": [
    "# To sort values in ascending or descending order, the following can be performed:\n",
    "\n",
    "df_ops.sort_values('ALL', ascending = True)"
   ]
  },
  {
   "cell_type": "markdown",
   "id": "ca67b2df-160d-447f-9b44-12c1fdd4a075",
   "metadata": {},
   "source": [
    "# Dealing with missing values in pandas\n",
    "Dealing with missing values is another crucial preprocessing step that must be performed to get the data ready for any ML analysis. The main methods for dealing with NA values are as follows:\n",
    "* Dropping NA\n",
    "* Filling NA with basic mathematical functions\n",
    "* Using various algorithms that will be discussed in the supervised learning chapter of this book"
   ]
  },
  {
   "cell_type": "code",
   "execution_count": 42,
   "id": "c213ab6f-81a5-4de0-9a78-a725f6cc13bf",
   "metadata": {},
   "outputs": [
    {
     "data": {
      "text/html": [
       "<div>\n",
       "<style scoped>\n",
       "    .dataframe tbody tr th:only-of-type {\n",
       "        vertical-align: middle;\n",
       "    }\n",
       "\n",
       "    .dataframe tbody tr th {\n",
       "        vertical-align: top;\n",
       "    }\n",
       "\n",
       "    .dataframe thead th {\n",
       "        text-align: right;\n",
       "    }\n",
       "</style>\n",
       "<table border=\"1\" class=\"dataframe\">\n",
       "  <thead>\n",
       "    <tr style=\"text-align: right;\">\n",
       "      <th></th>\n",
       "      <th>A</th>\n",
       "      <th>B</th>\n",
       "      <th>C</th>\n",
       "    </tr>\n",
       "  </thead>\n",
       "  <tbody>\n",
       "    <tr>\n",
       "      <th>0</th>\n",
       "      <td>1.0</td>\n",
       "      <td>1.0</td>\n",
       "      <td>1.0</td>\n",
       "    </tr>\n",
       "    <tr>\n",
       "      <th>1</th>\n",
       "      <td>20.0</td>\n",
       "      <td>20.0</td>\n",
       "      <td>30.0</td>\n",
       "    </tr>\n",
       "    <tr>\n",
       "      <th>2</th>\n",
       "      <td>31.0</td>\n",
       "      <td>NaN</td>\n",
       "      <td>68.0</td>\n",
       "    </tr>\n",
       "    <tr>\n",
       "      <th>3</th>\n",
       "      <td>43.0</td>\n",
       "      <td>43.0</td>\n",
       "      <td>43.0</td>\n",
       "    </tr>\n",
       "    <tr>\n",
       "      <th>4</th>\n",
       "      <td>59.0</td>\n",
       "      <td>52.0</td>\n",
       "      <td>NaN</td>\n",
       "    </tr>\n",
       "    <tr>\n",
       "      <th>5</th>\n",
       "      <td>NaN</td>\n",
       "      <td>32.0</td>\n",
       "      <td>32.0</td>\n",
       "    </tr>\n",
       "    <tr>\n",
       "      <th>6</th>\n",
       "      <td>6.0</td>\n",
       "      <td>6.0</td>\n",
       "      <td>6.0</td>\n",
       "    </tr>\n",
       "    <tr>\n",
       "      <th>7</th>\n",
       "      <td>4.0</td>\n",
       "      <td>9.0</td>\n",
       "      <td>4.0</td>\n",
       "    </tr>\n",
       "    <tr>\n",
       "      <th>8</th>\n",
       "      <td>5.0</td>\n",
       "      <td>5.0</td>\n",
       "      <td>NaN</td>\n",
       "    </tr>\n",
       "    <tr>\n",
       "      <th>9</th>\n",
       "      <td>2.0</td>\n",
       "      <td>2.0</td>\n",
       "      <td>2.0</td>\n",
       "    </tr>\n",
       "    <tr>\n",
       "      <th>10</th>\n",
       "      <td>5.0</td>\n",
       "      <td>90.0</td>\n",
       "      <td>5.0</td>\n",
       "    </tr>\n",
       "    <tr>\n",
       "      <th>11</th>\n",
       "      <td>6.0</td>\n",
       "      <td>6.0</td>\n",
       "      <td>6.0</td>\n",
       "    </tr>\n",
       "    <tr>\n",
       "      <th>12</th>\n",
       "      <td>7.0</td>\n",
       "      <td>NaN</td>\n",
       "      <td>888.0</td>\n",
       "    </tr>\n",
       "    <tr>\n",
       "      <th>13</th>\n",
       "      <td>3.0</td>\n",
       "      <td>3.0</td>\n",
       "      <td>3.0</td>\n",
       "    </tr>\n",
       "    <tr>\n",
       "      <th>14</th>\n",
       "      <td>NaN</td>\n",
       "      <td>100.0</td>\n",
       "      <td>100.0</td>\n",
       "    </tr>\n",
       "  </tbody>\n",
       "</table>\n",
       "</div>"
      ],
      "text/plain": [
       "       A      B      C\n",
       "0    1.0    1.0    1.0\n",
       "1   20.0   20.0   30.0\n",
       "2   31.0    NaN   68.0\n",
       "3   43.0   43.0   43.0\n",
       "4   59.0   52.0    NaN\n",
       "5    NaN   32.0   32.0\n",
       "6    6.0    6.0    6.0\n",
       "7    4.0    9.0    4.0\n",
       "8    5.0    5.0    NaN\n",
       "9    2.0    2.0    2.0\n",
       "10   5.0   90.0    5.0\n",
       "11   6.0    6.0    6.0\n",
       "12   7.0    NaN  888.0\n",
       "13   3.0    3.0    3.0\n",
       "14   NaN  100.0  100.0"
      ]
     },
     "execution_count": 42,
     "metadata": {},
     "output_type": "execute_result"
    }
   ],
   "source": [
    "import pandas as pd\n",
    "import numpy as np\n",
    "df_missing\\\n",
    "= pd.DataFrame({'A':[1,20,31,43,59,np.nan,6,4,5,2,5,6,7,3,np.nan],\n",
    "    'B':[1,20,np.nan,43,52,32,6,9,5,2,90,6,np.nan,3,100],\n",
    "    'C':[1,30,68,43,np.nan,32,6,4,np.nan,2,5,6,888,3,100]})\n",
    "\n",
    "df_missing"
   ]
  },
  {
   "cell_type": "code",
   "execution_count": 43,
   "id": "8bcf52f5-24dd-462f-828e-28756bc309ac",
   "metadata": {},
   "outputs": [
    {
     "data": {
      "text/html": [
       "<div>\n",
       "<style scoped>\n",
       "    .dataframe tbody tr th:only-of-type {\n",
       "        vertical-align: middle;\n",
       "    }\n",
       "\n",
       "    .dataframe tbody tr th {\n",
       "        vertical-align: top;\n",
       "    }\n",
       "\n",
       "    .dataframe thead th {\n",
       "        text-align: right;\n",
       "    }\n",
       "</style>\n",
       "<table border=\"1\" class=\"dataframe\">\n",
       "  <thead>\n",
       "    <tr style=\"text-align: right;\">\n",
       "      <th></th>\n",
       "      <th>A</th>\n",
       "      <th>B</th>\n",
       "      <th>C</th>\n",
       "    </tr>\n",
       "  </thead>\n",
       "  <tbody>\n",
       "    <tr>\n",
       "      <th>0</th>\n",
       "      <td>1.0</td>\n",
       "      <td>1.0</td>\n",
       "      <td>1.0</td>\n",
       "    </tr>\n",
       "    <tr>\n",
       "      <th>1</th>\n",
       "      <td>20.0</td>\n",
       "      <td>20.0</td>\n",
       "      <td>30.0</td>\n",
       "    </tr>\n",
       "    <tr>\n",
       "      <th>2</th>\n",
       "      <td>31.0</td>\n",
       "      <td>NaN</td>\n",
       "      <td>68.0</td>\n",
       "    </tr>\n",
       "    <tr>\n",
       "      <th>3</th>\n",
       "      <td>43.0</td>\n",
       "      <td>43.0</td>\n",
       "      <td>43.0</td>\n",
       "    </tr>\n",
       "    <tr>\n",
       "      <th>4</th>\n",
       "      <td>59.0</td>\n",
       "      <td>52.0</td>\n",
       "      <td>NaN</td>\n",
       "    </tr>\n",
       "  </tbody>\n",
       "</table>\n",
       "</div>"
      ],
      "text/plain": [
       "      A     B     C\n",
       "0   1.0   1.0   1.0\n",
       "1  20.0  20.0  30.0\n",
       "2  31.0   NaN  68.0\n",
       "3  43.0  43.0  43.0\n",
       "4  59.0  52.0   NaN"
      ]
     },
     "execution_count": 43,
     "metadata": {},
     "output_type": "execute_result"
    }
   ],
   "source": [
    "df_missing.head(5)"
   ]
  },
  {
   "cell_type": "code",
   "execution_count": 44,
   "id": "f49acd88-580f-4b89-85a0-9f7b1b5986d4",
   "metadata": {},
   "outputs": [
    {
     "data": {
      "text/html": [
       "<div>\n",
       "<style scoped>\n",
       "    .dataframe tbody tr th:only-of-type {\n",
       "        vertical-align: middle;\n",
       "    }\n",
       "\n",
       "    .dataframe tbody tr th {\n",
       "        vertical-align: top;\n",
       "    }\n",
       "\n",
       "    .dataframe thead th {\n",
       "        text-align: right;\n",
       "    }\n",
       "</style>\n",
       "<table border=\"1\" class=\"dataframe\">\n",
       "  <thead>\n",
       "    <tr style=\"text-align: right;\">\n",
       "      <th></th>\n",
       "      <th>A</th>\n",
       "      <th>B</th>\n",
       "      <th>C</th>\n",
       "    </tr>\n",
       "  </thead>\n",
       "  <tbody>\n",
       "    <tr>\n",
       "      <th>0</th>\n",
       "      <td>1.0</td>\n",
       "      <td>1.0</td>\n",
       "      <td>1.0</td>\n",
       "    </tr>\n",
       "    <tr>\n",
       "      <th>1</th>\n",
       "      <td>20.0</td>\n",
       "      <td>20.0</td>\n",
       "      <td>30.0</td>\n",
       "    </tr>\n",
       "    <tr>\n",
       "      <th>3</th>\n",
       "      <td>43.0</td>\n",
       "      <td>43.0</td>\n",
       "      <td>43.0</td>\n",
       "    </tr>\n",
       "    <tr>\n",
       "      <th>6</th>\n",
       "      <td>6.0</td>\n",
       "      <td>6.0</td>\n",
       "      <td>6.0</td>\n",
       "    </tr>\n",
       "    <tr>\n",
       "      <th>7</th>\n",
       "      <td>4.0</td>\n",
       "      <td>9.0</td>\n",
       "      <td>4.0</td>\n",
       "    </tr>\n",
       "    <tr>\n",
       "      <th>9</th>\n",
       "      <td>2.0</td>\n",
       "      <td>2.0</td>\n",
       "      <td>2.0</td>\n",
       "    </tr>\n",
       "    <tr>\n",
       "      <th>10</th>\n",
       "      <td>5.0</td>\n",
       "      <td>90.0</td>\n",
       "      <td>5.0</td>\n",
       "    </tr>\n",
       "    <tr>\n",
       "      <th>11</th>\n",
       "      <td>6.0</td>\n",
       "      <td>6.0</td>\n",
       "      <td>6.0</td>\n",
       "    </tr>\n",
       "    <tr>\n",
       "      <th>13</th>\n",
       "      <td>3.0</td>\n",
       "      <td>3.0</td>\n",
       "      <td>3.0</td>\n",
       "    </tr>\n",
       "  </tbody>\n",
       "</table>\n",
       "</div>"
      ],
      "text/plain": [
       "       A     B     C\n",
       "0    1.0   1.0   1.0\n",
       "1   20.0  20.0  30.0\n",
       "3   43.0  43.0  43.0\n",
       "6    6.0   6.0   6.0\n",
       "7    4.0   9.0   4.0\n",
       "9    2.0   2.0   2.0\n",
       "10   5.0  90.0   5.0\n",
       "11   6.0   6.0   6.0\n",
       "13   3.0   3.0   3.0"
      ]
     },
     "execution_count": 44,
     "metadata": {},
     "output_type": "execute_result"
    }
   ],
   "source": [
    "# To drop rows with missing value, \".dropna()\" can be applied:\n",
    "\n",
    "df_missing.dropna()"
   ]
  },
  {
   "cell_type": "code",
   "execution_count": 48,
   "id": "64cf3d58-52bf-4fae-a4bd-c97affb064fe",
   "metadata": {},
   "outputs": [
    {
     "data": {
      "text/html": [
       "<div>\n",
       "<style scoped>\n",
       "    .dataframe tbody tr th:only-of-type {\n",
       "        vertical-align: middle;\n",
       "    }\n",
       "\n",
       "    .dataframe tbody tr th {\n",
       "        vertical-align: top;\n",
       "    }\n",
       "\n",
       "    .dataframe thead th {\n",
       "        text-align: right;\n",
       "    }\n",
       "</style>\n",
       "<table border=\"1\" class=\"dataframe\">\n",
       "  <thead>\n",
       "    <tr style=\"text-align: right;\">\n",
       "      <th></th>\n",
       "      <th>A</th>\n",
       "      <th>B</th>\n",
       "      <th>C</th>\n",
       "    </tr>\n",
       "  </thead>\n",
       "  <tbody>\n",
       "    <tr>\n",
       "      <th>0</th>\n",
       "      <td>1.0</td>\n",
       "      <td>1.0</td>\n",
       "      <td>1.0</td>\n",
       "    </tr>\n",
       "    <tr>\n",
       "      <th>1</th>\n",
       "      <td>20.0</td>\n",
       "      <td>20.0</td>\n",
       "      <td>30.0</td>\n",
       "    </tr>\n",
       "    <tr>\n",
       "      <th>3</th>\n",
       "      <td>43.0</td>\n",
       "      <td>43.0</td>\n",
       "      <td>43.0</td>\n",
       "    </tr>\n",
       "    <tr>\n",
       "      <th>6</th>\n",
       "      <td>6.0</td>\n",
       "      <td>6.0</td>\n",
       "      <td>6.0</td>\n",
       "    </tr>\n",
       "    <tr>\n",
       "      <th>7</th>\n",
       "      <td>4.0</td>\n",
       "      <td>9.0</td>\n",
       "      <td>4.0</td>\n",
       "    </tr>\n",
       "    <tr>\n",
       "      <th>9</th>\n",
       "      <td>2.0</td>\n",
       "      <td>2.0</td>\n",
       "      <td>2.0</td>\n",
       "    </tr>\n",
       "    <tr>\n",
       "      <th>10</th>\n",
       "      <td>5.0</td>\n",
       "      <td>90.0</td>\n",
       "      <td>5.0</td>\n",
       "    </tr>\n",
       "    <tr>\n",
       "      <th>11</th>\n",
       "      <td>6.0</td>\n",
       "      <td>6.0</td>\n",
       "      <td>6.0</td>\n",
       "    </tr>\n",
       "    <tr>\n",
       "      <th>13</th>\n",
       "      <td>3.0</td>\n",
       "      <td>3.0</td>\n",
       "      <td>3.0</td>\n",
       "    </tr>\n",
       "  </tbody>\n",
       "</table>\n",
       "</div>"
      ],
      "text/plain": [
       "       A     B     C\n",
       "0    1.0   1.0   1.0\n",
       "1   20.0  20.0  30.0\n",
       "3   43.0  43.0  43.0\n",
       "6    6.0   6.0   6.0\n",
       "7    4.0   9.0   4.0\n",
       "9    2.0   2.0   2.0\n",
       "10   5.0  90.0   5.0\n",
       "11   6.0   6.0   6.0\n",
       "13   3.0   3.0   3.0"
      ]
     },
     "execution_count": 48,
     "metadata": {},
     "output_type": "execute_result"
    }
   ],
   "source": [
    "df_missing.dropna(how = 'any')"
   ]
  },
  {
   "cell_type": "code",
   "execution_count": 51,
   "id": "e302a27a-c41c-4b54-aeff-96d5a87233eb",
   "metadata": {},
   "outputs": [
    {
     "data": {
      "text/html": [
       "<div>\n",
       "<style scoped>\n",
       "    .dataframe tbody tr th:only-of-type {\n",
       "        vertical-align: middle;\n",
       "    }\n",
       "\n",
       "    .dataframe tbody tr th {\n",
       "        vertical-align: top;\n",
       "    }\n",
       "\n",
       "    .dataframe thead th {\n",
       "        text-align: right;\n",
       "    }\n",
       "</style>\n",
       "<table border=\"1\" class=\"dataframe\">\n",
       "  <thead>\n",
       "    <tr style=\"text-align: right;\">\n",
       "      <th></th>\n",
       "      <th>A</th>\n",
       "      <th>B</th>\n",
       "      <th>C</th>\n",
       "    </tr>\n",
       "  </thead>\n",
       "  <tbody>\n",
       "    <tr>\n",
       "      <th>0</th>\n",
       "      <td>1.0</td>\n",
       "      <td>1.0</td>\n",
       "      <td>1.0</td>\n",
       "    </tr>\n",
       "    <tr>\n",
       "      <th>1</th>\n",
       "      <td>20.0</td>\n",
       "      <td>20.0</td>\n",
       "      <td>30.0</td>\n",
       "    </tr>\n",
       "    <tr>\n",
       "      <th>2</th>\n",
       "      <td>31.0</td>\n",
       "      <td>NaN</td>\n",
       "      <td>68.0</td>\n",
       "    </tr>\n",
       "    <tr>\n",
       "      <th>3</th>\n",
       "      <td>43.0</td>\n",
       "      <td>43.0</td>\n",
       "      <td>43.0</td>\n",
       "    </tr>\n",
       "    <tr>\n",
       "      <th>4</th>\n",
       "      <td>59.0</td>\n",
       "      <td>52.0</td>\n",
       "      <td>NaN</td>\n",
       "    </tr>\n",
       "    <tr>\n",
       "      <th>5</th>\n",
       "      <td>NaN</td>\n",
       "      <td>32.0</td>\n",
       "      <td>32.0</td>\n",
       "    </tr>\n",
       "    <tr>\n",
       "      <th>6</th>\n",
       "      <td>6.0</td>\n",
       "      <td>6.0</td>\n",
       "      <td>6.0</td>\n",
       "    </tr>\n",
       "    <tr>\n",
       "      <th>7</th>\n",
       "      <td>4.0</td>\n",
       "      <td>9.0</td>\n",
       "      <td>4.0</td>\n",
       "    </tr>\n",
       "    <tr>\n",
       "      <th>8</th>\n",
       "      <td>5.0</td>\n",
       "      <td>5.0</td>\n",
       "      <td>NaN</td>\n",
       "    </tr>\n",
       "    <tr>\n",
       "      <th>9</th>\n",
       "      <td>2.0</td>\n",
       "      <td>2.0</td>\n",
       "      <td>2.0</td>\n",
       "    </tr>\n",
       "    <tr>\n",
       "      <th>10</th>\n",
       "      <td>5.0</td>\n",
       "      <td>90.0</td>\n",
       "      <td>5.0</td>\n",
       "    </tr>\n",
       "    <tr>\n",
       "      <th>11</th>\n",
       "      <td>6.0</td>\n",
       "      <td>6.0</td>\n",
       "      <td>6.0</td>\n",
       "    </tr>\n",
       "    <tr>\n",
       "      <th>12</th>\n",
       "      <td>7.0</td>\n",
       "      <td>NaN</td>\n",
       "      <td>888.0</td>\n",
       "    </tr>\n",
       "    <tr>\n",
       "      <th>13</th>\n",
       "      <td>3.0</td>\n",
       "      <td>3.0</td>\n",
       "      <td>3.0</td>\n",
       "    </tr>\n",
       "    <tr>\n",
       "      <th>14</th>\n",
       "      <td>NaN</td>\n",
       "      <td>100.0</td>\n",
       "      <td>100.0</td>\n",
       "    </tr>\n",
       "  </tbody>\n",
       "</table>\n",
       "</div>"
      ],
      "text/plain": [
       "       A      B      C\n",
       "0    1.0    1.0    1.0\n",
       "1   20.0   20.0   30.0\n",
       "2   31.0    NaN   68.0\n",
       "3   43.0   43.0   43.0\n",
       "4   59.0   52.0    NaN\n",
       "5    NaN   32.0   32.0\n",
       "6    6.0    6.0    6.0\n",
       "7    4.0    9.0    4.0\n",
       "8    5.0    5.0    NaN\n",
       "9    2.0    2.0    2.0\n",
       "10   5.0   90.0    5.0\n",
       "11   6.0    6.0    6.0\n",
       "12   7.0    NaN  888.0\n",
       "13   3.0    3.0    3.0\n",
       "14   NaN  100.0  100.0"
      ]
     },
     "execution_count": 51,
     "metadata": {},
     "output_type": "execute_result"
    }
   ],
   "source": [
    "# If it is desired to drop NA values when all columns have missing values, \"how = 'all'\" can be used instead\n",
    "\n",
    "df_missing.dropna(how = 'all', axis = 1)"
   ]
  },
  {
   "cell_type": "code",
   "execution_count": 53,
   "id": "89b5ad85-a261-4231-97f8-15f349195760",
   "metadata": {},
   "outputs": [
    {
     "data": {
      "text/html": [
       "<div>\n",
       "<style scoped>\n",
       "    .dataframe tbody tr th:only-of-type {\n",
       "        vertical-align: middle;\n",
       "    }\n",
       "\n",
       "    .dataframe tbody tr th {\n",
       "        vertical-align: top;\n",
       "    }\n",
       "\n",
       "    .dataframe thead th {\n",
       "        text-align: right;\n",
       "    }\n",
       "</style>\n",
       "<table border=\"1\" class=\"dataframe\">\n",
       "  <thead>\n",
       "    <tr style=\"text-align: right;\">\n",
       "      <th></th>\n",
       "    </tr>\n",
       "  </thead>\n",
       "  <tbody>\n",
       "    <tr>\n",
       "      <th>0</th>\n",
       "    </tr>\n",
       "    <tr>\n",
       "      <th>1</th>\n",
       "    </tr>\n",
       "    <tr>\n",
       "      <th>2</th>\n",
       "    </tr>\n",
       "    <tr>\n",
       "      <th>3</th>\n",
       "    </tr>\n",
       "    <tr>\n",
       "      <th>4</th>\n",
       "    </tr>\n",
       "    <tr>\n",
       "      <th>5</th>\n",
       "    </tr>\n",
       "    <tr>\n",
       "      <th>6</th>\n",
       "    </tr>\n",
       "    <tr>\n",
       "      <th>7</th>\n",
       "    </tr>\n",
       "    <tr>\n",
       "      <th>8</th>\n",
       "    </tr>\n",
       "    <tr>\n",
       "      <th>9</th>\n",
       "    </tr>\n",
       "    <tr>\n",
       "      <th>10</th>\n",
       "    </tr>\n",
       "    <tr>\n",
       "      <th>11</th>\n",
       "    </tr>\n",
       "    <tr>\n",
       "      <th>12</th>\n",
       "    </tr>\n",
       "    <tr>\n",
       "      <th>13</th>\n",
       "    </tr>\n",
       "    <tr>\n",
       "      <th>14</th>\n",
       "    </tr>\n",
       "  </tbody>\n",
       "</table>\n",
       "</div>"
      ],
      "text/plain": [
       "Empty DataFrame\n",
       "Columns: []\n",
       "Index: [0, 1, 2, 3, 4, 5, 6, 7, 8, 9, 10, 11, 12, 13, 14]"
      ]
     },
     "execution_count": 53,
     "metadata": {},
     "output_type": "execute_result"
    }
   ],
   "source": [
    "# In addition, to drop columns with missing values as opposed to rows,\n",
    "# use \"axis = 1\" inside the parenthesis of the dropna function\n",
    "\n",
    "df_missing.dropna(how = 'any', axis = 1)"
   ]
  },
  {
   "cell_type": "markdown",
   "id": "5beffd07-be6c-4444-866e-fe6de4c15bb7",
   "metadata": {},
   "source": [
    "# Filling NAs\n",
    "* The next useful function is referred to as \".fillna()\" to fill in the missing data with numeric values or strings."
   ]
  },
  {
   "cell_type": "code",
   "execution_count": 54,
   "id": "0883350d-0274-4624-ab1f-e637bd6bf09e",
   "metadata": {},
   "outputs": [
    {
     "data": {
      "text/html": [
       "<div>\n",
       "<style scoped>\n",
       "    .dataframe tbody tr th:only-of-type {\n",
       "        vertical-align: middle;\n",
       "    }\n",
       "\n",
       "    .dataframe tbody tr th {\n",
       "        vertical-align: top;\n",
       "    }\n",
       "\n",
       "    .dataframe thead th {\n",
       "        text-align: right;\n",
       "    }\n",
       "</style>\n",
       "<table border=\"1\" class=\"dataframe\">\n",
       "  <thead>\n",
       "    <tr style=\"text-align: right;\">\n",
       "      <th></th>\n",
       "      <th>A</th>\n",
       "      <th>B</th>\n",
       "      <th>C</th>\n",
       "    </tr>\n",
       "  </thead>\n",
       "  <tbody>\n",
       "    <tr>\n",
       "      <th>0</th>\n",
       "      <td>43.0</td>\n",
       "      <td>1.0</td>\n",
       "      <td>NaN</td>\n",
       "    </tr>\n",
       "    <tr>\n",
       "      <th>1</th>\n",
       "      <td>59.0</td>\n",
       "      <td>20.0</td>\n",
       "      <td>32.0</td>\n",
       "    </tr>\n",
       "    <tr>\n",
       "      <th>2</th>\n",
       "      <td>NaN</td>\n",
       "      <td>NaN</td>\n",
       "      <td>6.0</td>\n",
       "    </tr>\n",
       "    <tr>\n",
       "      <th>3</th>\n",
       "      <td>6.0</td>\n",
       "      <td>43.0</td>\n",
       "      <td>4.0</td>\n",
       "    </tr>\n",
       "    <tr>\n",
       "      <th>4</th>\n",
       "      <td>3.0</td>\n",
       "      <td>NaN</td>\n",
       "      <td>NaN</td>\n",
       "    </tr>\n",
       "    <tr>\n",
       "      <th>5</th>\n",
       "      <td>NaN</td>\n",
       "      <td>32.0</td>\n",
       "      <td>2.0</td>\n",
       "    </tr>\n",
       "  </tbody>\n",
       "</table>\n",
       "</div>"
      ],
      "text/plain": [
       "      A     B     C\n",
       "0  43.0   1.0   NaN\n",
       "1  59.0  20.0  32.0\n",
       "2   NaN   NaN   6.0\n",
       "3   6.0  43.0   4.0\n",
       "4   3.0   NaN   NaN\n",
       "5   NaN  32.0   2.0"
      ]
     },
     "execution_count": 54,
     "metadata": {},
     "output_type": "execute_result"
    }
   ],
   "source": [
    "import numpy as np\n",
    "df_filling = pd.DataFrame({'A': [43, 59, np.nan, 6, 3, np.nan],\n",
    "       'B':[1, 20, np.nan, 43, np.nan, 32], 'C':[np.nan, 32, 6, 4, np.nan, 2]})\n",
    "\n",
    "df_filling"
   ]
  },
  {
   "cell_type": "code",
   "execution_count": 55,
   "id": "9b16de15-cedc-4c0d-9722-4d9bc378a894",
   "metadata": {},
   "outputs": [
    {
     "name": "stderr",
     "output_type": "stream",
     "text": [
      "C:\\Users\\Emmanuel Nkrumah\\AppData\\Local\\Temp\\ipykernel_15344\\152293841.py:3: FutureWarning: Setting an item of incompatible dtype is deprecated and will raise in a future error of pandas. Value 'Hydraulic Fracturing' has dtype incompatible with float64, please explicitly cast to a compatible dtype first.\n",
      "  df_filling.fillna(value = 'Hydraulic Fracturing', inplace = True)\n"
     ]
    },
    {
     "data": {
      "text/html": [
       "<div>\n",
       "<style scoped>\n",
       "    .dataframe tbody tr th:only-of-type {\n",
       "        vertical-align: middle;\n",
       "    }\n",
       "\n",
       "    .dataframe tbody tr th {\n",
       "        vertical-align: top;\n",
       "    }\n",
       "\n",
       "    .dataframe thead th {\n",
       "        text-align: right;\n",
       "    }\n",
       "</style>\n",
       "<table border=\"1\" class=\"dataframe\">\n",
       "  <thead>\n",
       "    <tr style=\"text-align: right;\">\n",
       "      <th></th>\n",
       "      <th>A</th>\n",
       "      <th>B</th>\n",
       "      <th>C</th>\n",
       "    </tr>\n",
       "  </thead>\n",
       "  <tbody>\n",
       "    <tr>\n",
       "      <th>0</th>\n",
       "      <td>43.0</td>\n",
       "      <td>1.0</td>\n",
       "      <td>Hydraulic Fracturing</td>\n",
       "    </tr>\n",
       "    <tr>\n",
       "      <th>1</th>\n",
       "      <td>59.0</td>\n",
       "      <td>20.0</td>\n",
       "      <td>32.0</td>\n",
       "    </tr>\n",
       "    <tr>\n",
       "      <th>2</th>\n",
       "      <td>Hydraulic Fracturing</td>\n",
       "      <td>Hydraulic Fracturing</td>\n",
       "      <td>6.0</td>\n",
       "    </tr>\n",
       "    <tr>\n",
       "      <th>3</th>\n",
       "      <td>6.0</td>\n",
       "      <td>43.0</td>\n",
       "      <td>4.0</td>\n",
       "    </tr>\n",
       "    <tr>\n",
       "      <th>4</th>\n",
       "      <td>3.0</td>\n",
       "      <td>Hydraulic Fracturing</td>\n",
       "      <td>Hydraulic Fracturing</td>\n",
       "    </tr>\n",
       "    <tr>\n",
       "      <th>5</th>\n",
       "      <td>Hydraulic Fracturing</td>\n",
       "      <td>32.0</td>\n",
       "      <td>2.0</td>\n",
       "    </tr>\n",
       "  </tbody>\n",
       "</table>\n",
       "</div>"
      ],
      "text/plain": [
       "                      A                     B                     C\n",
       "0                  43.0                   1.0  Hydraulic Fracturing\n",
       "1                  59.0                  20.0                  32.0\n",
       "2  Hydraulic Fracturing  Hydraulic Fracturing                   6.0\n",
       "3                   6.0                  43.0                   4.0\n",
       "4                   3.0  Hydraulic Fracturing  Hydraulic Fracturing\n",
       "5  Hydraulic Fracturing                  32.0                   2.0"
      ]
     },
     "execution_count": 55,
     "metadata": {},
     "output_type": "execute_result"
    }
   ],
   "source": [
    "# To fill in the missing values permanently with \"Hydraulic Fracturing,\" the following line of code is entered:\n",
    "\n",
    "df_filling.fillna(value = 'Hydraulic Fracturing', inplace = True)\n",
    "df_filling"
   ]
  },
  {
   "cell_type": "markdown",
   "id": "a50751c7-1dc4-413e-b950-2cc487d83ff3",
   "metadata": {},
   "source": [
    "* To fill in the missing values with some statistical aggregate functions, let’s\n",
    "import the same data frame and apply the mean of each column in lieu of\n",
    "missing values as follows:"
   ]
  },
  {
   "cell_type": "code",
   "execution_count": 57,
   "id": "e48a261e-c89a-4ff0-abc7-5cea6cc71587",
   "metadata": {},
   "outputs": [
    {
     "data": {
      "text/html": [
       "<div>\n",
       "<style scoped>\n",
       "    .dataframe tbody tr th:only-of-type {\n",
       "        vertical-align: middle;\n",
       "    }\n",
       "\n",
       "    .dataframe tbody tr th {\n",
       "        vertical-align: top;\n",
       "    }\n",
       "\n",
       "    .dataframe thead th {\n",
       "        text-align: right;\n",
       "    }\n",
       "</style>\n",
       "<table border=\"1\" class=\"dataframe\">\n",
       "  <thead>\n",
       "    <tr style=\"text-align: right;\">\n",
       "      <th></th>\n",
       "      <th>A</th>\n",
       "      <th>B</th>\n",
       "      <th>C</th>\n",
       "    </tr>\n",
       "  </thead>\n",
       "  <tbody>\n",
       "    <tr>\n",
       "      <th>0</th>\n",
       "      <td>43.00</td>\n",
       "      <td>1.0</td>\n",
       "      <td>11.0</td>\n",
       "    </tr>\n",
       "    <tr>\n",
       "      <th>1</th>\n",
       "      <td>59.00</td>\n",
       "      <td>20.0</td>\n",
       "      <td>32.0</td>\n",
       "    </tr>\n",
       "    <tr>\n",
       "      <th>2</th>\n",
       "      <td>27.75</td>\n",
       "      <td>24.0</td>\n",
       "      <td>6.0</td>\n",
       "    </tr>\n",
       "    <tr>\n",
       "      <th>3</th>\n",
       "      <td>6.00</td>\n",
       "      <td>43.0</td>\n",
       "      <td>4.0</td>\n",
       "    </tr>\n",
       "    <tr>\n",
       "      <th>4</th>\n",
       "      <td>3.00</td>\n",
       "      <td>24.0</td>\n",
       "      <td>11.0</td>\n",
       "    </tr>\n",
       "    <tr>\n",
       "      <th>5</th>\n",
       "      <td>27.75</td>\n",
       "      <td>32.0</td>\n",
       "      <td>2.0</td>\n",
       "    </tr>\n",
       "  </tbody>\n",
       "</table>\n",
       "</div>"
      ],
      "text/plain": [
       "       A     B     C\n",
       "0  43.00   1.0  11.0\n",
       "1  59.00  20.0  32.0\n",
       "2  27.75  24.0   6.0\n",
       "3   6.00  43.0   4.0\n",
       "4   3.00  24.0  11.0\n",
       "5  27.75  32.0   2.0"
      ]
     },
     "execution_count": 57,
     "metadata": {},
     "output_type": "execute_result"
    }
   ],
   "source": [
    "df_filling_1 = pd.DataFrame({'A': [43, 59, np.nan, 6, 3, np.nan],\n",
    "       'B':[1, 20, np.nan, 43, np.nan, 32], 'C':[np.nan, 32, 6, 4, np.nan, 2]})\n",
    "\n",
    "df_filling_1.fillna(value = df_filling_1.mean(), inplace = True)\n",
    "\n",
    "df_filling_1"
   ]
  },
  {
   "cell_type": "markdown",
   "id": "faaa7e1e-968d-4450-b47d-1f6d735b0807",
   "metadata": {},
   "source": [
    "* Other statistical functions such as standard deviation (.std()), median (.median()), variance (.var()), skewness (.skew()), kurtosis (.kurt()), minimum (.min()), maximum (.max()), count (.count()), etc., could also be applied (this is not to recommend using these statistical measures to fill in the missing values but to illustrate the availability of these options).\n",
    "* Other convenient functions such as \"ffill\" and \"bfill\" can be used to fill in\n",
    "the missing values as follows:\n",
    " - ffill = will place the last valid observation forward to fill in the next\n",
    "observation\n",
    " - bfill = uses the next valid observation to fill in the previous value"
   ]
  },
  {
   "cell_type": "code",
   "execution_count": 59,
   "id": "cfda8be4-565d-40da-93f4-9b7b2fe34e0d",
   "metadata": {},
   "outputs": [
    {
     "data": {
      "text/html": [
       "<div>\n",
       "<style scoped>\n",
       "    .dataframe tbody tr th:only-of-type {\n",
       "        vertical-align: middle;\n",
       "    }\n",
       "\n",
       "    .dataframe tbody tr th {\n",
       "        vertical-align: top;\n",
       "    }\n",
       "\n",
       "    .dataframe thead th {\n",
       "        text-align: right;\n",
       "    }\n",
       "</style>\n",
       "<table border=\"1\" class=\"dataframe\">\n",
       "  <thead>\n",
       "    <tr style=\"text-align: right;\">\n",
       "      <th></th>\n",
       "      <th>A</th>\n",
       "      <th>B</th>\n",
       "      <th>C</th>\n",
       "    </tr>\n",
       "  </thead>\n",
       "  <tbody>\n",
       "    <tr>\n",
       "      <th>0</th>\n",
       "      <td>43.0</td>\n",
       "      <td>1.0</td>\n",
       "      <td>NaN</td>\n",
       "    </tr>\n",
       "    <tr>\n",
       "      <th>1</th>\n",
       "      <td>59.0</td>\n",
       "      <td>20.0</td>\n",
       "      <td>32.0</td>\n",
       "    </tr>\n",
       "    <tr>\n",
       "      <th>2</th>\n",
       "      <td>NaN</td>\n",
       "      <td>NaN</td>\n",
       "      <td>6.0</td>\n",
       "    </tr>\n",
       "    <tr>\n",
       "      <th>3</th>\n",
       "      <td>6.0</td>\n",
       "      <td>43.0</td>\n",
       "      <td>4.0</td>\n",
       "    </tr>\n",
       "    <tr>\n",
       "      <th>4</th>\n",
       "      <td>3.0</td>\n",
       "      <td>NaN</td>\n",
       "      <td>NaN</td>\n",
       "    </tr>\n",
       "    <tr>\n",
       "      <th>5</th>\n",
       "      <td>NaN</td>\n",
       "      <td>32.0</td>\n",
       "      <td>2.0</td>\n",
       "    </tr>\n",
       "  </tbody>\n",
       "</table>\n",
       "</div>"
      ],
      "text/plain": [
       "      A     B     C\n",
       "0  43.0   1.0   NaN\n",
       "1  59.0  20.0  32.0\n",
       "2   NaN   NaN   6.0\n",
       "3   6.0  43.0   4.0\n",
       "4   3.0   NaN   NaN\n",
       "5   NaN  32.0   2.0"
      ]
     },
     "execution_count": 59,
     "metadata": {},
     "output_type": "execute_result"
    }
   ],
   "source": [
    "df_filling_1 = pd.DataFrame({'A': [43, 59, np.nan, 6, 3, np.nan],\n",
    "       'B':[1, 20, np.nan, 43, np.nan, 32], 'C':[np.nan, 32, 6, 4, np.nan, 2]})\n",
    "\n",
    "df_filling_1.bfill()\n",
    "\n",
    "df_filling_1"
   ]
  },
  {
   "cell_type": "code",
   "execution_count": 61,
   "id": "3f33cc53-b32c-4fab-a367-1f571bf8f27d",
   "metadata": {},
   "outputs": [
    {
     "data": {
      "text/html": [
       "<div>\n",
       "<style scoped>\n",
       "    .dataframe tbody tr th:only-of-type {\n",
       "        vertical-align: middle;\n",
       "    }\n",
       "\n",
       "    .dataframe tbody tr th {\n",
       "        vertical-align: top;\n",
       "    }\n",
       "\n",
       "    .dataframe thead th {\n",
       "        text-align: right;\n",
       "    }\n",
       "</style>\n",
       "<table border=\"1\" class=\"dataframe\">\n",
       "  <thead>\n",
       "    <tr style=\"text-align: right;\">\n",
       "      <th></th>\n",
       "      <th>A</th>\n",
       "      <th>B</th>\n",
       "      <th>C</th>\n",
       "    </tr>\n",
       "  </thead>\n",
       "  <tbody>\n",
       "    <tr>\n",
       "      <th>0</th>\n",
       "      <td>43.0</td>\n",
       "      <td>1.0</td>\n",
       "      <td>32.0</td>\n",
       "    </tr>\n",
       "    <tr>\n",
       "      <th>1</th>\n",
       "      <td>59.0</td>\n",
       "      <td>20.0</td>\n",
       "      <td>32.0</td>\n",
       "    </tr>\n",
       "    <tr>\n",
       "      <th>2</th>\n",
       "      <td>6.0</td>\n",
       "      <td>43.0</td>\n",
       "      <td>6.0</td>\n",
       "    </tr>\n",
       "    <tr>\n",
       "      <th>3</th>\n",
       "      <td>6.0</td>\n",
       "      <td>43.0</td>\n",
       "      <td>4.0</td>\n",
       "    </tr>\n",
       "    <tr>\n",
       "      <th>4</th>\n",
       "      <td>3.0</td>\n",
       "      <td>32.0</td>\n",
       "      <td>2.0</td>\n",
       "    </tr>\n",
       "    <tr>\n",
       "      <th>5</th>\n",
       "      <td>NaN</td>\n",
       "      <td>32.0</td>\n",
       "      <td>2.0</td>\n",
       "    </tr>\n",
       "  </tbody>\n",
       "</table>\n",
       "</div>"
      ],
      "text/plain": [
       "      A     B     C\n",
       "0  43.0   1.0  32.0\n",
       "1  59.0  20.0  32.0\n",
       "2   6.0  43.0   6.0\n",
       "3   6.0  43.0   4.0\n",
       "4   3.0  32.0   2.0\n",
       "5   NaN  32.0   2.0"
      ]
     },
     "execution_count": 61,
     "metadata": {},
     "output_type": "execute_result"
    }
   ],
   "source": [
    "df_filling_backfill = pd.DataFrame({'A':[43,59,np.nan,6,3,np.nan],\n",
    "'B':[1,20,np.nan,43,np.nan,32],'C':[np.nan,32,6,4,np.nan,2]})\n",
    "df_filling_backfill.bfill()"
   ]
  },
  {
   "cell_type": "markdown",
   "id": "404d34df-1202-4bda-8fbd-4a97e721ca5d",
   "metadata": {},
   "source": [
    "# Numpy introduction"
   ]
  },
  {
   "cell_type": "code",
   "execution_count": 62,
   "id": "a6233569-2c69-4531-837e-27f20d5b7a72",
   "metadata": {},
   "outputs": [
    {
     "data": {
      "text/plain": [
       "array([['CVX', 2000],\n",
       "       ['EXXON', 5000],\n",
       "       ['CVX', 10000],\n",
       "       ['EXXON', 45000],\n",
       "       ['GE', 60000],\n",
       "       ['GE', 20000]], dtype=object)"
      ]
     },
     "execution_count": 62,
     "metadata": {},
     "output_type": "execute_result"
    }
   ],
   "source": [
    "import numpy as np\n",
    "\n",
    "A = [1,2,3,4,5,6,7,8,9,10]\n",
    "np.array(a)"
   ]
  },
  {
   "cell_type": "code",
   "execution_count": 63,
   "id": "a192fc74-d83a-43fa-9735-cbd3a41008b0",
   "metadata": {},
   "outputs": [
    {
     "data": {
      "text/plain": [
       "array([ 1,  2,  3,  4,  5,  6,  7,  8,  9, 10])"
      ]
     },
     "execution_count": 63,
     "metadata": {},
     "output_type": "execute_result"
    }
   ],
   "source": [
    "np.array(A)"
   ]
  },
  {
   "cell_type": "code",
   "execution_count": 64,
   "id": "f2bcc75d-e613-46c3-9565-66cb56639f39",
   "metadata": {},
   "outputs": [
    {
     "data": {
      "text/plain": [
       "array([[1, 2, 3],\n",
       "       [4, 5, 6],\n",
       "       [7, 8, 9]])"
      ]
     },
     "execution_count": 64,
     "metadata": {},
     "output_type": "execute_result"
    }
   ],
   "source": [
    "# A two-dimensional array can also be generated as follows:\n",
    "\n",
    "B = [[1,2,3],[4,5,6],[7,8,9]]\n",
    "np.array(B)"
   ]
  },
  {
   "cell_type": "markdown",
   "id": "c51b756f-6bb9-4944-beca-08f24d2f5f2c",
   "metadata": {},
   "source": [
    "There are various built-in functions such as np.arange that can be used to\n",
    "generate an array. For instance, to generate an array starting with 0, ending\n",
    "with 40, and every 5 increments, the following lines of code can be applied:"
   ]
  },
  {
   "cell_type": "code",
   "execution_count": 65,
   "id": "b52c0166-e0e0-4b49-833e-6390a1ae3a2c",
   "metadata": {},
   "outputs": [
    {
     "data": {
      "text/plain": [
       "array([ 0,  5, 10, 15, 20, 25, 30, 35])"
      ]
     },
     "execution_count": 65,
     "metadata": {},
     "output_type": "execute_result"
    }
   ],
   "source": [
    "np.arange(0,40,5)"
   ]
  },
  {
   "cell_type": "code",
   "execution_count": 66,
   "id": "dd24625c-c1b5-47d4-b830-0e3895ffb7e2",
   "metadata": {},
   "outputs": [
    {
     "data": {
      "text/plain": [
       "array([0., 0., 0., 0., 0.])"
      ]
     },
     "execution_count": 66,
     "metadata": {},
     "output_type": "execute_result"
    }
   ],
   "source": [
    "np.zeros(5)"
   ]
  },
  {
   "cell_type": "code",
   "execution_count": 67,
   "id": "6a2384d7-27c9-4ea7-bfe9-bd4c8bc8e44d",
   "metadata": {},
   "outputs": [
    {
     "data": {
      "text/plain": [
       "array([1., 1., 1., 1., 1.])"
      ]
     },
     "execution_count": 67,
     "metadata": {},
     "output_type": "execute_result"
    }
   ],
   "source": [
    "np.ones(5)"
   ]
  },
  {
   "cell_type": "code",
   "execution_count": 68,
   "id": "2530d44a-38a2-40fd-8b8a-48062dbe34c5",
   "metadata": {},
   "outputs": [
    {
     "data": {
      "text/plain": [
       "array([[1., 1., 1., 1., 1.],\n",
       "       [1., 1., 1., 1., 1.],\n",
       "       [1., 1., 1., 1., 1.],\n",
       "       [1., 1., 1., 1., 1.],\n",
       "       [1., 1., 1., 1., 1.]])"
      ]
     },
     "execution_count": 68,
     "metadata": {},
     "output_type": "execute_result"
    }
   ],
   "source": [
    "np.ones((5,5))"
   ]
  },
  {
   "cell_type": "markdown",
   "id": "18251044-9abb-45d8-afb7-4960374d776f",
   "metadata": {},
   "source": [
    "* Another useful numpy function is np.linspace which can be used to create\n",
    "an np array starting with a certain value, ending with another value, and having\n",
    "a number of increments in between.\n",
    "* For example, let’s create an array from\n",
    "0 to 20 and dividing it into 10 equal increments as follows:"
   ]
  },
  {
   "cell_type": "code",
   "execution_count": 70,
   "id": "39e913d3-eecc-4e5a-b1a3-61ff83d34972",
   "metadata": {},
   "outputs": [
    {
     "data": {
      "text/plain": [
       "array([ 0.        ,  2.22222222,  4.44444444,  6.66666667,  8.88888889,\n",
       "       11.11111111, 13.33333333, 15.55555556, 17.77777778, 20.        ])"
      ]
     },
     "execution_count": 70,
     "metadata": {},
     "output_type": "execute_result"
    }
   ],
   "source": [
    "np.linspace(0,20,10)"
   ]
  },
  {
   "cell_type": "markdown",
   "id": "faeb9982-c0f5-49a1-9b51-e8c22bde84e0",
   "metadata": {},
   "source": [
    "# identity matrix (also called unit matrix)"
   ]
  },
  {
   "cell_type": "code",
   "execution_count": 71,
   "id": "f0d1b18d-112e-45d6-ba74-80400dae78b5",
   "metadata": {},
   "outputs": [
    {
     "data": {
      "text/plain": [
       "array([[1., 0., 0.],\n",
       "       [0., 1., 0.],\n",
       "       [0., 0., 1.]])"
      ]
     },
     "execution_count": 71,
     "metadata": {},
     "output_type": "execute_result"
    }
   ],
   "source": [
    "np.eye(3)"
   ]
  },
  {
   "cell_type": "markdown",
   "id": "68b357d1-5c71-487b-b2e4-83b70ac31b2a",
   "metadata": {},
   "source": [
    "# Random number generation using numpy"
   ]
  },
  {
   "cell_type": "code",
   "execution_count": 72,
   "id": "a89567bd-af4a-431f-9cea-d62f18aea486",
   "metadata": {},
   "outputs": [
    {
     "data": {
      "text/plain": [
       "array([0.54340494, 0.27836939, 0.42451759, 0.84477613, 0.00471886])"
      ]
     },
     "execution_count": 72,
     "metadata": {},
     "output_type": "execute_result"
    }
   ],
   "source": [
    "seed = 100\n",
    "np.random.seed(seed)\n",
    "np.random.rand(5)"
   ]
  },
  {
   "cell_type": "code",
   "execution_count": 73,
   "id": "acd4a9f2-1146-48e6-bb4e-4eeea8dec54a",
   "metadata": {},
   "outputs": [
    {
     "data": {
      "text/plain": [
       "array([[0.54340494, 0.27836939, 0.42451759, 0.84477613, 0.00471886],\n",
       "       [0.12156912, 0.67074908, 0.82585276, 0.13670659, 0.57509333],\n",
       "       [0.89132195, 0.20920212, 0.18532822, 0.10837689, 0.21969749],\n",
       "       [0.97862378, 0.81168315, 0.17194101, 0.81622475, 0.27407375],\n",
       "       [0.43170418, 0.94002982, 0.81764938, 0.33611195, 0.17541045]])"
      ]
     },
     "execution_count": 73,
     "metadata": {},
     "output_type": "execute_result"
    }
   ],
   "source": [
    "seed = 100\n",
    "# Putting seed as argument means the same set of random numbers will be generated anytime\n",
    "np.random.seed(seed)\n",
    "\n",
    "# generating random numbers to fill a 5x5 matrix\n",
    "np.random.rand(5,5)"
   ]
  },
  {
   "cell_type": "markdown",
   "id": "0b37fcbc-1b13-41b4-8214-80d6bdea3660",
   "metadata": {},
   "source": [
    "If the generated random number is desired to have a normal or Gaussian\n",
    "distribution, just add \"n\" at the end of \"np.random.rand\" as follows:\n",
    "***\"np.random.randn\":***"
   ]
  },
  {
   "cell_type": "code",
   "execution_count": 74,
   "id": "9a793f46-262e-4854-a0f3-bc5bb8412fa0",
   "metadata": {},
   "outputs": [
    {
     "data": {
      "text/plain": [
       "array([-1.74976547,  0.3426804 ,  1.1530358 , -0.25243604,  0.98132079])"
      ]
     },
     "execution_count": 74,
     "metadata": {},
     "output_type": "execute_result"
    }
   ],
   "source": [
    "seed = 100\n",
    "np.random.seed(seed)\n",
    "\n",
    "np.random.randn(5)"
   ]
  },
  {
   "cell_type": "code",
   "execution_count": 75,
   "id": "822de682-8379-4b8e-87ee-5f0e2dc65015",
   "metadata": {},
   "outputs": [
    {
     "data": {
      "text/plain": [
       "array([[-1.74976547,  0.3426804 ,  1.1530358 , -0.25243604,  0.98132079],\n",
       "       [ 0.51421884,  0.22117967, -1.07004333, -0.18949583,  0.25500144],\n",
       "       [-0.45802699,  0.43516349, -0.58359505,  0.81684707,  0.67272081],\n",
       "       [-0.10441114, -0.53128038,  1.02973269, -0.43813562, -1.11831825],\n",
       "       [ 1.61898166,  1.54160517, -0.25187914, -0.84243574,  0.18451869]])"
      ]
     },
     "execution_count": 75,
     "metadata": {},
     "output_type": "execute_result"
    }
   ],
   "source": [
    "seed = 100\n",
    "np.random.seed(seed)\n",
    "\n",
    "np.random.randn(5,5)"
   ]
  },
  {
   "cell_type": "code",
   "execution_count": 77,
   "id": "c060538a-8e73-4948-8481-2eed73203b87",
   "metadata": {},
   "outputs": [
    {
     "data": {
      "text/plain": [
       "array([468, 182, 335,   1,  14, 186, 461, 363, 132,  71])"
      ]
     },
     "execution_count": 77,
     "metadata": {},
     "output_type": "execute_result"
    }
   ],
   "source": [
    "# An integer random number can also be generated using np.random.randint()\n",
    "\n",
    "np.random.randint(1, 500, 10)"
   ]
  },
  {
   "cell_type": "code",
   "execution_count": 78,
   "id": "167262aa-8bd9-4e36-907b-fe0bd807bb06",
   "metadata": {},
   "outputs": [
    {
     "data": {
      "text/plain": [
       "array([[20, 21],\n",
       "       [22, 23],\n",
       "       [24, 25],\n",
       "       [26, 27],\n",
       "       [28, 29]])"
      ]
     },
     "execution_count": 78,
     "metadata": {},
     "output_type": "execute_result"
    }
   ],
   "source": [
    "A = np.arange(20,30)\n",
    "\n",
    "A.reshape(5,2)"
   ]
  },
  {
   "cell_type": "markdown",
   "id": "7f196cf1-800a-430e-af7a-bd4fadf2a6d3",
   "metadata": {},
   "source": [
    "* A.min() = to obtain the minimum value in the A array\n",
    "* A.max() = to obtain the maximum value in the A array\n",
    "* A.argmin() = to obtain the location of the minimum value in the A array\n",
    "* A.argmax() = to obtain the location of the maximum value in the A array\n",
    "* A.std() = to obtain the standard deviation in the A array\n",
    "* A.mean() = to obtain the mean in the A array"
   ]
  },
  {
   "cell_type": "markdown",
   "id": "7361f2de-4ea2-4f45-ae5f-1b598238bee2",
   "metadata": {},
   "source": [
    "# Numpy indexing and selection"
   ]
  },
  {
   "cell_type": "code",
   "execution_count": 79,
   "id": "e75b429f-0c39-4072-bddf-bd4c7c3daed1",
   "metadata": {},
   "outputs": [
    {
     "data": {
      "text/plain": [
       "array([30, 31, 32, 33, 34, 35, 36, 37, 38, 39, 40])"
      ]
     },
     "execution_count": 79,
     "metadata": {},
     "output_type": "execute_result"
    }
   ],
   "source": [
    "X = np.arange(30,41)\n",
    "X"
   ]
  },
  {
   "cell_type": "code",
   "execution_count": 80,
   "id": "f5530bf4-1dc5-46a3-8b04-46b8203af0cc",
   "metadata": {},
   "outputs": [
    {
     "data": {
      "text/plain": [
       "array([30, 31, 32, 33, 34, 35, 36])"
      ]
     },
     "execution_count": 80,
     "metadata": {},
     "output_type": "execute_result"
    }
   ],
   "source": [
    "X[0:7]"
   ]
  },
  {
   "cell_type": "code",
   "execution_count": 81,
   "id": "ddbfb425-98d0-4ff2-8598-6187b4aaa74b",
   "metadata": {},
   "outputs": [
    {
     "data": {
      "text/plain": [
       "array([30, 31, 32, 33, 34, 35, 36, 37, 38, 39, 40])"
      ]
     },
     "execution_count": 81,
     "metadata": {},
     "output_type": "execute_result"
    }
   ],
   "source": [
    "X[:]"
   ]
  },
  {
   "cell_type": "code",
   "execution_count": 82,
   "id": "7a7feb71-8f00-467e-811b-7bde2c064156",
   "metadata": {},
   "outputs": [
    {
     "data": {
      "text/plain": [
       "array([32, 33, 34, 35, 36, 37, 38, 39, 40])"
      ]
     },
     "execution_count": 82,
     "metadata": {},
     "output_type": "execute_result"
    }
   ],
   "source": [
    "X[2:]"
   ]
  },
  {
   "cell_type": "code",
   "execution_count": 84,
   "id": "ba0cbd2e-a222-4ea8-9c18-d3c5911acdeb",
   "metadata": {},
   "outputs": [
    {
     "data": {
      "text/plain": [
       "array([60, 62, 64, 66, 68, 70, 72, 74, 76, 78, 80])"
      ]
     },
     "execution_count": 84,
     "metadata": {},
     "output_type": "execute_result"
    }
   ],
   "source": [
    "Y = X.copy()*2\n",
    "Y"
   ]
  },
  {
   "cell_type": "code",
   "execution_count": 85,
   "id": "257119bb-90e9-49ea-8630-f4b151d0c2f3",
   "metadata": {},
   "outputs": [
    {
     "name": "stdout",
     "output_type": "stream",
     "text": [
      "[60 62 64 66 68 70 72 74 76 78 80]\n"
     ]
    }
   ],
   "source": [
    "print(Y)"
   ]
  },
  {
   "cell_type": "code",
   "execution_count": 86,
   "id": "b91ce474-4cd2-467e-a951-01bcc2c20a2d",
   "metadata": {},
   "outputs": [
    {
     "data": {
      "text/plain": [
       "array([1000, 1000, 1000, 1000, 1000,   70,   72,   74,   76,   78,   80])"
      ]
     },
     "execution_count": 86,
     "metadata": {},
     "output_type": "execute_result"
    }
   ],
   "source": [
    "Y[0:5] = 1000\n",
    "Y"
   ]
  },
  {
   "cell_type": "code",
   "execution_count": 87,
   "id": "c264625a-c19e-4bb9-a537-5df0c13d327d",
   "metadata": {},
   "outputs": [
    {
     "ename": "ValueError",
     "evalue": "could not broadcast input array from shape (4,) into shape (5,)",
     "output_type": "error",
     "traceback": [
      "\u001b[1;31m---------------------------------------------------------------------------\u001b[0m",
      "\u001b[1;31mValueError\u001b[0m                                Traceback (most recent call last)",
      "Cell \u001b[1;32mIn[87], line 1\u001b[0m\n\u001b[1;32m----> 1\u001b[0m w \u001b[38;5;241m=\u001b[39m Y[\u001b[38;5;241m0\u001b[39m:\u001b[38;5;241m5\u001b[39m] \u001b[38;5;241m=\u001b[39m [\u001b[38;5;241m1\u001b[39m,\u001b[38;5;241m5\u001b[39m,\u001b[38;5;241m25\u001b[39m,\u001b[38;5;241m125\u001b[39m]\n",
      "\u001b[1;31mValueError\u001b[0m: could not broadcast input array from shape (4,) into shape (5,)"
     ]
    }
   ],
   "source": [
    "w = Y[0:5] = [1,5,25,125]"
   ]
  },
  {
   "cell_type": "code",
   "execution_count": 89,
   "id": "a7a10d73-6a5f-4a34-87c0-1c136bf1715d",
   "metadata": {},
   "outputs": [
    {
     "data": {
      "text/plain": [
       "array([[50, 52, 54],\n",
       "       [56, 58, 60],\n",
       "       [62, 64, 66],\n",
       "       [68, 70, 72]])"
      ]
     },
     "execution_count": 89,
     "metadata": {},
     "output_type": "execute_result"
    }
   ],
   "source": [
    "# Indexing can also be applied on 2d arrays.\n",
    "array_2d = np.array([[50,52,54],[56,58,60],[62,64,66],\n",
    "[68,70,72]])\n",
    "array_2d"
   ]
  },
  {
   "cell_type": "code",
   "execution_count": 90,
   "id": "69879018-c0c4-4485-b6f8-2f78eb9ecd8a",
   "metadata": {},
   "outputs": [
    {
     "data": {
      "text/plain": [
       "64"
      ]
     },
     "execution_count": 90,
     "metadata": {},
     "output_type": "execute_result"
    }
   ],
   "source": [
    "array_2d[2,1]"
   ]
  },
  {
   "cell_type": "code",
   "execution_count": 91,
   "id": "29b7ddd0-b11e-4cf6-abae-44d06486a104",
   "metadata": {},
   "outputs": [
    {
     "data": {
      "text/plain": [
       "array([[64, 66],\n",
       "       [70, 72]])"
      ]
     },
     "execution_count": 91,
     "metadata": {},
     "output_type": "execute_result"
    }
   ],
   "source": [
    "array_2d[2:, 1:]"
   ]
  },
  {
   "cell_type": "code",
   "execution_count": 92,
   "id": "26e9669d-e300-4eb0-b2e3-7b8b74f15509",
   "metadata": {},
   "outputs": [
    {
     "data": {
      "text/plain": [
       "array([68, 70])"
      ]
     },
     "execution_count": 92,
     "metadata": {},
     "output_type": "execute_result"
    }
   ],
   "source": [
    "# To get 68 and 70:\n",
    "\n",
    "array_2d[3, 0:2]"
   ]
  },
  {
   "cell_type": "code",
   "execution_count": 95,
   "id": "3f1a5758-242c-40c3-a247-1e0844e8f5ca",
   "metadata": {},
   "outputs": [
    {
     "data": {
      "text/plain": [
       "array([[132, 213, 208, 395, 216, 496, 445, 132, 362, 177],\n",
       "       [181, 300,  37, 262, 328,  39, 215,  95, 227, 171],\n",
       "       [341,  96, 115, 238, 120,  77, 290, 315, 103, 427],\n",
       "       [407, 257, 251, 184, 227, 404, 310, 197, 447, 307],\n",
       "       [453, 420, 408, 254,  10, 433, 497, 278, 410, 439],\n",
       "       [263, 166, 359, 123, 117, 187, 296, 108, 223, 308],\n",
       "       [287, 378,  67, 244, 409, 440, 274, 302, 486,  90],\n",
       "       [430, 292,  17,  13, 343, 467, 110, 493,  68, 221],\n",
       "       [224, 277, 139, 265, 474, 201, 415, 397, 147, 350],\n",
       "       [376,  93,  45, 246,  58, 384, 257,  74, 233, 183]])"
      ]
     },
     "execution_count": 95,
     "metadata": {},
     "output_type": "execute_result"
    }
   ],
   "source": [
    "array_2dd = np.array([[132, 213, 208, 395, 216, 496, 445, 132, 362, 177],\n",
    "       [181, 300,  37, 262, 328,  39, 215,  95, 227, 171],\n",
    "       [341,  96, 115, 238, 120,  77, 290, 315, 103, 427],\n",
    "       [407, 257, 251, 184, 227, 404, 310, 197, 447, 307],\n",
    "       [453, 420, 408, 254,  10, 433, 497, 278, 410, 439],\n",
    "       [263, 166, 359, 123, 117, 187, 296, 108, 223, 308],\n",
    "       [287, 378,  67, 244, 409, 440, 274, 302, 486,  90],\n",
    "       [430, 292,  17,  13, 343, 467, 110, 493,  68, 221],\n",
    "       [224, 277, 139, 265, 474, 201, 415, 397, 147, 350],\n",
    "       [376,  93,  45, 246,  58, 384, 257,  74, 233, 183]])\n",
    "\n",
    "array_2dd"
   ]
  },
  {
   "cell_type": "code",
   "execution_count": 96,
   "id": "b6952f4f-101f-4159-8734-97c4bee3ad7d",
   "metadata": {},
   "outputs": [
    {
     "data": {
      "text/plain": [
       "array([[274, 302, 486,  90],\n",
       "       [110, 493,  68, 221],\n",
       "       [415, 397, 147, 350],\n",
       "       [257,  74, 233, 183]])"
      ]
     },
     "execution_count": 96,
     "metadata": {},
     "output_type": "execute_result"
    }
   ],
   "source": [
    "# Accessing the bottom-right-corner 4x4 matrix:\n",
    "\n",
    "array_2dd[6:, 6:]"
   ]
  },
  {
   "cell_type": "code",
   "execution_count": 97,
   "id": "57e7a890-ff70-4525-b7b2-eeeba75300cd",
   "metadata": {},
   "outputs": [
    {
     "data": {
      "text/plain": [
       "array([[68, 75, 73],\n",
       "       [68, 82, 71],\n",
       "       [78, 71, 68]])"
      ]
     },
     "execution_count": 97,
     "metadata": {},
     "output_type": "execute_result"
    }
   ],
   "source": [
    "seed = 2\n",
    "np.random.seed(seed)\n",
    "\n",
    "array_1d = np.random.randint(60,84, 9)\n",
    "array_1d.reshape(3,3)"
   ]
  },
  {
   "cell_type": "code",
   "execution_count": null,
   "id": "af1390c8-b24d-44a3-9ef1-172f0c35689a",
   "metadata": {},
   "outputs": [],
   "source": []
  }
 ],
 "metadata": {
  "kernelspec": {
   "display_name": "Python 3 (ipykernel)",
   "language": "python",
   "name": "python3"
  },
  "language_info": {
   "codemirror_mode": {
    "name": "ipython",
    "version": 3
   },
   "file_extension": ".py",
   "mimetype": "text/x-python",
   "name": "python",
   "nbconvert_exporter": "python",
   "pygments_lexer": "ipython3",
   "version": "3.11.7"
  }
 },
 "nbformat": 4,
 "nbformat_minor": 5
}
